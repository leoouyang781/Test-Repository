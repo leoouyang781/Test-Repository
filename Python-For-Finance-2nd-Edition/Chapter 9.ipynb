{
 "cells": [
  {
   "cell_type": "markdown",
   "metadata": {},
   "source": [
    "# Chapter 9: Portfolio Theory\n",
    "\n",
    "Understanding portfolio theory is very important in learning finance. It is well\n",
    "known that don't put all your eggs in one basket, that is, it is a great idea to diversify\n",
    "away your risk. However, very few know the implied assumption behind such a\n",
    "famous idiom. In this chapter, we will discuss various risk measures for individual\n",
    "stocks or portfolios, such as Sharpe ratio, Treynor ratio, Sortino ratio, how to\n",
    "minimize portfolio risk based on those measures (ratios), how to set up an objective\n",
    "function, how to choose an efficient portfolio for a given set of stocks, and how to\n",
    "construct an efficient frontier. Our focus is on how to apply portfolio theory by using\n",
    "real-world data. For instance, today we have $2 million cash and plan to purchase\n",
    "IBM and Walmart stocks. If we have 30% invested in the first one and the rest in the\n",
    "second, what is our portfolio risk? What is the least risky portfolio that we could\n",
    "form based on those two stocks? How about 10 or 500 stocks? In this chapter, the\n",
    "following topics will be covered:\n",
    "\n",
    "• Introduction to portfolio theory\n",
    "\n",
    "• A 2-stock portfolio\n",
    "\n",
    "• N-stock portfolio\n",
    "\n",
    "• Correlation versus diversification effect\n",
    "\n",
    "• Producing a return matrix\n",
    "\n",
    "• Generating an optimal portfolio based on Sharpe ratio, Treynor ratio, and\n",
    "Sortinor ratio\n",
    "\n",
    "• Constructing an efficient frontier\n",
    "\n",
    "• Modigliani and Modigliani performance measure (M2 measure)"
   ]
  },
  {
   "cell_type": "markdown",
   "metadata": {},
   "source": [
    "## Intro to Portfolio Theory\n",
    "\n",
    "The keyword for the portfolio theory is diversification, while the keyword for\n",
    "diversification is correlation. In other words, correlation is used to measure how\n",
    "closely two stocks or portfolios are moving together. The objective of portfolio\n",
    "theory is to allocate our assets optimally with respect to risk and return. Markowitz\n",
    "(1952) argues that we should consider only the first two moments of a security's\n",
    "return distribution: mean and variance. For financial markets, several important\n",
    "assumptions are made, such as stock markets are inefficient, a typical investor is\n",
    "rational, and an arbitrage opportunity would not last long. For the preferences\n",
    "between two stocks, for a given risk, a rational investor would prefer stock with\n",
    "a higher expected return; for a given return, a rational investor prefers stock with\n",
    "a lower risk level. Sometimes, a single period portfolio optimization is called\n",
    "Markowitz Portfolio Optimization. The input includes a return matrix, and a variance\n",
    "and covariance matrix, while the output is an efficient portfolio. By connecting\n",
    "numerous efficient portfolios, an efficient frontier is formed. Here, we start with the\n",
    "simplest scenario: a two-stock portfolio."
   ]
  },
  {
   "cell_type": "markdown",
   "metadata": {},
   "source": [
    "## Two Stock Portfolio\n",
    "\n",
    "The rest of the notes are on google docs - this is simply for analyzing results. Assume that the volatilities (standard deviations) of two stocks are 0.06 and 0.24 and they are perfectively negatively correlated. What are two weights in order to form a\n",
    "zero-risk portfolio? There exist several methods to find a solution.\n",
    "\n",
    "Method 1: we could manually find a solution: plug in given values into Equation (3)\n",
    "and set it equal to zero where x=x1 and x2=1-x:"
   ]
  },
  {
   "cell_type": "code",
   "execution_count": 338,
   "metadata": {},
   "outputs": [
    {
     "name": "stdout",
     "output_type": "stream",
     "text": [
      "x1= 5.449489742783178\n",
      "x2= 0.5505102572168221\n"
     ]
    }
   ],
   "source": [
    "import scipy as sp\n",
    "import numpy as np\n",
    "a=1\n",
    "b=6\n",
    "c=3\n",
    "inside=b**2-4*a*c\n",
    "if inside>0:\n",
    "    squared=np.sqrt(inside)\n",
    "print(\"x1=\",(b+squared)/(2*a))\n",
    "print(\"x2=\",(b-squared)/(2*a))"
   ]
  },
  {
   "cell_type": "markdown",
   "metadata": {},
   "source": [
    "Method 2: For a given pair of standard deviations (or a pair of variances) plus a\n",
    "correlation between those two stocks, we generate many weights for stock 1, such as\n",
    "0, 0.001, 0.002, 0.003, and the like. Remember that w2=1-w1. By applying Equation (3),\n",
    "we estimate the variances of this 2-stock portfolio. Our final solution will be the pair\n",
    "of w1 and w2 achieving the minimum portfolio variance, see the following code:"
   ]
  },
  {
   "cell_type": "code",
   "execution_count": 339,
   "metadata": {},
   "outputs": [
    {
     "name": "stdout",
     "output_type": "stream",
     "text": [
      "min vol= 9.313225746154785e-10 w1= 0.8\n"
     ]
    }
   ],
   "source": [
    "sigma1=0.06\n",
    "sigma2=0.24\n",
    "var1=sigma1**2\n",
    "var2=sigma2**2\n",
    "rho=-1\n",
    "n=1000\n",
    "portVar=10 # assign a big number\n",
    "tiny=1.0/n # start by assigning a weight of 0.001 to stock 1, gradually increase\n",
    "\n",
    "for i in np.arange(n):\n",
    "    w1=i*tiny\n",
    "    w2=1-w1\n",
    "    var= w1**2*var1 +w2**2*var2+2*w1*w2*rho*sigma1*sigma2\n",
    "    if(var<portVar):\n",
    "        portVar=var\n",
    "        finalW1=w1\n",
    "#print(vol)\n",
    "print(\"min vol=\",np.sqrt(portVar), \"w1=\",finalW1)\n"
   ]
  },
  {
   "cell_type": "markdown",
   "metadata": {},
   "source": [
    "First, the result confirms our previous result with w1=0.8 and w2=0.2. In the\n",
    "program, we have 1000 pairs of w1 and w2. A small value, called tiny, is\n",
    "1/1000=0.001. The first pair of two weights is 0.1% and 99.9%. A very big number\n",
    "is assigned to our solution variable, that is, as an initial value. In this program,\n",
    "portVar=10. Other big numbers would work perfectly, such as 100. Here is the logic:\n",
    "based on the first pair of w1 and w2, we estimate the portfolio variance. If this new\n",
    "portfolio variance is less than portVar, we replace portVar with this new value\n",
    "and record w1 as well. If the new portfolio variance is bigger than portVar, we do\n",
    "nothing. Repeat the same procedure until we finish the loop. Here is an analogy.\n",
    "Assume that we want to find the tallest person among 1,000 persons. Assume that\n",
    "we have a variable call tallestPerson and its initial vale is 0.1 inch. Since every\n",
    "person will be taller than this value, the first person's height will replace this value. If\n",
    "the next person's height is higher than this variable, we replace it. Otherwise, we go\n",
    "to the next one. The procedure is repeated until the last person. In terms of efficiency,\n",
    "one small trick is to estimate var1 and var2 just once.\n",
    "\n",
    "In finance, it is a convention to use both variance and standard deviation to represent\n",
    "risk, since they describe uncertainty. Usually, we use standard deviation of returns\n",
    "to represent the volatility. It is a good idea to look at the impact of correlation on\n",
    "the efficient frontier."
   ]
  },
  {
   "cell_type": "code",
   "execution_count": 340,
   "metadata": {},
   "outputs": [
    {
     "name": "stdout",
     "output_type": "stream",
     "text": [
      "[[1.         0.28505213]\n",
      " [0.28505213 1.        ]]\n"
     ]
    }
   ],
   "source": [
    "\n",
    "np.random.seed(123)\n",
    "n=1000\n",
    "rho=0.3\n",
    "x1=np.random.normal(size=n)\n",
    "x2=np.random.normal(size=n)\n",
    "y1=x1\n",
    "y2=rho*x1+np.sqrt(1-rho**2)*x2\n",
    "print(np.corrcoef(y1,y2))"
   ]
  },
  {
   "cell_type": "markdown",
   "metadata": {},
   "source": [
    "## Optimization – minimization\n",
    "\n",
    "Before discussing how to generate an optimal portfolio, it is necessary to study a\n",
    "few optimization functions. In the following example, we minimize our objective\n",
    "function of y:\n",
    "\n",
    "y = 3.2 + 5 x^2\n",
    "\n",
    "First we wil display the graph."
   ]
  },
  {
   "cell_type": "code",
   "execution_count": 341,
   "metadata": {},
   "outputs": [
    {
     "data": {
      "image/png": "[encoded data removed]",
      "text/plain": [
       "<Figure size 640x480 with 1 Axes>"
      ]
     },
     "metadata": {},
     "output_type": "display_data"
    }
   ],
   "source": [
    "import matplotlib.pyplot as plt\n",
    "x=np.arange(-5,5,0.01)\n",
    "a=3.2\n",
    "b=5.0\n",
    "y=a+b*x**2\n",
    "plt.plot(x,y)\n",
    "plt.title(\"y= \"+str(a)+\"+\"+str(b)+\"x^2\")\n",
    "plt.ylabel(\"y\")\n",
    "plt.xlabel(\"x\")\n",
    "plt.show()"
   ]
  },
  {
   "cell_type": "markdown",
   "metadata": {},
   "source": [
    "To make the program more general, two coefficients of a and b are generated.\n",
    "Apparently, since the power of x is 2, y is minimized only when x is 0. The Python\n",
    "code for minimization is as follows:"
   ]
  },
  {
   "cell_type": "code",
   "execution_count": 342,
   "metadata": {},
   "outputs": [
    {
     "name": "stdout",
     "output_type": "stream",
     "text": [
      "Optimization terminated successfully.\n",
      "         Current function value: 3.200000\n",
      "         Iterations: 24\n",
      "         Function evaluations: 48\n"
     ]
    },
    {
     "name": "stderr",
     "output_type": "stream",
     "text": [
      "/var/folders/k4/npf5jb1d4x13y6z87pdgxb9m0000gp/T/ipykernel_8955/1904061227.py:5: OptimizeWarning: Unknown solver options: xtol\n",
      "  res = minimize(myFunction,x0,method='nelder-mead',options={'xtol':1e8,'disp': True})\n"
     ]
    }
   ],
   "source": [
    "from scipy.optimize import minimize\n",
    "def myFunction(x):\n",
    "    return (3.2+5*x**2)\n",
    "x0=100\n",
    "res = minimize(myFunction,x0,method='nelder-mead',options={'xtol':1e8,'disp': True})\n"
   ]
  },
  {
   "cell_type": "markdown",
   "metadata": {},
   "source": [
    "The output shows that the function value is 3.2, and it is achieved by assigning 0 to x.\n",
    "\n",
    "In the preceding program, the major function used is called the scipy.optimize.\n",
    "minimize() function. The first input is our objective function. In this case, it is our y\n",
    "function. The second value is our input value, that is, initial value. Since there is only\n",
    "one independent variable of x for the y function, x0 is a scalar. For the third input\n",
    "value, method, we have several choices: NelderMead. This algorithm is robust in many applications.\n",
    "However, if numerical computation of derivative can be trusted, other\n",
    "algorithms using the first and/or second derivatives information might be\n",
    "preferred for their better performance in general."
   ]
  },
  {
   "cell_type": "markdown",
   "metadata": {},
   "source": [
    "The next example is using the scipy.optimize.brent() function on an exponential\n",
    "function minimization, see the code followed by the objective function:"
   ]
  },
  {
   "cell_type": "code",
   "execution_count": 343,
   "metadata": {},
   "outputs": [
    {
     "data": {
      "image/png": "[encoded data removed]",
      "text/plain": [
       "<Figure size 640x480 with 1 Axes>"
      ]
     },
     "metadata": {},
     "output_type": "display_data"
    }
   ],
   "source": [
    "from scipy import optimize\n",
    "import numpy as np\n",
    "import matplotlib.pyplot as plt\n",
    "# define a function\n",
    "a=3.4\n",
    "b=2.0\n",
    "c=0.8\n",
    "def f(x):\n",
    "    return a-b*np.exp(-(x - c)**2)\n",
    "x=np.arange(-3,3,0.1)\n",
    "y=f(x)\n",
    "plt.title(\"y=a-b*exp(-(x-c)^2)\")\n",
    "plt.xlabel(\"x\")\n",
    "plt.ylabel(\"y\")\n",
    "plt.plot(x,y)\n",
    "plt.show()"
   ]
  },
  {
   "cell_type": "code",
   "execution_count": 344,
   "metadata": {},
   "outputs": [
    {
     "name": "stdout",
     "output_type": "stream",
     "text": [
      "0.7999999995280379\n"
     ]
    }
   ],
   "source": [
    "# find the minimum\n",
    "solution= optimize.brent(f)\n",
    "print(solution)"
   ]
  },
  {
   "cell_type": "markdown",
   "metadata": {},
   "source": [
    "In economics and finance, there is an important concept called utility. One of the\n",
    "major reasons to design such a concept is that for many situations, we could not\n",
    "quantify certain effects, such as happiness, willingness, risk preference, wellness,\n",
    "emotion, and the like. For example, your boss asks you to work extra hours on\n",
    "Friday and promises you a bonus. Assume that its value is x dollar per hour and\n",
    "you are happy with it. If the task is urgent, your boss might ask for more hours.\n",
    "Assume that you have to work on Saturday. Do you think the same x dollar per\n",
    "hour would make your happy? For most workers the extra bonus should be higher\n",
    "than x since they would think that they have sacrificed more now than just a Friday\n",
    "evening. Usually, a utility function could be defined as the different between benefits\n",
    "and costs. The marginal benefit is a decreasing function of our input. It means the\n",
    "extra dollar received is not as valuable of the previous dollar. On the other hand,\n",
    "the marginal cost will be an increasing function of your input. When you asked to\n",
    "contribute extra work, the appropriate monetary incentive would go higher. "
   ]
  },
  {
   "cell_type": "markdown",
   "metadata": {},
   "source": [
    "Consider the utility function:\n",
    "U = E(R) - 1/2*(A)*σ^2"
   ]
  },
  {
   "cell_type": "markdown",
   "metadata": {},
   "source": [
    "Here, U is the utility function, E(R) is the expected portfolio return and we could\n",
    "use its mean to approximate, A is the risk-averse coefficient, and σ2 is the variance\n",
    "of the portfolio. When the expected return is higher, our utility is higher. The\n",
    "opposite is true: when the risk of our portfolio is higher the utility is lower. The key\n",
    "is A, which represents the risk-tolerance. With the same expected return and risk\n",
    "level, a more risk-reverse investor (a higher A) would experience a lower utility.\n",
    "Generally speaking, the objective is to balance the benefits (expected returns) with\n",
    "risk (variance).\n",
    "\n",
    "Assume that we have a set of stocks, such as International Business Machine (IBM),\n",
    "Walmart (WMT), and Citi Group (C). Based on the preceding utility function, which\n",
    "stock should we choose for different given risk preference? The code is given here:"
   ]
  },
  {
   "cell_type": "code",
   "execution_count": 345,
   "metadata": {},
   "outputs": [
    {
     "name": "stdout",
     "output_type": "stream",
     "text": [
      "[*********************100%***********************]  1 of 1 completed\n",
      "Ticker:  IBM\n",
      "1.0031240118345808\n",
      "[*********************100%***********************]  1 of 1 completed\n",
      "Ticker:  WMT\n",
      "1.055601072536255\n",
      "[*********************100%***********************]  1 of 1 completed\n",
      "Ticker:  C\n",
      "1.170674702632156\n"
     ]
    }
   ],
   "source": [
    "import yfinance as yf\n",
    "import datetime\n",
    "import numpy as np\n",
    "import pandas as pd\n",
    "import scipy as sp\n",
    "tickers=('IBM','WMT','C') # tickers\n",
    "begdate=datetime.date(2012,1,1) # beginning date\n",
    "enddate=datetime.date(2016,12,31) # ending date\n",
    "n=len(tickers) # number of observations\n",
    "\n",
    "A=1 # risk preference\n",
    "\n",
    "def ret_f(ticker,begdate,enddte):\n",
    "    x=yf.download(ticker,start = begdate,end = enddate,rounding = True)\n",
    "    ret = x['Adj Close'].pct_change().dropna()\n",
    "    return ret\n",
    "\n",
    "def myUtilityFunction(ret,A=1):\n",
    "    meanDaily=np.mean(ret)\n",
    "    varDaily=np.var(ret)\n",
    "    meanAnnual=(1+meanDaily)**252\n",
    "    varAnnual=varDaily*252\n",
    "    return meanAnnual- 0.5*A*varAnnual\n",
    "\n",
    "for i in np.arange(n):\n",
    "    ret=ret_f(tickers[i],begdate,enddate)\n",
    "    print(\"Ticker: \", tickers[i])\n",
    "    print(myUtilityFunction(ret,A))"
   ]
  },
  {
   "cell_type": "markdown",
   "metadata": {},
   "source": [
    "In the preceding program, the mean and standard deviation are both annualized.\n",
    "The value of 252 represents the number of trading days per year. The time period\n",
    "used is from 1/1/2012 to 12/31/2016, that is, a five-year period. The output is shown\n",
    "here. \n",
    "\n",
    "Assuming high risk tolerance - A = 1, the following holds. Based on the concept of utility, investors prefer stock with the highest utility - hence in this case would choose \"C\" (Citi Group).\n",
    "\n",
    "On the other hand, if A=10 (very risk averse), walmart is preferable.\n",
    "\n",
    "The result suggests that such an investor should choose the second stock, that is,\n",
    "Walmart as our sole investment. This is consistent with our common sense, see their\n",
    "corresponding mean returns and risk levels:"
   ]
  },
  {
   "cell_type": "code",
   "execution_count": 346,
   "metadata": {},
   "outputs": [
    {
     "name": "stdout",
     "output_type": "stream",
     "text": [
      "meanAnnual,          varAnnual\n",
      "[*********************100%***********************]  1 of 1 completed\n",
      "Ticker:  IBM\n",
      "(1.020520987392962, 0.034793982398487446)\n",
      "[*********************100%***********************]  1 of 1 completed\n",
      "Ticker:  WMT\n",
      "(1.0695209297849069, 0.027839532774399607)\n",
      "[*********************100%***********************]  1 of 1 completed\n",
      "Ticker:  C\n",
      "(1.2086146782740537, 0.07587996541041771)\n"
     ]
    }
   ],
   "source": [
    "import pandas as pd\n",
    "\n",
    "tickers=('IBM','WMT','C') # tickers\n",
    "begdate=datetime.date(2012,1,1) # beginning date\n",
    "enddate=datetime.date(2016,12,31) # ending date\n",
    "n=len(tickers) # number of observations\n",
    "\n",
    "def ret_f(ticker,begdate,enddte):\n",
    "    x=yf.download(ticker,start=begdate,end=enddate,rounding = True)\n",
    "    ret =x['Adj Close'].pct_change().dropna()\n",
    "    return ret\n",
    "def meanVarAnnual(ret):\n",
    "    meanDaily=np.mean(ret)\n",
    "    varDaily=np.var(ret)\n",
    "    meanAnnual=(1+meanDaily)**252\n",
    "    varAnnual=varDaily*252\n",
    "    return meanAnnual, varAnnual\n",
    "\n",
    "print(\"meanAnnual,          varAnnual\")\n",
    "for i in np.arange(n):\n",
    "    ret=ret_f(tickers[i],begdate,enddate)\n",
    "    print(\"Ticker: \", tickers[i])\n",
    "    print(meanVarAnnual(ret))"
   ]
  },
  {
   "cell_type": "markdown",
   "metadata": {},
   "source": [
    "In the preceding program, a function called meanVarAnnual() is generated that\n",
    "delivers annualized mean return and annualized volatility. Let's compare the last\n",
    "two stocks. The second stock is less risky than the third one at the same time; it\n",
    "has a higher risk than the third stock. The mean annual return of the second stock\n",
    "decreases by 12%, however, its variance decreases by 63%. The consequence is that\n",
    "utility increased.\n",
    "\n",
    "For portfolio optimization, or Markowitz Portfolio Optimization, our input datasets\n",
    "include: expected returns, standard deviations, and correlation matrix. The output\n",
    "will be an optimal portfolio. By connecting those efficient portfolios, an efficient\n",
    "frontier could be constructed. In the rest of this chapter, we use historical returns\n",
    "to represent expected returns and use the historical correlation in the place of\n",
    "expected correlation."
   ]
  },
  {
   "cell_type": "markdown",
   "metadata": {},
   "source": [
    "# Forming an N-stock portfolio\n",
    "\n",
    "The code below demonstrates one possible approach to the matter"
   ]
  },
  {
   "cell_type": "code",
   "execution_count": 347,
   "metadata": {},
   "outputs": [
    {
     "name": "stdout",
     "output_type": "stream",
     "text": [
      "[*********************100%***********************]  1 of 1 completed\n",
      "IBM\n",
      "[*********************100%***********************]  1 of 1 completed\n",
      "dell\n",
      "[*********************100%***********************]  1 of 1 completed\n",
      "WMT\n",
      "[*********************100%***********************]  1 of 1 completed\n"
     ]
    },
    {
     "data": {
      "text/html": [
       "<div>\n",
       "<style scoped>\n",
       "    .dataframe tbody tr th:only-of-type {\n",
       "        vertical-align: middle;\n",
       "    }\n",
       "\n",
       "    .dataframe tbody tr th {\n",
       "        vertical-align: top;\n",
       "    }\n",
       "\n",
       "    .dataframe thead th {\n",
       "        text-align: right;\n",
       "    }\n",
       "</style>\n",
       "<table border=\"1\" class=\"dataframe\">\n",
       "  <thead>\n",
       "    <tr style=\"text-align: right;\">\n",
       "      <th></th>\n",
       "      <th>^GSPC</th>\n",
       "      <th>IBM</th>\n",
       "      <th>dell</th>\n",
       "      <th>WMT</th>\n",
       "    </tr>\n",
       "    <tr>\n",
       "      <th>Date</th>\n",
       "      <th></th>\n",
       "      <th></th>\n",
       "      <th></th>\n",
       "      <th></th>\n",
       "    </tr>\n",
       "  </thead>\n",
       "  <tbody>\n",
       "    <tr>\n",
       "      <th>2016-08-17</th>\n",
       "      <td>2182.22</td>\n",
       "      <td>108.70</td>\n",
       "      <td>11.39</td>\n",
       "      <td>21.15</td>\n",
       "    </tr>\n",
       "    <tr>\n",
       "      <th>2016-08-18</th>\n",
       "      <td>2187.02</td>\n",
       "      <td>109.33</td>\n",
       "      <td>11.32</td>\n",
       "      <td>21.55</td>\n",
       "    </tr>\n",
       "    <tr>\n",
       "      <th>2016-08-19</th>\n",
       "      <td>2183.87</td>\n",
       "      <td>108.43</td>\n",
       "      <td>11.52</td>\n",
       "      <td>21.12</td>\n",
       "    </tr>\n",
       "    <tr>\n",
       "      <th>2016-08-22</th>\n",
       "      <td>2182.64</td>\n",
       "      <td>108.41</td>\n",
       "      <td>11.56</td>\n",
       "      <td>21.08</td>\n",
       "    </tr>\n",
       "    <tr>\n",
       "      <th>2016-08-23</th>\n",
       "      <td>2186.90</td>\n",
       "      <td>108.58</td>\n",
       "      <td>11.92</td>\n",
       "      <td>20.87</td>\n",
       "    </tr>\n",
       "  </tbody>\n",
       "</table>\n",
       "</div>"
      ],
      "text/plain": [
       "              ^GSPC     IBM   dell    WMT\n",
       "Date                                     \n",
       "2016-08-17  2182.22  108.70  11.39  21.15\n",
       "2016-08-18  2187.02  109.33  11.32  21.55\n",
       "2016-08-19  2183.87  108.43  11.52  21.12\n",
       "2016-08-22  2182.64  108.41  11.56  21.08\n",
       "2016-08-23  2186.90  108.58  11.92  20.87"
      ]
     },
     "execution_count": 347,
     "metadata": {},
     "output_type": "execute_result"
    }
   ],
   "source": [
    "import numpy as np\n",
    "import pandas as pd\n",
    "tickers=['IBM','dell','WMT']\n",
    "market = \"^GSPC\"\n",
    "\n",
    "begdate = datetime.date(1988,1,1)\n",
    "enddate = datetime.date.today()\n",
    "\n",
    "final = yf.download(market, start = begdate, end = enddate, rounding = True)\n",
    "final = pd.DataFrame(final['Adj Close']).rename(columns = {'Adj Close':market})\n",
    "\n",
    "for ticker in tickers:\n",
    "    print(ticker)\n",
    "    x = yf.download(ticker, start = begdate, end = enddate, rounding = True)\n",
    "    x = pd.DataFrame(x['Adj Close']).rename(columns = {'Adj Close':ticker})\n",
    "    final = pd.merge(final, x, left_index = True, right_index = True)\n",
    "\n",
    "final.head()"
   ]
  },
  {
   "cell_type": "code",
   "execution_count": 348,
   "metadata": {},
   "outputs": [
    {
     "data": {
      "text/html": [
       "<div>\n",
       "<style scoped>\n",
       "    .dataframe tbody tr th:only-of-type {\n",
       "        vertical-align: middle;\n",
       "    }\n",
       "\n",
       "    .dataframe tbody tr th {\n",
       "        vertical-align: top;\n",
       "    }\n",
       "\n",
       "    .dataframe thead th {\n",
       "        text-align: right;\n",
       "    }\n",
       "</style>\n",
       "<table border=\"1\" class=\"dataframe\">\n",
       "  <thead>\n",
       "    <tr style=\"text-align: right;\">\n",
       "      <th></th>\n",
       "      <th>^GSPC</th>\n",
       "      <th>IBM</th>\n",
       "      <th>dell</th>\n",
       "      <th>WMT</th>\n",
       "    </tr>\n",
       "    <tr>\n",
       "      <th>Date</th>\n",
       "      <th></th>\n",
       "      <th></th>\n",
       "      <th></th>\n",
       "      <th></th>\n",
       "    </tr>\n",
       "  </thead>\n",
       "  <tbody>\n",
       "    <tr>\n",
       "      <th>2024-02-21</th>\n",
       "      <td>4981.80</td>\n",
       "      <td>179.70</td>\n",
       "      <td>81.39</td>\n",
       "      <td>57.90</td>\n",
       "    </tr>\n",
       "    <tr>\n",
       "      <th>2024-02-22</th>\n",
       "      <td>5087.03</td>\n",
       "      <td>184.21</td>\n",
       "      <td>87.79</td>\n",
       "      <td>58.47</td>\n",
       "    </tr>\n",
       "    <tr>\n",
       "      <th>2024-02-23</th>\n",
       "      <td>5088.80</td>\n",
       "      <td>185.72</td>\n",
       "      <td>90.35</td>\n",
       "      <td>58.52</td>\n",
       "    </tr>\n",
       "    <tr>\n",
       "      <th>2024-02-26</th>\n",
       "      <td>5069.53</td>\n",
       "      <td>184.13</td>\n",
       "      <td>92.77</td>\n",
       "      <td>59.60</td>\n",
       "    </tr>\n",
       "    <tr>\n",
       "      <th>2024-02-27</th>\n",
       "      <td>5078.18</td>\n",
       "      <td>184.87</td>\n",
       "      <td>91.56</td>\n",
       "      <td>59.59</td>\n",
       "    </tr>\n",
       "  </tbody>\n",
       "</table>\n",
       "</div>"
      ],
      "text/plain": [
       "              ^GSPC     IBM   dell    WMT\n",
       "Date                                     \n",
       "2024-02-21  4981.80  179.70  81.39  57.90\n",
       "2024-02-22  5087.03  184.21  87.79  58.47\n",
       "2024-02-23  5088.80  185.72  90.35  58.52\n",
       "2024-02-26  5069.53  184.13  92.77  59.60\n",
       "2024-02-27  5078.18  184.87  91.56  59.59"
      ]
     },
     "execution_count": 348,
     "metadata": {},
     "output_type": "execute_result"
    }
   ],
   "source": [
    "final.tail()"
   ]
  },
  {
   "cell_type": "code",
   "execution_count": 349,
   "metadata": {},
   "outputs": [
    {
     "data": {
      "text/html": [
       "<div>\n",
       "<style scoped>\n",
       "    .dataframe tbody tr th:only-of-type {\n",
       "        vertical-align: middle;\n",
       "    }\n",
       "\n",
       "    .dataframe tbody tr th {\n",
       "        vertical-align: top;\n",
       "    }\n",
       "\n",
       "    .dataframe thead th {\n",
       "        text-align: right;\n",
       "    }\n",
       "</style>\n",
       "<table border=\"1\" class=\"dataframe\">\n",
       "  <thead>\n",
       "    <tr style=\"text-align: right;\">\n",
       "      <th></th>\n",
       "      <th>^GSPC</th>\n",
       "      <th>IBM</th>\n",
       "      <th>dell</th>\n",
       "      <th>WMT</th>\n",
       "    </tr>\n",
       "    <tr>\n",
       "      <th>Date</th>\n",
       "      <th></th>\n",
       "      <th></th>\n",
       "      <th></th>\n",
       "      <th></th>\n",
       "    </tr>\n",
       "  </thead>\n",
       "  <tbody>\n",
       "    <tr>\n",
       "      <th>2024-01-25</th>\n",
       "      <td>4894.16</td>\n",
       "      <td>188.71</td>\n",
       "      <td>83.04</td>\n",
       "      <td>54.28</td>\n",
       "    </tr>\n",
       "  </tbody>\n",
       "</table>\n",
       "</div>"
      ],
      "text/plain": [
       "              ^GSPC     IBM   dell    WMT\n",
       "Date                                     \n",
       "2024-01-25  4894.16  188.71  83.04  54.28"
      ]
     },
     "execution_count": 349,
     "metadata": {},
     "output_type": "execute_result"
    }
   ],
   "source": [
    "final[final.index == '2024-01-25']"
   ]
  },
  {
   "cell_type": "markdown",
   "metadata": {},
   "source": [
    "In the preceding program, we retrieve S&P500 data first. Then stock data is merged\n",
    "with the market index. The major function used is pandas.merge(). Please pay\n",
    "attention to the meanings of two input parameters: left_index=True and right_\n",
    "index=True. They indicate that those two datasets are merged by their indices. In the\n",
    "program, the daily frequency is retrieved. It is quite often that academic researchers and\n",
    "professionals prefer monthly frequency. One of the reasons is that monthly data has\n",
    "little so-called micro-structure effect compared with daily data. The following program\n",
    "uses monthly data.\n",
    "\n",
    "It should be noted that we lack the yanMonthly.pkl file here and will have to improvise accordingly. The following code generates monthly returns for a list of stocks with a given start and end date."
   ]
  },
  {
   "cell_type": "code",
   "execution_count": 350,
   "metadata": {},
   "outputs": [],
   "source": [
    "def monthlyRets(stocks, begdate, enddate):\n",
    "    \"\"\" This function requires a list of stocks as an input, a start, and an enddate. \n",
    "    It will return monthly returns.\"\"\"\n",
    "    market = '^GSPC'\n",
    "    final = yf.download(market, start = begdate, end = enddate, rounding = True)\n",
    "    final = pd.DataFrame(final['Adj Close'].pct_change().fillna(0))\n",
    "    \n",
    "    for ticker in tickers:\n",
    "        x = yf.download(ticker, start = begdate, end = enddate, rounding = True, interval = '1mo')\n",
    "        x = pd.DataFrame(x['Adj Close']).rename(columns = {'Adj Close':ticker})\n",
    "        x['Returns'] = x[ticker].pct_change().fillna(0)\n",
    "        name = ticker + ' Monthly Returns'\n",
    "        x = x.rename(columns={'Returns':name}).drop(columns = [ticker])\n",
    "        final = pd.merge(final, x, left_index = True, right_index = True)\n",
    "    return final.drop(columns = ['Adj Close'])"
   ]
  },
  {
   "cell_type": "code",
   "execution_count": 351,
   "metadata": {},
   "outputs": [
    {
     "name": "stdout",
     "output_type": "stream",
     "text": [
      "[*********************100%***********************]  1 of 1 completed\n",
      "[*********************100%***********************]  1 of 1 completed\n",
      "[*********************100%***********************]  1 of 1 completed\n",
      "[*********************100%***********************]  1 of 1 completed\n",
      "[*********************100%***********************]  1 of 1 completed\n"
     ]
    },
    {
     "data": {
      "text/html": [
       "<div>\n",
       "<style scoped>\n",
       "    .dataframe tbody tr th:only-of-type {\n",
       "        vertical-align: middle;\n",
       "    }\n",
       "\n",
       "    .dataframe tbody tr th {\n",
       "        vertical-align: top;\n",
       "    }\n",
       "\n",
       "    .dataframe thead th {\n",
       "        text-align: right;\n",
       "    }\n",
       "</style>\n",
       "<table border=\"1\" class=\"dataframe\">\n",
       "  <thead>\n",
       "    <tr style=\"text-align: right;\">\n",
       "      <th></th>\n",
       "      <th>AAPL Monthly Returns</th>\n",
       "      <th>GOOG Monthly Returns</th>\n",
       "      <th>IBM Monthly Returns</th>\n",
       "      <th>WMT Monthly Returns</th>\n",
       "    </tr>\n",
       "    <tr>\n",
       "      <th>Date</th>\n",
       "      <th></th>\n",
       "      <th></th>\n",
       "      <th></th>\n",
       "      <th></th>\n",
       "    </tr>\n",
       "  </thead>\n",
       "  <tbody>\n",
       "    <tr>\n",
       "      <th>2004-09-01</th>\n",
       "      <td>0.134615</td>\n",
       "      <td>0.000000</td>\n",
       "      <td>0.014534</td>\n",
       "      <td>0.012755</td>\n",
       "    </tr>\n",
       "    <tr>\n",
       "      <th>2004-10-01</th>\n",
       "      <td>0.338983</td>\n",
       "      <td>0.470588</td>\n",
       "      <td>0.046885</td>\n",
       "      <td>0.013434</td>\n",
       "    </tr>\n",
       "    <tr>\n",
       "      <th>2004-11-01</th>\n",
       "      <td>0.278481</td>\n",
       "      <td>-0.046316</td>\n",
       "      <td>0.049969</td>\n",
       "      <td>-0.034797</td>\n",
       "    </tr>\n",
       "    <tr>\n",
       "      <th>2004-12-01</th>\n",
       "      <td>-0.039604</td>\n",
       "      <td>0.059603</td>\n",
       "      <td>0.047986</td>\n",
       "      <td>0.014592</td>\n",
       "    </tr>\n",
       "    <tr>\n",
       "      <th>2005-02-01</th>\n",
       "      <td>0.172414</td>\n",
       "      <td>-0.039014</td>\n",
       "      <td>-0.008948</td>\n",
       "      <td>-0.014468</td>\n",
       "    </tr>\n",
       "    <tr>\n",
       "      <th>...</th>\n",
       "      <td>...</td>\n",
       "      <td>...</td>\n",
       "      <td>...</td>\n",
       "      <td>...</td>\n",
       "    </tr>\n",
       "    <tr>\n",
       "      <th>2023-08-01</th>\n",
       "      <td>-0.043694</td>\n",
       "      <td>0.031853</td>\n",
       "      <td>0.018329</td>\n",
       "      <td>0.017202</td>\n",
       "    </tr>\n",
       "    <tr>\n",
       "      <th>2023-09-01</th>\n",
       "      <td>-0.087426</td>\n",
       "      <td>-0.040044</td>\n",
       "      <td>-0.033467</td>\n",
       "      <td>-0.013009</td>\n",
       "    </tr>\n",
       "    <tr>\n",
       "      <th>2023-11-01</th>\n",
       "      <td>0.112311</td>\n",
       "      <td>0.068795</td>\n",
       "      <td>0.096239</td>\n",
       "      <td>-0.047356</td>\n",
       "    </tr>\n",
       "    <tr>\n",
       "      <th>2023-12-01</th>\n",
       "      <td>0.014884</td>\n",
       "      <td>0.052345</td>\n",
       "      <td>0.043123</td>\n",
       "      <td>0.012766</td>\n",
       "    </tr>\n",
       "    <tr>\n",
       "      <th>2024-02-01</th>\n",
       "      <td>-0.009557</td>\n",
       "      <td>-0.011989</td>\n",
       "      <td>0.006593</td>\n",
       "      <td>0.081881</td>\n",
       "    </tr>\n",
       "  </tbody>\n",
       "</table>\n",
       "<p>154 rows × 4 columns</p>\n",
       "</div>"
      ],
      "text/plain": [
       "            AAPL Monthly Returns  GOOG Monthly Returns  IBM Monthly Returns  \\\n",
       "Date                                                                          \n",
       "2004-09-01              0.134615              0.000000             0.014534   \n",
       "2004-10-01              0.338983              0.470588             0.046885   \n",
       "2004-11-01              0.278481             -0.046316             0.049969   \n",
       "2004-12-01             -0.039604              0.059603             0.047986   \n",
       "2005-02-01              0.172414             -0.039014            -0.008948   \n",
       "...                          ...                   ...                  ...   \n",
       "2023-08-01             -0.043694              0.031853             0.018329   \n",
       "2023-09-01             -0.087426             -0.040044            -0.033467   \n",
       "2023-11-01              0.112311              0.068795             0.096239   \n",
       "2023-12-01              0.014884              0.052345             0.043123   \n",
       "2024-02-01             -0.009557             -0.011989             0.006593   \n",
       "\n",
       "            WMT Monthly Returns  \n",
       "Date                             \n",
       "2004-09-01             0.012755  \n",
       "2004-10-01             0.013434  \n",
       "2004-11-01            -0.034797  \n",
       "2004-12-01             0.014592  \n",
       "2005-02-01            -0.014468  \n",
       "...                         ...  \n",
       "2023-08-01             0.017202  \n",
       "2023-09-01            -0.013009  \n",
       "2023-11-01            -0.047356  \n",
       "2023-12-01             0.012766  \n",
       "2024-02-01             0.081881  \n",
       "\n",
       "[154 rows x 4 columns]"
      ]
     },
     "execution_count": 351,
     "metadata": {},
     "output_type": "execute_result"
    }
   ],
   "source": [
    "tickers = ['AAPL','GOOG','IBM','WMT']\n",
    "monthlyRets(tickers, '2001-01-01',datetime.date.today())"
   ]
  },
  {
   "cell_type": "markdown",
   "metadata": {},
   "source": [
    "# Constructing an optimal portfolio\n",
    "\n",
    "We can use the sharpe ratio to aid in constructing an \"optimal\" portfolio that balances risk and return. The following program would maximize the Sharpe ratio by changing the weights\n",
    "of the stocks in the portfolio. The whole program could be divided into several parts.\n",
    "The input area is very simple, just several tickers in addition to the beginning and\n",
    "ending dates. Then, we define four functions, convert daily returns into annual ones,\n",
    "estimate a portfolio variance, estimate the Sharpe ratio, and estimate the last (that is,\n",
    "nth) weight when n-1 weights are estimated from our optimization procedure:"
   ]
  },
  {
   "cell_type": "code",
   "execution_count": 352,
   "metadata": {},
   "outputs": [],
   "source": [
    "import scipy as sp\n",
    "from scipy.optimize import fmin\n",
    "\n",
    "ticker = ('IBM','GOOG','WMT','GME','C','BIG') # tickers\n",
    "begdate= datetime.date(1990,1,1) # beginning date\n",
    "enddate= datetime.date(2012,12,31) # ending date\n",
    "rf = 0.0003 # annual risk-free rate"
   ]
  },
  {
   "cell_type": "code",
   "execution_count": 353,
   "metadata": {},
   "outputs": [],
   "source": [
    "# function 1:\n",
    "def ret_annual(ticker,begdate,enddte):\n",
    "    x= yf.download(ticker,start = begdate,end = enddate, rounding = True)\n",
    "    x['logret'] = np.log(1 + x['Adj Close'].pct_change()).fillna(0)\n",
    "    x['Year'] = x.index.strftime(\"%Y\")\n",
    "    return np.exp(x['logret'].groupby(x['Year']).sum())-1"
   ]
  },
  {
   "cell_type": "code",
   "execution_count": 354,
   "metadata": {},
   "outputs": [],
   "source": [
    "# function 2: estimate portfolio variance\n",
    "def portfolio_var(R,w):\n",
    "    cor = np.corrcoef(R.T)\n",
    "    std_dev=np.std(R,axis=0)\n",
    "    var = 0.0\n",
    "    for i in np.arange(n):\n",
    "        for j in np.arange(n):\n",
    "            var += w[i]*w[j]*std_dev[i]*std_dev[j]*cor[i, j]\n",
    "    return var"
   ]
  },
  {
   "cell_type": "code",
   "execution_count": 355,
   "metadata": {},
   "outputs": [],
   "source": [
    "# function 3: estimate Sharpe ratio\n",
    "def sharpe(R,w):\n",
    "    var = portfolio_var(R,w)\n",
    "    mean_return=np.mean(R,axis=0)\n",
    "    ret = np.array(mean_return)\n",
    "    return (np.dot(w,ret) - rf)/np.sqrt(var)"
   ]
  },
  {
   "cell_type": "code",
   "execution_count": 356,
   "metadata": {},
   "outputs": [],
   "source": [
    "# function 4: for given n-1 weights, return a negative sharpe ratio\n",
    "def negative_sharpe_n_minus_1_stock(w):\n",
    "    w2=np.append(w,1-sum(w))\n",
    "    return -sharpe(R,w2) # using a return matrix here!!!!!!"
   ]
  },
  {
   "cell_type": "code",
   "execution_count": 357,
   "metadata": {},
   "outputs": [
    {
     "name": "stdout",
     "output_type": "stream",
     "text": [
      "[*********************100%***********************]  1 of 1 completed\n",
      "[*********************100%***********************]  1 of 1 completed\n",
      "[*********************100%***********************]  1 of 1 completed\n",
      "[*********************100%***********************]  1 of 1 completed\n",
      "[*********************100%***********************]  1 of 1 completed\n",
      "[*********************100%***********************]  1 of 1 completed\n",
      "Efficient porfolio (mean-variance) :ticker used\n",
      "('IBM', 'GOOG', 'WMT', 'GME', 'C', 'BIG')\n",
      "Sharpe ratio for an equal-weighted portfolio\n",
      "[0.16666667 0.16666667 0.16666667 0.16666667 0.16666667 0.16666667]\n",
      "0.710317871060424\n",
      "Optimization terminated successfully.\n",
      "         Current function value: -3.231031\n",
      "         Iterations: 222\n",
      "         Function evaluations: 353\n",
      "Optimal weights are \n",
      "[-0.12669295  0.11620289  0.85181959  0.03769962  0.02786092  0.09310993]\n",
      "final Sharpe ratio is \n",
      "3.231031081085963\n"
     ]
    }
   ],
   "source": [
    "n=len(ticker) # number of stocks\n",
    "x2=pd.DataFrame(ret_annual(ticker[0],begdate,enddate)).rename(columns = {'logret':ticker[0]})\n",
    "for i in range(1,n):\n",
    "    x_=pd.DataFrame(ret_annual(ticker[i],begdate,enddate)).rename(columns = {'logret':ticker[i]})\n",
    "    x2=pd.merge(x2,x_,left_index=True,right_index=True)\n",
    "# using scipy array format\n",
    "R = np.array(x2)\n",
    "print('Efficient porfolio (mean-variance) :ticker used')\n",
    "print(ticker)\n",
    "print('Sharpe ratio for an equal-weighted portfolio')\n",
    "equal_w=np.ones(n, dtype=float) * 1.0 /n\n",
    "print(equal_w)\n",
    "print(sharpe(R,equal_w))\n",
    "\n",
    "# for n stocks, we could only choose n-1 weights\n",
    "\n",
    "w0= np.ones(n-1, dtype=float) * 1.0 /n\n",
    "w1 = fmin(negative_sharpe_n_minus_1_stock,w0)\n",
    "final_w = np.append(w1, 1 - sum(w1))\n",
    "final_sharpe = sharpe(R,final_w)\n",
    "print ('Optimal weights are ')\n",
    "print (final_w)\n",
    "print ('final Sharpe ratio is ')\n",
    "print(final_sharpe)"
   ]
  },
  {
   "cell_type": "code",
   "execution_count": 358,
   "metadata": {},
   "outputs": [
    {
     "data": {
      "text/plain": [
       "array([-0.12669295,  0.11620289,  0.85181959,  0.03769962,  0.02786092])"
      ]
     },
     "execution_count": 358,
     "metadata": {},
     "output_type": "execute_result"
    }
   ],
   "source": [
    "w1"
   ]
  },
  {
   "cell_type": "markdown",
   "metadata": {},
   "source": [
    "In step 2, we estimate annual returns from daily returns. For the optimization, the\n",
    "most important function is the scipy.optimize.fmin() function. The first input for\n",
    "this minimization function is our objective function, negative_sharpe_n_minus_1.\n",
    "Our objective is to maximize a Sharpe Ratio. Since this is a minimization function,\n",
    "it is equivalent to minimize a negative Sharpe ratio. Another issue is that we need\n",
    "n weights to calculate a Sharpe ratio. However, since the summation of n weights is\n",
    "1, we have only n-1 weights as our choice variables. From the following output, we\n",
    "know that if we use a naïve equal-weighted strategy, the Sharpe ratio is 0.67. On the\n",
    "other hand, the Sharpe ratio for our optimal portfolio is 0.70."
   ]
  },
  {
   "cell_type": "markdown",
   "metadata": {},
   "source": [
    "# Constructing an efficient frontier with n stocks\n",
    "\n",
    "Constructing an efficient frontier is always one of the most difficult tasks for\n",
    "finance instructors since the task involves matrix manipulation and a constrained\n",
    "optimization procedure. One efficient frontier could vividly explain the Markowitz\n",
    "Portfolio theory. The following Python program uses five stocks to construct an\n",
    "efficient frontier:"
   ]
  },
  {
   "cell_type": "code",
   "execution_count": 359,
   "metadata": {},
   "outputs": [],
   "source": [
    "import matplotlib.pyplot as plt\n",
    "import numpy as np\n",
    "import pandas as pd\n",
    "import scipy as sp\n",
    "from numpy.linalg import inv, pinv"
   ]
  },
  {
   "cell_type": "markdown",
   "metadata": {},
   "source": [
    "1. Code for input area:"
   ]
  },
  {
   "cell_type": "code",
   "execution_count": 360,
   "metadata": {},
   "outputs": [],
   "source": [
    "begYear,endYear = 2001,2015\n",
    "stocks=['IBM','WMT','AAPL','C','MSFT']"
   ]
  },
  {
   "cell_type": "markdown",
   "metadata": {},
   "source": [
    "2. Code for defining two functions"
   ]
  },
  {
   "cell_type": "code",
   "execution_count": 361,
   "metadata": {},
   "outputs": [],
   "source": [
    "def ret_monthly (ticker):\n",
    "    x= yf.download(ticker,start = datetime.date(begYear, 1,1),end = datetime.date(endYear,12,31), rounding = True)\n",
    "    x['logret'] = np.log(1 + x['Adj Close'].pct_change()).fillna(0)\n",
    "    x['Date'] = x.index.strftime(\"%Y-%m\")\n",
    "    return np.exp(x['logret'].groupby(x['Date']).sum())-1"
   ]
  },
  {
   "cell_type": "code",
   "execution_count": 362,
   "metadata": {},
   "outputs": [],
   "source": [
    "# function 2 - objective function\n",
    "def objFunction(W, R, target_ret):\n",
    "    stock_mean=np.mean(R,axis=0)\n",
    "    port_mean=np.dot(W,stock_mean) # portfolio mean\n",
    "    cov=np.cov(R.T) # var-cov matrix\n",
    "    port_var=np.dot(np.dot(W,cov),W.T) # portfolio variance\n",
    "    penalty = 2000*abs(port_mean-target_ret)# penalty 4 deviation\n",
    "    return np.sqrt(port_var) + penalty # objective function"
   ]
  },
  {
   "cell_type": "markdown",
   "metadata": {},
   "source": [
    "3. Code for generating return matrix R"
   ]
  },
  {
   "cell_type": "code",
   "execution_count": 363,
   "metadata": {},
   "outputs": [
    {
     "name": "stdout",
     "output_type": "stream",
     "text": [
      "[*********************100%***********************]  1 of 1 completed\n",
      "[*********************100%***********************]  1 of 1 completed\n",
      "[*********************100%***********************]  1 of 1 completed\n",
      "[*********************100%***********************]  1 of 1 completed\n",
      "[*********************100%***********************]  1 of 1 completed\n"
     ]
    }
   ],
   "source": [
    "R0=pd.DataFrame(ret_monthly(stocks[0])).rename(columns={'logret':stocks[0]}) # starting from 1st stock\n",
    "n_stock=len(stocks) # number of stocks\n",
    "for i in np.arange(1,n_stock): # merge with other stocks\n",
    "    x=pd.DataFrame(ret_monthly(stocks[i])).rename(columns = {'logret':stocks[i]})\n",
    "    R0=pd.merge(R0,x,left_index=True,right_index=True)\n",
    "    R=np.array(R0)"
   ]
  },
  {
   "cell_type": "markdown",
   "metadata": {},
   "source": [
    "4. Code for estimating optimal portfolios for a given return:"
   ]
  },
  {
   "cell_type": "code",
   "execution_count": 364,
   "metadata": {},
   "outputs": [],
   "source": [
    "out_mean,out_std,out_weight=[],[],[]\n",
    "\n",
    "stockMean=np.mean(R,axis=0)\n",
    "for r in np.linspace(np.min(stockMean),np.max(stockMean),num=100):\n",
    "    W = np.ones([n_stock])/n_stock # starting from equal weights\n",
    "    b_ = [(0,1) for i in range(n_stock)] # bounds, here no short\n",
    "    c_ = ({'type':'eq', 'fun': lambda W: sum(W)-1. })#constraint\n",
    "    result=sp.optimize.minimize(objFunction,W,(R,r),method='SLSQP',constraints=c_, bounds=b_)\n",
    "    if not result.success: # handle error raise\n",
    "        BaseException(result.message)\n",
    "    out_mean.append(round(r,4)) #4 decimal places\n",
    "    std_=round(np.std(np.sum(R*result.x,axis=1)),6)\n",
    "    out_std.append(std_)\n",
    "    out_weight.append(result.x)"
   ]
  },
  {
   "cell_type": "markdown",
   "metadata": {},
   "source": [
    "5. Code for plotting the efficient frontier:"
   ]
  },
  {
   "cell_type": "code",
   "execution_count": 365,
   "metadata": {},
   "outputs": [
    {
     "data": {
      "image/png": "[encoded data removed]",
      "text/plain": [
       "<Figure size 640x480 with 1 Axes>"
      ]
     },
     "metadata": {},
     "output_type": "display_data"
    }
   ],
   "source": [
    "plt.title('Efficient Frontier')\n",
    "plt.xlabel('Standard Deviation of the porfolio (Risk))')\n",
    "plt.ylabel('Return of the portfolio')\n",
    "plt.figtext(0.5,0.5,str(n_stock)+' stock are used: ')\n",
    "plt.figtext(0.5,0.45,' '+str(stocks))\n",
    "plt.figtext(0.5,0.4,'Time period: '+str(begYear)+' ------ '+str(endYear))\n",
    "plt.plot(out_std,out_mean,'--')\n",
    "plt.show()"
   ]
  },
  {
   "cell_type": "markdown",
   "metadata": {},
   "source": [
    "The key to understanding this program is its objective function under the title of function 2: objective function. Our objective is for a given target portfolio mean or\n",
    "expected value, we would minimize our portfolio risk. The first part of the command\n",
    "line of return np.sqrt(port_var) + penalty, is the portfolio variance. There is\n",
    "no ambiguity about the first term. Now, let's turn to the second term called penalty,\n",
    "which is defined as the absolute deviation of the portfolio mean from our target mean\n",
    "times a big number. This is a quite popular way to define our objective function by\n",
    "using an unconstrained optimization procedure. An alternative way is to apply an\n",
    "optimization procedure with constraints. \n"
   ]
  },
  {
   "cell_type": "markdown",
   "metadata": {},
   "source": [
    "In one of the previous programs, our objective function is to maximize a Sharpe ratio.\n",
    "From the previous chapter, we know that when the portfolio under consideration\n",
    "is not all our wealth, Sharpe ratio might not be a good measure. We can use a modified sharpe ratio called the Treynor ratio for analysis. The only modification is that the sigma (total risk) is replaced by beta (market risk)."
   ]
  },
  {
   "cell_type": "code",
   "execution_count": 366,
   "metadata": {},
   "outputs": [],
   "source": [
    "# Step 1: input area\n",
    "ticker=('IBM','WMT','C') # tickers\n",
    "begdate=datetime.date(1990,1,1) # beginning date\n",
    "enddate=datetime.date(2012,12,31) # ending date\n",
    "rf=0.0003 # annual risk-free rate\n",
    "betaGiven=(0.8,0.4,0.3) # given beta's"
   ]
  },
  {
   "cell_type": "code",
   "execution_count": 367,
   "metadata": {},
   "outputs": [],
   "source": [
    "# function 1:\n",
    "def ret_annual(ticker,begdate,enddte):\n",
    "    x= yf.download(ticker,start = begdate,end = enddate, rounding = True)\n",
    "    x['logret'] = np.log(1 + x['Adj Close'].pct_change()).fillna(0)\n",
    "    x['Year'] = x.index.strftime(\"%Y\")\n",
    "    return np.exp(x['logret'].groupby(x['Year']).sum())-1"
   ]
  },
  {
   "cell_type": "code",
   "execution_count": 368,
   "metadata": {},
   "outputs": [],
   "source": [
    "# function 2: estimate porfolio beta\n",
    "def portfolioBeta(betaGiven,w):\n",
    "    #print(\"betaGiven=\",betaGiven,\"w=\",w)\n",
    "    return np.dot(betaGiven,w)"
   ]
  },
  {
   "cell_type": "code",
   "execution_count": 369,
   "metadata": {},
   "outputs": [],
   "source": [
    "# function 3: estimate Treynor\n",
    "def treynor(R,w):\n",
    "    betaP=portfolioBeta(betaGiven,w)\n",
    "    mean_return=np.mean(R,axis=0)\n",
    "    ret = np.array(mean_return)\n",
    "    return (np.dot(w,ret) - rf)/betaP"
   ]
  },
  {
   "cell_type": "code",
   "execution_count": 370,
   "metadata": {},
   "outputs": [],
   "source": [
    "# function 4: for given n-1 weights, return a negative Sharpe ratio\n",
    "def negative_treynor_n_minus_1_stock(w):\n",
    "    w2=np.append(w,1-sum(w))\n",
    "    return -treynor(R,w2) # using a return matrix here!!!!!!"
   ]
  },
  {
   "cell_type": "code",
   "execution_count": 371,
   "metadata": {},
   "outputs": [
    {
     "name": "stdout",
     "output_type": "stream",
     "text": [
      "[*********************100%***********************]  1 of 1 completed\n",
      "[*********************100%***********************]  1 of 1 completed\n",
      "[*********************100%***********************]  1 of 1 completed\n",
      "Efficient porfolio (Treynor ratio) :ticker used\n",
      "('IBM', 'WMT', 'C')\n",
      "Treynor ratio for an equal-weighted portfolio\n",
      "[0.33333333 0.33333333 0.33333333]\n",
      "0.31760528304454516\n",
      "Optimization terminated successfully.\n",
      "         Current function value: -18501812975300520.000000\n",
      "         Iterations: 152\n",
      "         Function evaluations: 339\n",
      "Optimal weights are \n",
      "[-0.69742061  0.48710307  1.21031754]\n",
      "final Sharpe ratio is \n",
      "1.850181297530052e+16\n"
     ]
    }
   ],
   "source": [
    "# Step 3: generate a return matrix (annul return)\n",
    "n=len(ticker) # number of stocks\n",
    "x2=pd.DataFrame(ret_annual(ticker[0],begdate,enddate)).rename(columns={'logret':ticker[0]})\n",
    "for i in range(1,n):\n",
    "    x_=pd.DataFrame(ret_annual(ticker[i],begdate,enddate)).rename(columns={'logret':ticker[i]})\n",
    "    x2=pd.merge(x2,x_,left_index=True,right_index=True)\n",
    "# using scipy array format\n",
    "R = np.array(x2)\n",
    "print('Efficient porfolio (Treynor ratio) :ticker used')\n",
    "print(ticker)\n",
    "print('Treynor ratio for an equal-weighted portfolio')\n",
    "equal_w=np.ones(n, dtype=float) * 1.0 /n\n",
    "print(equal_w)\n",
    "print(treynor(R,equal_w))\n",
    "\n",
    "# for n stocks, we could only choose n-1 weights\n",
    "w0= np.ones(n-1, dtype=float) * 1.0 /n\n",
    "w1 = fmin(negative_treynor_n_minus_1_stock,w0)\n",
    "final_w = np.append(w1, 1 - sum(w1))\n",
    "final_treynor = treynor(R,final_w)\n",
    "print ('Optimal weights are ')\n",
    "print (final_w)\n",
    "print ('final Sharpe ratio is ')\n",
    "print(final_treynor)"
   ]
  },
  {
   "cell_type": "markdown",
   "metadata": {},
   "source": [
    "Another argument against using standard deviation in the Sharpe ratio is that it\n",
    "considers the deviations in both directions, below and above the mean. Nevertheless,\n",
    "we know that investors worry more about the downside risk (deviation below mean\n",
    "return). The second issue for the Sharpe ratio is that for the numerator, we compare\n",
    "mean returns with a risk-free rate. Nevertheless, for the denominator, the deviations\n",
    "are from the mean return instead of the same risk-free rate. To overcome those two\n",
    "shortcomings, a so-called Lower Partial Standard Deviation (LPSD) is developed.\n",
    "Assume we have n returns and one risk-free rate (Rf). Assume further that there are\n",
    "m returns that are less than this risk-free rate."
   ]
  },
  {
   "cell_type": "markdown",
   "metadata": {},
   "source": [
    "The following program shows how to estimate LPSD for a given set of returns:"
   ]
  },
  {
   "cell_type": "code",
   "execution_count": 372,
   "metadata": {},
   "outputs": [
    {
     "name": "stdout",
     "output_type": "stream",
     "text": [
      "LPSD= 0.022416749724544906\n"
     ]
    }
   ],
   "source": [
    "mean=0.15\n",
    "Rf=0.01\n",
    "std=0.20\n",
    "n=200\n",
    "np.random.seed(3412)\n",
    "x=np.random.normal(loc=mean,scale=std,size=n)\n",
    "def LPSD_f(returns, Rf):\n",
    "    y=returns[returns-Rf<0]\n",
    "    m=len(y)\n",
    "    total=0.0\n",
    "    for i in np.arange(m):\n",
    "        total+=(y[i]-Rf)**2\n",
    "    return total/(m-1)\n",
    "answer=LPSD_f(x,Rf)\n",
    "print(\"LPSD=\",answer)"
   ]
  },
  {
   "cell_type": "markdown",
   "metadata": {},
   "source": [
    "Similar to Sharpe ratio and Treynor ratio, the Sortino ratio is defined as follows:\n",
    "\n",
    "(Return(portfolio) - Return(risk free)) / LPSD\n",
    "\n",
    "The following program maximizes the Sortino ratio for a few given stocks:"
   ]
  },
  {
   "cell_type": "code",
   "execution_count": 373,
   "metadata": {},
   "outputs": [],
   "source": [
    "import scipy as sp\n",
    "import numpy as np\n",
    "import pandas as pd\n",
    "from scipy.optimize import fmin"
   ]
  },
  {
   "cell_type": "code",
   "execution_count": 374,
   "metadata": {},
   "outputs": [],
   "source": [
    "# Step 1: input area\n",
    "ticker=('IBM','WMT','C') # tickers\n",
    "begdate=datetime.date(1990,1,1) # beginning date\n",
    "enddate=datetime.date(2012,12,31) # ending date\n",
    "rf=0.0003 # annual risk-free rate\n",
    "#"
   ]
  },
  {
   "cell_type": "code",
   "execution_count": 375,
   "metadata": {},
   "outputs": [],
   "source": [
    "# Step 2: define a few functions\n",
    "# function 1: \n",
    "def ret_annual(ticker,begdate,enddte):\n",
    "    x= yf.download(ticker,start = begdate,end = enddate, rounding = True)\n",
    "    x['logret'] = np.log(1 + x['Adj Close'].pct_change()).fillna(0)\n",
    "    x['Year'] = x.index.strftime(\"%Y\")\n",
    "    return np.exp(x['logret'].groupby(x['Year']).sum())-1"
   ]
  },
  {
   "cell_type": "code",
   "execution_count": 376,
   "metadata": {},
   "outputs": [],
   "source": [
    "# function 2: estimate LPSD\n",
    "def LPSD_f(returns, Rf):\n",
    "    y=returns[returns-Rf<0]\n",
    "    m=len(y)\n",
    "    total=0.0\n",
    "    for i in np.arange(m):\n",
    "        total+=(y[i]-Rf)**2\n",
    "    return total/(m-1)"
   ]
  },
  {
   "cell_type": "code",
   "execution_count": 377,
   "metadata": {},
   "outputs": [],
   "source": [
    "# function 3: estimate Sortino\n",
    "def sortino(R,w):\n",
    "    mean_return=np.mean(R,axis=0)\n",
    "    ret = np.array(mean_return)\n",
    "    LPSD = LPSD_f(R,rf)\n",
    "    return (np.dot(w,ret) - rf)/LPSD"
   ]
  },
  {
   "cell_type": "code",
   "execution_count": 378,
   "metadata": {},
   "outputs": [],
   "source": [
    "# function 4: for given n-1 weights, return a negative sharpe ratio\n",
    "def negative_sortino_n_minus_1_stock(w):\n",
    "    w2=np.append(w,1-sum(w))\n",
    "    return -sortino(R,w2) # using a return matrix here!!!!!!"
   ]
  },
  {
   "cell_type": "code",
   "execution_count": 379,
   "metadata": {},
   "outputs": [
    {
     "name": "stdout",
     "output_type": "stream",
     "text": [
      "[*********************100%***********************]  1 of 1 completed\n",
      "[*********************100%***********************]  1 of 1 completed\n",
      "[*********************100%***********************]  1 of 1 completed\n",
      "Efficient porfolio (mean-variance) :ticker used\n",
      "('IBM', 'WMT', 'C')\n",
      "Sortino ratio for an equal-weighted portfolio\n",
      "[0.33333333 0.33333333 0.33333333]\n",
      "1.5586292748891\n",
      "Optimal weights are \n",
      "[-2.39941371e+43  2.02287451e+43  3.76539200e+42]\n",
      "final Sortino ratio is \n",
      "2.650066050153108e+42\n"
     ]
    },
    {
     "name": "stderr",
     "output_type": "stream",
     "text": [
      "/var/folders/k4/npf5jb1d4x13y6z87pdgxb9m0000gp/T/ipykernel_8955/484859897.py:18: RuntimeWarning: Maximum number of function evaluations has been exceeded.\n",
      "  w1 = fmin(negative_sortino_n_minus_1_stock,w0)\n"
     ]
    }
   ],
   "source": [
    "# Step 3: generate a return matrix (annul return)\n",
    "n=len(ticker) # number of stocks\n",
    "x2=pd.DataFrame(ret_annual(ticker[0],begdate,enddate)).rename(columns={'logret':ticker[0]})\n",
    "for i in range(1,n):\n",
    "    x_=pd.DataFrame(ret_annual(ticker[i],begdate,enddate)).rename(columns={'logret':ticker[i]})\n",
    "    x2=pd.merge(x2,x_,left_index=True,right_index=True)\n",
    "    \n",
    "# using scipy array format\n",
    "R = np.array(x2)\n",
    "print('Efficient porfolio (mean-variance) :ticker used')\n",
    "print(ticker)\n",
    "print('Sortino ratio for an equal-weighted portfolio')\n",
    "equal_w=np.ones(n, dtype=float) * 1.0 /n\n",
    "print(equal_w)\n",
    "print(sortino(R,equal_w))\n",
    "# for n stocks, we could only choose n-1 weights\n",
    "w0= np.ones(n-1, dtype=float) * 1.0 /n\n",
    "w1 = fmin(negative_sortino_n_minus_1_stock,w0)\n",
    "final_w = np.append(w1, 1 - sum(w1))\n",
    "final_sortino = sortino(R,final_w)\n",
    "print ('Optimal weights are ')\n",
    "print (final_w)\n",
    "print ('final Sortino ratio is ')\n",
    "print(final_sortino)"
   ]
  },
  {
   "cell_type": "markdown",
   "metadata": {},
   "source": [
    "Modigliani and Modigliani (1997) propose another performance measure. Their\n",
    "benchmark is a specified market index. The final judgment is whether this new risk-adjusted portfolio is bigger or less than\n",
    "S&P500 mean return. The following Python program achieves this:"
   ]
  },
  {
   "cell_type": "code",
   "execution_count": 380,
   "metadata": {},
   "outputs": [],
   "source": [
    "begdate=datetime.date(2012,1,1)\n",
    "enddate=datetime.date(2016,12,31)\n",
    "ticker='IBM'\n",
    "\n",
    "# function one\n",
    "def ret_f(ticker,begdate,enddte):\n",
    "    x=yf.download(ticker,start=begdate,end=enddte,rounding = True)\n",
    "    ret = x['Adj Close'].pct_change().dropna()\n",
    "    return pd.DataFrame(ret.groupby(ret.index).sum()).rename(columns={'Adj Close':ticker})"
   ]
  },
  {
   "cell_type": "code",
   "execution_count": 381,
   "metadata": {},
   "outputs": [
    {
     "name": "stdout",
     "output_type": "stream",
     "text": [
      "[*********************100%***********************]  1 of 1 completed\n",
      "[*********************100%***********************]  1 of 1 completed\n",
      "                 IBM     ^GSPC\n",
      "Date                          \n",
      "2012-01-04 -0.004110  0.000188\n",
      "2012-01-05 -0.004755  0.002944\n",
      "2012-01-06 -0.011450 -0.002537\n",
      "2012-01-09 -0.005198  0.002262\n",
      "2012-01-10 -0.001558  0.008886\n",
      "IBM      0.000081\n",
      "^GSPC    0.000479\n",
      "dtype: float64\n",
      "[[0.17356136 0.07237753]\n",
      " [0.07237753 0.08238052]]\n"
     ]
    }
   ],
   "source": [
    "a=ret_f(ticker, begdate, enddate)\n",
    "b=ret_f(\"^GSPC\", begdate, enddate)\n",
    "c=pd.merge(a,b,left_index=True, right_index=True)\n",
    "print(c.head())\n",
    "mean=c.mean()\n",
    "print(mean)\n",
    "cov=np.dot(c.T,c)\n",
    "print(cov)"
   ]
  },
  {
   "cell_type": "markdown",
   "metadata": {},
   "source": [
    "There are different weighting schemes to estimate the portfolio returns. The\n",
    "commonly used ones are value-weighed, equal-weighted, and price-weighted. When\n",
    "estimating certain indices, the value-weighted is also called market capitalization\n",
    "weighted. For example, S&P500 returns are value-weighted and Dow Jones\n",
    "Industrial Average is price-weighed. \n",
    "\n",
    "QUICK REMINDER: Refer back to Chapter 6 for a weighted portfolio in case any practice requires it."
   ]
  },
  {
   "cell_type": "markdown",
   "metadata": {},
   "source": [
    " In a sense, a price-weighted portfolio could be\n",
    "viewed as we only have one share for each stock in our portfolio for the same 2-stock\n",
    "portfolio. Last year, stock A (B) has a return of 20% (-10%). If the price of stock\n",
    "A (B) is $10 ($90), then the price-weighted portfolio return would be -7%, that is,\n",
    "0.2*(10/100)-0.1*(90/100). It is obvious that stocks with a higher unit price command\n",
    "a higher weight. Based on the preceding results for IBM and Walmart, the two\n",
    "weights for the price-weighted scheme are 0.9929478; that is, 7.04/(7.04+0.05) and\n",
    "0.007052186. Thus, the price-weighted portfolio return in that month is 0.03830747\n",
    "and 0.9929478*0.04+0.007052186*(-0.2)."
   ]
  },
  {
   "cell_type": "markdown",
   "metadata": {},
   "source": [
    "## Practice\n",
    "\n",
    "7. Find some inefficiencies with the following code:"
   ]
  },
  {
   "cell_type": "code",
   "execution_count": 382,
   "metadata": {},
   "outputs": [
    {
     "name": "stdout",
     "output_type": "stream",
     "text": [
      "min vol = 2.0000000000699553e-05, w1 = 0.714\n"
     ]
    }
   ],
   "source": [
    "import scipy as sp\n",
    "sigma1=0.02\n",
    "sigma2=0.05\n",
    "rho=-1\n",
    "n=1000\n",
    "portVar=10 # assign a big number\n",
    "tiny=1.0/n\n",
    "for i in np.arange(n):\n",
    "    w1=i*tiny\n",
    "    w2=1-w1\n",
    "    var=w1**2*sigma1**2 +w2**2*sigma2**2+2*w1*w2*rho*sigma1*sigma2\n",
    "    if(var<portVar):\n",
    "        portVar=var\n",
    "        finalW1=w1\n",
    "    #print(vol)\n",
    "print(f\"min vol = {np.sqrt(portVar)}, w1 = {finalW1}\")"
   ]
  },
  {
   "cell_type": "markdown",
   "metadata": {},
   "source": [
    "There is no need to import the entire scipy or numpy library for this (arange along could suffice). Likewise, w1 and w2 are potentially redundant variables (though included for the sake of readability). The print statement can also be better formatted."
   ]
  },
  {
   "cell_type": "markdown",
   "metadata": {},
   "source": [
    "8. Covariance vs correlation? See the following code!"
   ]
  },
  {
   "cell_type": "code",
   "execution_count": 383,
   "metadata": {},
   "outputs": [
    {
     "name": "stdout",
     "output_type": "stream",
     "text": [
      "[*********************100%***********************]  1 of 1 completed\n",
      "[*********************100%***********************]  1 of 1 completed\n",
      "[[0.39356012 0.19623862]\n",
      " [0.19623862 1.41415187]]\n",
      "[[1.         0.24300979]\n",
      " [0.24300979 1.        ]]\n"
     ]
    }
   ],
   "source": [
    "stocks = ['IBM','GOOG'] # Compare IBM and GOOGLE\n",
    "R0=pd.DataFrame(ret_monthly(stocks[0])).rename(columns={'logret':stocks[0]}) # starting from 1st stock\n",
    "n_stock=len(stocks) # number of stocks\n",
    "for i in np.arange(1,n_stock): # merge with other stocks\n",
    "    x=pd.DataFrame(ret_monthly(stocks[i])).rename(columns = {'logret':stocks[i]})\n",
    "    R0=pd.merge(R0,x,left_index=True,right_index=True)\n",
    "    R=np.array(R0)\n",
    "\n",
    "R0\n",
    "cov=np.dot(R.T,R)\n",
    "print(cov)\n",
    "\n",
    "cor = np.corrcoef(R.T)\n",
    "print(cor)\n",
    "\n"
   ]
  },
  {
   "cell_type": "markdown",
   "metadata": {},
   "source": [
    "For several stocks such as MSFT, IBM, WMT, ^GSPC, C, A, and AA, estimate their\n",
    "variance-covariance and correlation matrices based on the last five-year\n",
    "monthly returns data, for example, over the last five years. Which two stocks\n",
    "are most strongly correlated?"
   ]
  },
  {
   "cell_type": "code",
   "execution_count": 384,
   "metadata": {},
   "outputs": [
    {
     "name": "stdout",
     "output_type": "stream",
     "text": [
      "[*********************100%***********************]  1 of 1 completed\n",
      "[*********************100%***********************]  1 of 1 completed\n",
      "[*********************100%***********************]  1 of 1 completed\n",
      "[*********************100%***********************]  1 of 1 completed\n",
      "[*********************100%***********************]  1 of 1 completed\n",
      "[*********************100%***********************]  1 of 1 completed\n",
      "[*********************100%***********************]  1 of 1 completed\n"
     ]
    }
   ],
   "source": [
    "stocks = ['MSFT', 'IBM','WMT','^GSPC','C','A','AA'] # Compare IBM and GOOGLE\n",
    "R0=pd.DataFrame(ret_monthly(stocks[0])).rename(columns={'logret':stocks[0]}) # starting from 1st stock\n",
    "n_stock=len(stocks) # number of stocks\n",
    "for i in np.arange(1,n_stock): # merge with other stocks\n",
    "    x=pd.DataFrame(ret_monthly(stocks[i])).rename(columns = {'logret':stocks[i]})\n",
    "    R0=pd.merge(R0,x,left_index=True,right_index=True)\n",
    "    R=np.array(R0)\n",
    "\n",
    "cov = np.dot(R.T,R) # This is NOT the covariance matrix\n",
    "cor = np.corrcoef(R.T)"
   ]
  },
  {
   "cell_type": "code",
   "execution_count": 395,
   "metadata": {},
   "outputs": [
    {
     "data": {
      "text/html": [
       "<div>\n",
       "<style scoped>\n",
       "    .dataframe tbody tr th:only-of-type {\n",
       "        vertical-align: middle;\n",
       "    }\n",
       "\n",
       "    .dataframe tbody tr th {\n",
       "        vertical-align: top;\n",
       "    }\n",
       "\n",
       "    .dataframe thead th {\n",
       "        text-align: right;\n",
       "    }\n",
       "</style>\n",
       "<table border=\"1\" class=\"dataframe\">\n",
       "  <thead>\n",
       "    <tr style=\"text-align: right;\">\n",
       "      <th></th>\n",
       "      <th>MSFT</th>\n",
       "      <th>IBM</th>\n",
       "      <th>WMT</th>\n",
       "      <th>^GSPC</th>\n",
       "      <th>C</th>\n",
       "      <th>A</th>\n",
       "      <th>AA</th>\n",
       "    </tr>\n",
       "  </thead>\n",
       "  <tbody>\n",
       "    <tr>\n",
       "      <th>MSFT</th>\n",
       "      <td>0.006232</td>\n",
       "      <td>0.003067</td>\n",
       "      <td>0.000872</td>\n",
       "      <td>0.002152</td>\n",
       "      <td>0.004469</td>\n",
       "      <td>0.003789</td>\n",
       "      <td>0.003836</td>\n",
       "    </tr>\n",
       "    <tr>\n",
       "      <th>IBM</th>\n",
       "      <td>0.003067</td>\n",
       "      <td>0.005042</td>\n",
       "      <td>0.001001</td>\n",
       "      <td>0.001900</td>\n",
       "      <td>0.003378</td>\n",
       "      <td>0.003792</td>\n",
       "      <td>0.003350</td>\n",
       "    </tr>\n",
       "    <tr>\n",
       "      <th>WMT</th>\n",
       "      <td>0.000872</td>\n",
       "      <td>0.001001</td>\n",
       "      <td>0.002622</td>\n",
       "      <td>0.000777</td>\n",
       "      <td>0.001657</td>\n",
       "      <td>0.000938</td>\n",
       "      <td>0.001420</td>\n",
       "    </tr>\n",
       "    <tr>\n",
       "      <th>^GSPC</th>\n",
       "      <td>0.002152</td>\n",
       "      <td>0.001900</td>\n",
       "      <td>0.000777</td>\n",
       "      <td>0.001889</td>\n",
       "      <td>0.003797</td>\n",
       "      <td>0.003291</td>\n",
       "      <td>0.003299</td>\n",
       "    </tr>\n",
       "    <tr>\n",
       "      <th>C</th>\n",
       "      <td>0.004469</td>\n",
       "      <td>0.003378</td>\n",
       "      <td>0.001657</td>\n",
       "      <td>0.003797</td>\n",
       "      <td>0.016601</td>\n",
       "      <td>0.005864</td>\n",
       "      <td>0.005622</td>\n",
       "    </tr>\n",
       "    <tr>\n",
       "      <th>A</th>\n",
       "      <td>0.003789</td>\n",
       "      <td>0.003792</td>\n",
       "      <td>0.000938</td>\n",
       "      <td>0.003291</td>\n",
       "      <td>0.005864</td>\n",
       "      <td>0.012917</td>\n",
       "      <td>0.006188</td>\n",
       "    </tr>\n",
       "    <tr>\n",
       "      <th>AA</th>\n",
       "      <td>0.003836</td>\n",
       "      <td>0.003350</td>\n",
       "      <td>0.001420</td>\n",
       "      <td>0.003299</td>\n",
       "      <td>0.005622</td>\n",
       "      <td>0.006188</td>\n",
       "      <td>0.010868</td>\n",
       "    </tr>\n",
       "  </tbody>\n",
       "</table>\n",
       "</div>"
      ],
      "text/plain": [
       "           MSFT       IBM       WMT     ^GSPC         C         A        AA\n",
       "MSFT   0.006232  0.003067  0.000872  0.002152  0.004469  0.003789  0.003836\n",
       "IBM    0.003067  0.005042  0.001001  0.001900  0.003378  0.003792  0.003350\n",
       "WMT    0.000872  0.001001  0.002622  0.000777  0.001657  0.000938  0.001420\n",
       "^GSPC  0.002152  0.001900  0.000777  0.001889  0.003797  0.003291  0.003299\n",
       "C      0.004469  0.003378  0.001657  0.003797  0.016601  0.005864  0.005622\n",
       "A      0.003789  0.003792  0.000938  0.003291  0.005864  0.012917  0.006188\n",
       "AA     0.003836  0.003350  0.001420  0.003299  0.005622  0.006188  0.010868"
      ]
     },
     "execution_count": 395,
     "metadata": {},
     "output_type": "execute_result"
    }
   ],
   "source": [
    "# Dataframes have a built in Covariance matrix function. Make sure to use them!\n",
    "R0.cov()"
   ]
  },
  {
   "cell_type": "code",
   "execution_count": 399,
   "metadata": {},
   "outputs": [
    {
     "data": {
      "text/html": [
       "<div>\n",
       "<style scoped>\n",
       "    .dataframe tbody tr th:only-of-type {\n",
       "        vertical-align: middle;\n",
       "    }\n",
       "\n",
       "    .dataframe tbody tr th {\n",
       "        vertical-align: top;\n",
       "    }\n",
       "\n",
       "    .dataframe thead th {\n",
       "        text-align: right;\n",
       "    }\n",
       "</style>\n",
       "<table border=\"1\" class=\"dataframe\">\n",
       "  <thead>\n",
       "    <tr style=\"text-align: right;\">\n",
       "      <th></th>\n",
       "      <th>MSFT</th>\n",
       "      <th>IBM</th>\n",
       "      <th>WMT</th>\n",
       "      <th>^GSPC</th>\n",
       "      <th>C</th>\n",
       "      <th>A</th>\n",
       "      <th>AA</th>\n",
       "    </tr>\n",
       "  </thead>\n",
       "  <tbody>\n",
       "    <tr>\n",
       "      <th>MSFT</th>\n",
       "      <td>1.000000</td>\n",
       "      <td>0.547120</td>\n",
       "      <td>0.215670</td>\n",
       "      <td>0.627322</td>\n",
       "      <td>0.439393</td>\n",
       "      <td>0.422324</td>\n",
       "      <td>0.466138</td>\n",
       "    </tr>\n",
       "    <tr>\n",
       "      <th>IBM</th>\n",
       "      <td>0.547120</td>\n",
       "      <td>1.000000</td>\n",
       "      <td>0.275220</td>\n",
       "      <td>0.615867</td>\n",
       "      <td>0.369184</td>\n",
       "      <td>0.469797</td>\n",
       "      <td>0.452495</td>\n",
       "    </tr>\n",
       "    <tr>\n",
       "      <th>WMT</th>\n",
       "      <td>0.215670</td>\n",
       "      <td>0.275220</td>\n",
       "      <td>1.000000</td>\n",
       "      <td>0.349145</td>\n",
       "      <td>0.251097</td>\n",
       "      <td>0.161211</td>\n",
       "      <td>0.266027</td>\n",
       "    </tr>\n",
       "    <tr>\n",
       "      <th>^GSPC</th>\n",
       "      <td>0.627322</td>\n",
       "      <td>0.615867</td>\n",
       "      <td>0.349145</td>\n",
       "      <td>1.000000</td>\n",
       "      <td>0.678075</td>\n",
       "      <td>0.666306</td>\n",
       "      <td>0.728117</td>\n",
       "    </tr>\n",
       "    <tr>\n",
       "      <th>C</th>\n",
       "      <td>0.439393</td>\n",
       "      <td>0.369184</td>\n",
       "      <td>0.251097</td>\n",
       "      <td>0.678075</td>\n",
       "      <td>1.000000</td>\n",
       "      <td>0.400450</td>\n",
       "      <td>0.418538</td>\n",
       "    </tr>\n",
       "    <tr>\n",
       "      <th>A</th>\n",
       "      <td>0.422324</td>\n",
       "      <td>0.469797</td>\n",
       "      <td>0.161211</td>\n",
       "      <td>0.666306</td>\n",
       "      <td>0.400450</td>\n",
       "      <td>1.000000</td>\n",
       "      <td>0.522237</td>\n",
       "    </tr>\n",
       "    <tr>\n",
       "      <th>AA</th>\n",
       "      <td>0.466138</td>\n",
       "      <td>0.452495</td>\n",
       "      <td>0.266027</td>\n",
       "      <td>0.728117</td>\n",
       "      <td>0.418538</td>\n",
       "      <td>0.522237</td>\n",
       "      <td>1.000000</td>\n",
       "    </tr>\n",
       "  </tbody>\n",
       "</table>\n",
       "</div>"
      ],
      "text/plain": [
       "           MSFT       IBM       WMT     ^GSPC         C         A        AA\n",
       "MSFT   1.000000  0.547120  0.215670  0.627322  0.439393  0.422324  0.466138\n",
       "IBM    0.547120  1.000000  0.275220  0.615867  0.369184  0.469797  0.452495\n",
       "WMT    0.215670  0.275220  1.000000  0.349145  0.251097  0.161211  0.266027\n",
       "^GSPC  0.627322  0.615867  0.349145  1.000000  0.678075  0.666306  0.728117\n",
       "C      0.439393  0.369184  0.251097  0.678075  1.000000  0.400450  0.418538\n",
       "A      0.422324  0.469797  0.161211  0.666306  0.400450  1.000000  0.522237\n",
       "AA     0.466138  0.452495  0.266027  0.728117  0.418538  0.522237  1.000000"
      ]
     },
     "execution_count": 399,
     "metadata": {},
     "output_type": "execute_result"
    }
   ],
   "source": [
    "# Correlation matrix using standard matrix multiplication\n",
    "pd.DataFrame(cor,index = stocks, columns = stocks)"
   ]
  },
  {
   "cell_type": "code",
   "execution_count": 398,
   "metadata": {},
   "outputs": [
    {
     "data": {
      "text/html": [
       "<div>\n",
       "<style scoped>\n",
       "    .dataframe tbody tr th:only-of-type {\n",
       "        vertical-align: middle;\n",
       "    }\n",
       "\n",
       "    .dataframe tbody tr th {\n",
       "        vertical-align: top;\n",
       "    }\n",
       "\n",
       "    .dataframe thead th {\n",
       "        text-align: right;\n",
       "    }\n",
       "</style>\n",
       "<table border=\"1\" class=\"dataframe\">\n",
       "  <thead>\n",
       "    <tr style=\"text-align: right;\">\n",
       "      <th></th>\n",
       "      <th>MSFT</th>\n",
       "      <th>IBM</th>\n",
       "      <th>WMT</th>\n",
       "      <th>^GSPC</th>\n",
       "      <th>C</th>\n",
       "      <th>A</th>\n",
       "      <th>AA</th>\n",
       "    </tr>\n",
       "  </thead>\n",
       "  <tbody>\n",
       "    <tr>\n",
       "      <th>MSFT</th>\n",
       "      <td>1.000000</td>\n",
       "      <td>0.547120</td>\n",
       "      <td>0.215670</td>\n",
       "      <td>0.627322</td>\n",
       "      <td>0.439393</td>\n",
       "      <td>0.422324</td>\n",
       "      <td>0.466138</td>\n",
       "    </tr>\n",
       "    <tr>\n",
       "      <th>IBM</th>\n",
       "      <td>0.547120</td>\n",
       "      <td>1.000000</td>\n",
       "      <td>0.275220</td>\n",
       "      <td>0.615867</td>\n",
       "      <td>0.369184</td>\n",
       "      <td>0.469797</td>\n",
       "      <td>0.452495</td>\n",
       "    </tr>\n",
       "    <tr>\n",
       "      <th>WMT</th>\n",
       "      <td>0.215670</td>\n",
       "      <td>0.275220</td>\n",
       "      <td>1.000000</td>\n",
       "      <td>0.349145</td>\n",
       "      <td>0.251097</td>\n",
       "      <td>0.161211</td>\n",
       "      <td>0.266027</td>\n",
       "    </tr>\n",
       "    <tr>\n",
       "      <th>^GSPC</th>\n",
       "      <td>0.627322</td>\n",
       "      <td>0.615867</td>\n",
       "      <td>0.349145</td>\n",
       "      <td>1.000000</td>\n",
       "      <td>0.678075</td>\n",
       "      <td>0.666306</td>\n",
       "      <td>0.728117</td>\n",
       "    </tr>\n",
       "    <tr>\n",
       "      <th>C</th>\n",
       "      <td>0.439393</td>\n",
       "      <td>0.369184</td>\n",
       "      <td>0.251097</td>\n",
       "      <td>0.678075</td>\n",
       "      <td>1.000000</td>\n",
       "      <td>0.400450</td>\n",
       "      <td>0.418538</td>\n",
       "    </tr>\n",
       "    <tr>\n",
       "      <th>A</th>\n",
       "      <td>0.422324</td>\n",
       "      <td>0.469797</td>\n",
       "      <td>0.161211</td>\n",
       "      <td>0.666306</td>\n",
       "      <td>0.400450</td>\n",
       "      <td>1.000000</td>\n",
       "      <td>0.522237</td>\n",
       "    </tr>\n",
       "    <tr>\n",
       "      <th>AA</th>\n",
       "      <td>0.466138</td>\n",
       "      <td>0.452495</td>\n",
       "      <td>0.266027</td>\n",
       "      <td>0.728117</td>\n",
       "      <td>0.418538</td>\n",
       "      <td>0.522237</td>\n",
       "      <td>1.000000</td>\n",
       "    </tr>\n",
       "  </tbody>\n",
       "</table>\n",
       "</div>"
      ],
      "text/plain": [
       "           MSFT       IBM       WMT     ^GSPC         C         A        AA\n",
       "MSFT   1.000000  0.547120  0.215670  0.627322  0.439393  0.422324  0.466138\n",
       "IBM    0.547120  1.000000  0.275220  0.615867  0.369184  0.469797  0.452495\n",
       "WMT    0.215670  0.275220  1.000000  0.349145  0.251097  0.161211  0.266027\n",
       "^GSPC  0.627322  0.615867  0.349145  1.000000  0.678075  0.666306  0.728117\n",
       "C      0.439393  0.369184  0.251097  0.678075  1.000000  0.400450  0.418538\n",
       "A      0.422324  0.469797  0.161211  0.666306  0.400450  1.000000  0.522237\n",
       "AA     0.466138  0.452495  0.266027  0.728117  0.418538  0.522237  1.000000"
      ]
     },
     "execution_count": 398,
     "metadata": {},
     "output_type": "execute_result"
    }
   ],
   "source": [
    "# Correlation using built-in pandas dataframe function - The results are the same, albiet the operation is simpler\n",
    "R0.corr() "
   ]
  },
  {
   "cell_type": "markdown",
   "metadata": {},
   "source": [
    "We can see here that AA and the GSPC are the most correlated, but when it comes to individual stocks MSFT and IBM are. 12 isn't being done since its obvious correlations between two stocks would differ when using daily vs monthly data.\n"
   ]
  }
 ],
 "metadata": {
  "kernelspec": {
   "display_name": "Python 3",
   "language": "python",
   "name": "python3"
  },
  "language_info": {
   "codemirror_mode": {
    "name": "ipython",
    "version": 3
   },
   "file_extension": ".py",
   "mimetype": "text/x-python",
   "name": "python",
   "nbconvert_exporter": "python",
   "pygments_lexer": "ipython3",
   "version": "3.10.10"
  }
 },
 "nbformat": 4,
 "nbformat_minor": 2
}
