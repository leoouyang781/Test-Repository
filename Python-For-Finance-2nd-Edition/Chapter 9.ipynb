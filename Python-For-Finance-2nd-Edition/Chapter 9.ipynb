{
 "cells": [
  {
   "cell_type": "markdown",
   "metadata": {},
   "source": [
    "# Chapter 9: Portfolio Theory\n",
    "\n",
    "Understanding portfolio theory is very important in learning finance. It is well\n",
    "known that don't put all your eggs in one basket, that is, it is a great idea to diversify\n",
    "away your risk. However, very few know the implied assumption behind such a\n",
    "famous idiom. In this chapter, we will discuss various risk measures for individual\n",
    "stocks or portfolios, such as Sharpe ratio, Treynor ratio, Sortino ratio, how to\n",
    "minimize portfolio risk based on those measures (ratios), how to set up an objective\n",
    "function, how to choose an efficient portfolio for a given set of stocks, and how to\n",
    "construct an efficient frontier. Our focus is on how to apply portfolio theory by using\n",
    "real-world data. For instance, today we have $2 million cash and plan to purchase\n",
    "IBM and Walmart stocks. If we have 30% invested in the first one and the rest in the\n",
    "second, what is our portfolio risk? What is the least risky portfolio that we could\n",
    "form based on those two stocks? How about 10 or 500 stocks? In this chapter, the\n",
    "following topics will be covered:\n",
    "\n",
    "• Introduction to portfolio theory\n",
    "\n",
    "• A 2-stock portfolio\n",
    "\n",
    "• N-stock portfolio\n",
    "\n",
    "• Correlation versus diversification effect\n",
    "\n",
    "• Producing a return matrix\n",
    "\n",
    "• Generating an optimal portfolio based on Sharpe ratio, Treynor ratio, and\n",
    "Sortinor ratio\n",
    "\n",
    "• Constructing an efficient frontier\n",
    "\n",
    "• Modigliani and Modigliani performance measure (M2 measure)"
   ]
  },
  {
   "cell_type": "markdown",
   "metadata": {},
   "source": [
    "## Intro to Portfolio Theory\n",
    "\n",
    "The keyword for the portfolio theory is diversification, while the keyword for\n",
    "diversification is correlation. In other words, correlation is used to measure how\n",
    "closely two stocks or portfolios are moving together. The objective of portfolio\n",
    "theory is to allocate our assets optimally with respect to risk and return. Markowitz\n",
    "(1952) argues that we should consider only the first two moments of a security's\n",
    "return distribution: mean and variance. For financial markets, several important\n",
    "assumptions are made, such as stock markets are inefficient, a typical investor is\n",
    "rational, and an arbitrage opportunity would not last long. For the preferences\n",
    "between two stocks, for a given risk, a rational investor would prefer stock with\n",
    "a higher expected return; for a given return, a rational investor prefers stock with\n",
    "a lower risk level. Sometimes, a single period portfolio optimization is called\n",
    "Markowitz Portfolio Optimization. The input includes a return matrix, and a variance\n",
    "and covariance matrix, while the output is an efficient portfolio. By connecting\n",
    "numerous efficient portfolios, an efficient frontier is formed. Here, we start with the\n",
    "simplest scenario: a two-stock portfolio."
   ]
  },
  {
   "cell_type": "markdown",
   "metadata": {},
   "source": [
    "## Two Stock Portfolio\n",
    "\n",
    "The rest of the notes are on google docs - this is simply for analyzing results. Assume that the volatilities (standard deviations) of two stocks are 0.06 and 0.24 and they are perfectively negatively correlated. What are two weights in order to form a\n",
    "zero-risk portfolio? There exist several methods to find a solution.\n",
    "\n",
    "Method 1: we could manually find a solution: plug in given values into Equation (3)\n",
    "and set it equal to zero where x=x1 and x2=1-x:"
   ]
  },
  {
   "cell_type": "code",
   "execution_count": 2,
   "metadata": {},
   "outputs": [
    {
     "name": "stdout",
     "output_type": "stream",
     "text": [
      "x1= 5.449489742783178\n",
      "x2= 0.5505102572168221\n"
     ]
    }
   ],
   "source": [
    "import scipy as sp\n",
    "import numpy as np\n",
    "a=1\n",
    "b=6\n",
    "c=3\n",
    "inside=b**2-4*a*c\n",
    "if inside>0:\n",
    "    squared=np.sqrt(inside)\n",
    "print(\"x1=\",(b+squared)/(2*a))\n",
    "print(\"x2=\",(b-squared)/(2*a))"
   ]
  },
  {
   "cell_type": "markdown",
   "metadata": {},
   "source": [
    "Method 2: For a given pair of standard deviations (or a pair of variances) plus a\n",
    "correlation between those two stocks, we generate many weights for stock 1, such as\n",
    "0, 0.001, 0.002, 0.003, and the like. Remember that w2=1-w1. By applying Equation (3),\n",
    "we estimate the variances of this 2-stock portfolio. Our final solution will be the pair\n",
    "of w1 and w2 achieving the minimum portfolio variance, see the following code:"
   ]
  },
  {
   "cell_type": "code",
   "execution_count": 4,
   "metadata": {},
   "outputs": [
    {
     "name": "stdout",
     "output_type": "stream",
     "text": [
      "min vol= 9.313225746154785e-10 w1= 0.8\n"
     ]
    }
   ],
   "source": [
    "sigma1=0.06\n",
    "sigma2=0.24\n",
    "var1=sigma1**2\n",
    "var2=sigma2**2\n",
    "rho=-1\n",
    "n=1000\n",
    "portVar=10 # assign a big number\n",
    "tiny=1.0/n # start by assigning a weight of 0.001 to stock 1, gradually increase\n",
    "\n",
    "for i in np.arange(n):\n",
    "    w1=i*tiny\n",
    "    w2=1-w1\n",
    "    var= w1**2*var1 +w2**2*var2+2*w1*w2*rho*sigma1*sigma2\n",
    "    if(var<portVar):\n",
    "        portVar=var\n",
    "        finalW1=w1\n",
    "#print(vol)\n",
    "print(\"min vol=\",np.sqrt(portVar), \"w1=\",finalW1)\n"
   ]
  },
  {
   "cell_type": "markdown",
   "metadata": {},
   "source": [
    "First, the result confirms our previous result with w1=0.8 and w2=0.2. In the\n",
    "program, we have 1000 pairs of w1 and w2. A small value, called tiny, is\n",
    "1/1000=0.001. The first pair of two weights is 0.1% and 99.9%. A very big number\n",
    "is assigned to our solution variable, that is, as an initial value. In this program,\n",
    "portVar=10. Other big numbers would work perfectly, such as 100. Here is the logic:\n",
    "based on the first pair of w1 and w2, we estimate the portfolio variance. If this new\n",
    "portfolio variance is less than portVar, we replace portVar with this new value\n",
    "and record w1 as well. If the new portfolio variance is bigger than portVar, we do\n",
    "nothing. Repeat the same procedure until we finish the loop. Here is an analogy.\n",
    "Assume that we want to find the tallest person among 1,000 persons. Assume that\n",
    "we have a variable call tallestPerson and its initial vale is 0.1 inch. Since every\n",
    "person will be taller than this value, the first person's height will replace this value. If\n",
    "the next person's height is higher than this variable, we replace it. Otherwise, we go\n",
    "to the next one. The procedure is repeated until the last person. In terms of efficiency,\n",
    "one small trick is to estimate var1 and var2 just once.\n",
    "\n",
    "In finance, it is a convention to use both variance and standard deviation to represent\n",
    "risk, since they describe uncertainty. Usually, we use standard deviation of returns\n",
    "to represent the volatility. It is a good idea to look at the impact of correlation on\n",
    "the efficient frontier."
   ]
  },
  {
   "cell_type": "code",
   "execution_count": 6,
   "metadata": {},
   "outputs": [
    {
     "name": "stdout",
     "output_type": "stream",
     "text": [
      "[[1.         0.28505213]\n",
      " [0.28505213 1.        ]]\n"
     ]
    }
   ],
   "source": [
    "\n",
    "np.random.seed(123)\n",
    "n=1000\n",
    "rho=0.3\n",
    "x1=np.random.normal(size=n)\n",
    "x2=np.random.normal(size=n)\n",
    "y1=x1\n",
    "y2=rho*x1+np.sqrt(1-rho**2)*x2\n",
    "print(np.corrcoef(y1,y2))"
   ]
  },
  {
   "cell_type": "markdown",
   "metadata": {},
   "source": [
    "## Optimization – minimization\n",
    "\n",
    "Before discussing how to generate an optimal portfolio, it is necessary to study a\n",
    "few optimization functions. In the following example, we minimize our objective\n",
    "function of y:\n",
    "\n",
    "y = 3.2 + 5 x^2\n",
    "\n",
    "First we wil display the graph."
   ]
  },
  {
   "cell_type": "code",
   "execution_count": 7,
   "metadata": {},
   "outputs": [
    {
     "data": {
      "image/png": "[encoded data removed]",
      "text/plain": [
       "<Figure size 640x480 with 1 Axes>"
      ]
     },
     "metadata": {},
     "output_type": "display_data"
    }
   ],
   "source": [
    "import matplotlib.pyplot as plt\n",
    "x=np.arange(-5,5,0.01)\n",
    "a=3.2\n",
    "b=5.0\n",
    "y=a+b*x**2\n",
    "plt.plot(x,y)\n",
    "plt.title(\"y= \"+str(a)+\"+\"+str(b)+\"x^2\")\n",
    "plt.ylabel(\"y\")\n",
    "plt.xlabel(\"x\")\n",
    "plt.show()"
   ]
  },
  {
   "cell_type": "markdown",
   "metadata": {},
   "source": [
    "To make the program more general, two coefficients of a and b are generated.\n",
    "Apparently, since the power of x is 2, y is minimized only when x is 0. The Python\n",
    "code for minimization is as follows:"
   ]
  },
  {
   "cell_type": "code",
   "execution_count": 10,
   "metadata": {},
   "outputs": [
    {
     "name": "stdout",
     "output_type": "stream",
     "text": [
      "Optimization terminated successfully.\n",
      "         Current function value: 3.200000\n",
      "         Iterations: 24\n",
      "         Function evaluations: 48\n"
     ]
    },
    {
     "name": "stderr",
     "output_type": "stream",
     "text": [
      "/var/folders/k4/npf5jb1d4x13y6z87pdgxb9m0000gp/T/ipykernel_8955/1904061227.py:5: OptimizeWarning: Unknown solver options: xtol\n",
      "  res = minimize(myFunction,x0,method='nelder-mead',options={'xtol':1e8,'disp': True})\n"
     ]
    }
   ],
   "source": [
    "from scipy.optimize import minimize\n",
    "def myFunction(x):\n",
    "    return (3.2+5*x**2)\n",
    "x0=100\n",
    "res = minimize(myFunction,x0,method='nelder-mead',options={'xtol':1e8,'disp': True})\n"
   ]
  },
  {
   "cell_type": "markdown",
   "metadata": {},
   "source": [
    "In the preceding program, the major function used is called the scipy.optimize.\n",
    "minimize() function. The first input is our objective function. In this case, it is our y\n",
    "function. The second value is our input value, that is, initial value. Since there is only\n",
    "one independent variable of x for the y function, x0 is a scalar. For the third input\n",
    "value, method, we have several choices: NelderMead."
   ]
  }
 ],
 "metadata": {
  "kernelspec": {
   "display_name": "Python 3",
   "language": "python",
   "name": "python3"
  },
  "language_info": {
   "codemirror_mode": {
    "name": "ipython",
    "version": 3
   },
   "file_extension": ".py",
   "mimetype": "text/x-python",
   "name": "python",
   "nbconvert_exporter": "python",
   "pygments_lexer": "ipython3",
   "version": "3.10.10"
  }
 },
 "nbformat": 4,
 "nbformat_minor": 2
}
