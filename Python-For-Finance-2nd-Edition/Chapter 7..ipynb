{
 "cells": [
  {
   "cell_type": "markdown",
   "metadata": {},
   "source": [
    "# Chapter 7: Multifactor Models and Performance Measures\n",
    "\n",
    "In Chapter 6, Capital Asset Pricing Model, we discussed the simplest one-factor linear\n",
    "model: CAPM. As mentioned, this one-factor linear model serve as a benchmark for\n",
    "more advanced and complex models. In this chapter, we will focus on the famous\n",
    "Fama-French three-factor model, Fama-French-Carhart four-factor model, and\n",
    "Fama-French five-factor model. After understanding those models, readers should\n",
    "be able to develop their own multifactor linear models, such as by adding Gross\n",
    "Domestic Product (GDP), Consumer Price Index (CPI), a business cycle indicator\n",
    "or other variables as an extra factor(s). In addition, we will discuss performance\n",
    "measures, such as the Sharpe ratio, Treynor ratio, and Jensen's alpha. In particular,\n",
    "the following topics will be covered in this chapter:\n",
    "\n",
    "• Introduction to the Fama-French three-factor model\n",
    "\n",
    "• Fama-French-Carhart four-factor model\n",
    "\n",
    "• Fama-French five-factor model\n",
    "\n",
    "• Other multiplefactor models\n",
    "\n",
    "• Sharpe ratio and Treynor ratio\n",
    "\n",
    "• Lower partial standard deviation and Sortino ratio\n",
    "\n",
    "• Jensen's alpha\n",
    "\n",
    "• How to merge different datasets"
   ]
  },
  {
   "cell_type": "markdown",
   "metadata": {},
   "source": [
    "## Introduction to the Fama-French three-factor model\n"
   ]
  },
  {
   "cell_type": "code",
   "execution_count": null,
   "metadata": {},
   "outputs": [],
   "source": []
  }
 ],
 "metadata": {
  "language_info": {
   "name": "python"
  }
 },
 "nbformat": 4,
 "nbformat_minor": 2
}
