{
 "cells": [
  {
   "cell_type": "markdown",
   "metadata": {},
   "source": [
    "## Chapter 5: Bond and Stock Valuation"
   ]
  },
  {
   "cell_type": "markdown",
   "metadata": {},
   "source": [
    "Bond or fixed income securities and stock are two widely used investment vehicles.\n",
    "Thus, they deserve a thorough discussion. Before touching upon bond or stock\n",
    "valuation, we have to discuss interest rate and its related concepts, such as Annual\n",
    "Percentage Rate (APR), Effective Annual Rate (EAR), compounding frequency,\n",
    "how to convert one effective rate to another one, the term structure of interest rate,\n",
    "how to estimate the selling price of a regular bond, how to use the so-called discount\n",
    "dividend model to estimate the price of a stock, and so on. In particular, this chapter\n",
    "will cover the following topics:\n",
    "\n",
    "• Introduction to interest rates\n",
    "\n",
    "• Conversion between various effective rates, APR\n",
    "\n",
    "• The term structure of interest rates\n",
    "\n",
    "• Bond evaluation and YTM\n",
    "\n",
    "• Credit rating versus default spread\n",
    "\n",
    "• Definition of duration and modified duration\n",
    "\n",
    "• Stock evaluation, total returns, capital gain yield, and dividend yield\n",
    "\n",
    "• A new data type – dictionary"
   ]
  },
  {
   "cell_type": "markdown",
   "metadata": {},
   "source": [
    "Consider that someone wants to buy a $240,000 house with a 20% down payment and a 30 year mortgage at 4.25% annually. How much does he pay each month?"
   ]
  },
  {
   "cell_type": "code",
   "execution_count": 2,
   "metadata": {},
   "outputs": [
    {
     "data": {
      "text/plain": [
       "-972.8357948657007"
      ]
     },
     "execution_count": 2,
     "metadata": {},
     "output_type": "execute_result"
    }
   ],
   "source": [
    "import numpy as np \n",
    "import numpy_financial as npf\n",
    "npf.pmt(0.045/12,30*12,240000*0.8)"
   ]
  },
  {
   "cell_type": "markdown",
   "metadata": {},
   "source": [
    "He pays $972 a month for this mortgage."
   ]
  },
  {
   "cell_type": "code",
   "execution_count": 6,
   "metadata": {},
   "outputs": [
    {
     "name": "stdout",
     "output_type": "stream",
     "text": [
      "This is an example. APR of 10% semi annual compounding. What is the quarterly rate? Answer:  0.02469507659595993\n"
     ]
    }
   ],
   "source": [
    "# Code for calculating effective annual percentage rates between different compounding periods\n",
    "\n",
    "def APR2Rm(APR1,m1,m2):\n",
    "    return (1+APR1/m1)**(m1/m2)-1\n",
    "\n",
    "# This one calculates outright annual percent rates\n",
    "def EAR_f(APR,m):\n",
    "    return (1+APR/m)**m-1\n",
    "\n",
    "print(\"This is an example. APR of 10% semi annual compounding. What is the quarterly rate? Answer: \", APR2Rm(0.10,2,4))"
   ]
  },
  {
   "cell_type": "code",
   "execution_count": 7,
   "metadata": {},
   "outputs": [
    {
     "name": "stdout",
     "output_type": "stream",
     "text": [
      "0.10000000000000009\n",
      "0.10250000000000004\n",
      "0.10381289062499954\n",
      "0.10471306744129683\n",
      "0.10515578161623251\n",
      "0.10517028727456146\n",
      "0.10517090753998182\n",
      "0.10517091994187133\n",
      "0.10517230537146749\n"
     ]
    }
   ],
   "source": [
    "d=365\n",
    "h=d*24\n",
    "m=h*60\n",
    "s=m*60\n",
    "ms=s*1000\n",
    "x=np.array([1,2,4,12,d,h,m,s,ms])\n",
    "APR=0.1\n",
    "for i in x:\n",
    "    print(EAR_f(APR,i))"
   ]
  },
  {
   "cell_type": "markdown",
   "metadata": {},
   "source": [
    "What of Continuously compounded rates? How are they calculated? We need to use the natural logarithm function."
   ]
  },
  {
   "cell_type": "code",
   "execution_count": 17,
   "metadata": {},
   "outputs": [
    {
     "name": "stdout",
     "output_type": "stream",
     "text": [
      "10% annually compounded continuously:  0.023264168459415393\n"
     ]
    },
    {
     "data": {
      "text/plain": [
       "0.020100334168335898"
      ]
     },
     "execution_count": 17,
     "metadata": {},
     "output_type": "execute_result"
    }
   ],
   "source": [
    "import math\n",
    "from math import log\n",
    "# Calculates continuously compounded rate\n",
    "def APR2Rc(APR,m):\n",
    "    return m*log(1+APR/m)\n",
    "\n",
    "# Calculates APR from Rc\n",
    "def Rc2APR(Rc,m):\n",
    "    return m*(math.exp(Rc/m)-1)\n",
    "\n",
    "# Calculate period rate from Rc\n",
    "def Rc2Rm(Rc,m):\n",
    "    return math.exp(Rc/m)-1\n",
    "\n",
    "# Example shown with a 10% annual rate\n",
    "print(\"10% annually compounded continuously: \", APR2Rc(0.0234, 2))\n",
    "Rc2APR(0.02,2)"
   ]
  },
  {
   "cell_type": "markdown",
   "metadata": {},
   "source": [
    "### Term Structure of Interest Rates\n",
    "\n",
    "The term structure of interest rates is defined as the relationship between risk free rate and time. The risk free rate is usually defined as the default free treasury rate, which can be seen online. From 2016 we can see the following info, which is graphed:"
   ]
  },
  {
   "cell_type": "code",
   "execution_count": 20,
   "metadata": {},
   "outputs": [
    {
     "data": {
      "image/png": "[encoded data removed]",
      "text/plain": [
       "<Figure size 640x480 with 1 Axes>"
      ]
     },
     "metadata": {},
     "output_type": "display_data"
    }
   ],
   "source": [
    "from matplotlib.pyplot import *\n",
    "time=[3/12,6/12,2,3,5,10,30]\n",
    "rate=[0.47,0.6,1.18,1.53,2,2.53,3.12]\n",
    "title(\"Term Structure of Interest Rate \")\n",
    "xlabel(\"Time \")\n",
    "ylabel(\"Risk-free rate (%)\")\n",
    "plot(time,rate)\n",
    "show()"
   ]
  },
  {
   "cell_type": "code",
   "execution_count": 23,
   "metadata": {},
   "outputs": [
    {
     "data": {
      "text/plain": [
       "0    1.000000\n",
       "1    2.000000\n",
       "2    3.333333\n",
       "3    4.666667\n",
       "4    6.000000\n",
       "dtype: float64"
      ]
     },
     "execution_count": 23,
     "metadata": {},
     "output_type": "execute_result"
    }
   ],
   "source": [
    "import pandas as pd\n",
    "import numpy as np\n",
    "x=pd.Series([1,2,np.nan,np.nan,6])\n",
    "x.interpolate()"
   ]
  },
  {
   "cell_type": "code",
   "execution_count": 24,
   "metadata": {},
   "outputs": [],
   "source": [
    "def duration(t,cash_flow,y):\n",
    "    n=len(t)\n",
    "    B=0 # B is the bond's present value\n",
    "    for i in range(n):\n",
    "        B+=cash_flow[i]*math.exp(-y*t[i])\n",
    "        D=0 # D is the duration\n",
    "    for i in range(n):\n",
    "        D+=t[i]*cash_flow[i]*math.exp(-y*t[i])/B\n",
    "    return D"
   ]
  },
  {
   "cell_type": "markdown",
   "metadata": {},
   "source": [
    "### Bond Evaluation\n",
    "Bond is also called fixed income security. There are different types of categories. Based on maturity, bonds could be classified into short-term, median-term, and longterm. For US Treasury securities, T-bills are the securities issued by the Department of Treasury with a maturity less than 1 year, T-notes are for government bonds beyond 1 year but less than 10 years. T-bonds are treasury securities with a maturity beyond 10 years. Based on coupon payments, there are zero-coupon bonds and coupon bonds. When it is a central government's bond, we call them risk-free bonds since the central government usually has a right to print money, that is by default, free"
   ]
  }
 ],
 "metadata": {
  "kernelspec": {
   "display_name": "Python 3",
   "language": "python",
   "name": "python3"
  },
  "language_info": {
   "codemirror_mode": {
    "name": "ipython",
    "version": 3
   },
   "file_extension": ".py",
   "mimetype": "text/x-python",
   "name": "python",
   "nbconvert_exporter": "python",
   "pygments_lexer": "ipython3",
   "version": "3.10.10"
  }
 },
 "nbformat": 4,
 "nbformat_minor": 2
}
