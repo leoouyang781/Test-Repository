{
 "cells": [
  {
   "cell_type": "markdown",
   "metadata": {},
   "source": [
    "## Chapter 5: Bond and Stock Valuation"
   ]
  },
  {
   "cell_type": "markdown",
   "metadata": {},
   "source": [
    "Bond or fixed income securities and stock are two widely used investment vehicles.\n",
    "Thus, they deserve a thorough discussion. Before touching upon bond or stock\n",
    "valuation, we have to discuss interest rate and its related concepts, such as Annual\n",
    "Percentage Rate (APR), Effective Annual Rate (EAR), compounding frequency,\n",
    "how to convert one effective rate to another one, the term structure of interest rate,\n",
    "how to estimate the selling price of a regular bond, how to use the so-called discount\n",
    "dividend model to estimate the price of a stock, and so on. In particular, this chapter\n",
    "will cover the following topics:\n",
    "\n",
    "• Introduction to interest rates\n",
    "\n",
    "• Conversion between various effective rates, APR\n",
    "\n",
    "• The term structure of interest rates\n",
    "\n",
    "• Bond evaluation and YTM\n",
    "\n",
    "• Credit rating versus default spread\n",
    "\n",
    "• Definition of duration and modified duration\n",
    "\n",
    "• Stock evaluation, total returns, capital gain yield, and dividend yield\n",
    "\n",
    "• A new data type – dictionary"
   ]
  },
  {
   "cell_type": "markdown",
   "metadata": {},
   "source": [
    "Consider that someone wants to buy a $240,000 house with a 20% down payment and a 30 year mortgage at 4.25% annually. How much does he pay each month?"
   ]
  },
  {
   "cell_type": "code",
   "execution_count": 2,
   "metadata": {},
   "outputs": [
    {
     "data": {
      "text/plain": [
       "-972.8357948657007"
      ]
     },
     "execution_count": 2,
     "metadata": {},
     "output_type": "execute_result"
    }
   ],
   "source": [
    "import numpy as np \n",
    "import numpy_financial as npf\n",
    "npf.pmt(0.045/12,30*12,240000*0.8)"
   ]
  },
  {
   "cell_type": "markdown",
   "metadata": {},
   "source": [
    "He pays $972 a month for this mortgage."
   ]
  },
  {
   "cell_type": "code",
   "execution_count": 6,
   "metadata": {},
   "outputs": [
    {
     "name": "stdout",
     "output_type": "stream",
     "text": [
      "This is an example. APR of 10% semi annual compounding. What is the quarterly rate? Answer:  0.02469507659595993\n"
     ]
    }
   ],
   "source": [
    "# Code for calculating effective annual percentage rates between different compounding periods\n",
    "\n",
    "def APR2Rm(APR1,m1,m2):\n",
    "    return (1+APR1/m1)**(m1/m2)-1\n",
    "\n",
    "# This one calculates outright annual percent rates\n",
    "def EAR_f(APR,m):\n",
    "    return (1+APR/m)**m-1\n",
    "\n",
    "print(\"This is an example. APR of 10% semi annual compounding. What is the quarterly rate? Answer: \", APR2Rm(0.10,2,4))"
   ]
  },
  {
   "cell_type": "code",
   "execution_count": 7,
   "metadata": {},
   "outputs": [
    {
     "name": "stdout",
     "output_type": "stream",
     "text": [
      "0.10000000000000009\n",
      "0.10250000000000004\n",
      "0.10381289062499954\n",
      "0.10471306744129683\n",
      "0.10515578161623251\n",
      "0.10517028727456146\n",
      "0.10517090753998182\n",
      "0.10517091994187133\n",
      "0.10517230537146749\n"
     ]
    }
   ],
   "source": [
    "d=365\n",
    "h=d*24\n",
    "m=h*60\n",
    "s=m*60\n",
    "ms=s*1000\n",
    "x=np.array([1,2,4,12,d,h,m,s,ms])\n",
    "APR=0.1\n",
    "for i in x:\n",
    "    print(EAR_f(APR,i))"
   ]
  },
  {
   "cell_type": "markdown",
   "metadata": {},
   "source": [
    "What of Continuously compounded rates? How are they calculated? We need to use the natural logarithm function."
   ]
  },
  {
   "cell_type": "code",
   "execution_count": 17,
   "metadata": {},
   "outputs": [
    {
     "name": "stdout",
     "output_type": "stream",
     "text": [
      "10% annually compounded continuously:  0.023264168459415393\n"
     ]
    },
    {
     "data": {
      "text/plain": [
       "0.020100334168335898"
      ]
     },
     "execution_count": 17,
     "metadata": {},
     "output_type": "execute_result"
    }
   ],
   "source": [
    "import math\n",
    "from math import log\n",
    "# Calculates continuously compounded rate\n",
    "def APR2Rc(APR,m):\n",
    "    return m*log(1+APR/m)\n",
    "\n",
    "# Calculates APR from Rc\n",
    "def Rc2APR(Rc,m):\n",
    "    return m*(math.exp(Rc/m)-1)\n",
    "\n",
    "# Calculate period rate from Rc\n",
    "def Rc2Rm(Rc,m):\n",
    "    return math.exp(Rc/m)-1\n",
    "\n",
    "# Example shown with a 10% annual rate\n",
    "print(\"10% annually compounded continuously: \", APR2Rc(0.0234, 2))\n",
    "Rc2APR(0.02,2)"
   ]
  },
  {
   "cell_type": "markdown",
   "metadata": {},
   "source": [
    "### Term Structure of Interest Rates\n",
    "\n",
    "The term structure of interest rates is defined as the relationship between risk free rate and time. The risk free rate is usually defined as the default free treasury rate, which can be seen online. From 2016 we can see the following info, which is graphed:"
   ]
  },
  {
   "cell_type": "code",
   "execution_count": 20,
   "metadata": {},
   "outputs": [
    {
     "data": {
      "image/png": "[encoded data removed]",
      "text/plain": [
       "<Figure size 640x480 with 1 Axes>"
      ]
     },
     "metadata": {},
     "output_type": "display_data"
    }
   ],
   "source": [
    "from matplotlib.pyplot import *\n",
    "time=[3/12,6/12,2,3,5,10,30]\n",
    "rate=[0.47,0.6,1.18,1.53,2,2.53,3.12]\n",
    "title(\"Term Structure of Interest Rate \")\n",
    "xlabel(\"Time \")\n",
    "ylabel(\"Risk-free rate (%)\")\n",
    "plot(time,rate)\n",
    "show()"
   ]
  },
  {
   "cell_type": "code",
   "execution_count": 23,
   "metadata": {},
   "outputs": [
    {
     "data": {
      "text/plain": [
       "0    1.000000\n",
       "1    2.000000\n",
       "2    3.333333\n",
       "3    4.666667\n",
       "4    6.000000\n",
       "dtype: float64"
      ]
     },
     "execution_count": 23,
     "metadata": {},
     "output_type": "execute_result"
    }
   ],
   "source": [
    "import pandas as pd\n",
    "import numpy as np\n",
    "x=pd.Series([1,2,np.nan,np.nan,6])\n",
    "x.interpolate()"
   ]
  },
  {
   "cell_type": "code",
   "execution_count": 24,
   "metadata": {},
   "outputs": [],
   "source": [
    "def duration(t,cash_flow,y):\n",
    "    n=len(t)\n",
    "    B=0 # B is the bond's present value\n",
    "    for i in range(n):\n",
    "        B+=cash_flow[i]*math.exp(-y*t[i])\n",
    "        D=0 # D is the duration\n",
    "    for i in range(n):\n",
    "        D+=t[i]*cash_flow[i]*math.exp(-y*t[i])/B\n",
    "    return D"
   ]
  },
  {
   "cell_type": "markdown",
   "metadata": {},
   "source": [
    "### Bond Evaluation\n",
    "Bond is also called fixed income security. There are different types of categories. Based on maturity, bonds could be classified into short-term, median-term, and longterm. For US Treasury securities, T-bills are the securities issued by the Department of Treasury with a maturity less than 1 year, T-notes are for government bonds beyond 1 year but less than 10 years. T-bonds are treasury securities with a maturity beyond 10 years. Based on coupon payments, there are zero-coupon bonds and coupon bonds. When it is a central government's bond, we call them risk-free bonds since the central government usually has a right to print money, that is by default, free"
   ]
  },
  {
   "cell_type": "code",
   "execution_count": 31,
   "metadata": {},
   "outputs": [
    {
     "data": {
      "text/plain": [
       "-116.0247325897217"
      ]
     },
     "execution_count": 31,
     "metadata": {},
     "output_type": "execute_result"
    }
   ],
   "source": [
    "npf.pv(0.024,3,0.08*100, 100)"
   ]
  },
  {
   "cell_type": "markdown",
   "metadata": {},
   "source": [
    "### Stock Valuation"
   ]
  },
  {
   "cell_type": "markdown",
   "metadata": {},
   "source": [
    "The following notes relate to the n-period model used to calculate stock sales prices for a new company."
   ]
  },
  {
   "cell_type": "code",
   "execution_count": 32,
   "metadata": {},
   "outputs": [
    {
     "data": {
      "text/plain": [
       "9.523317320450868"
      ]
     },
     "execution_count": 32,
     "metadata": {},
     "output_type": "execute_result"
    }
   ],
   "source": [
    "dividends=[1.80,2.07,2.277,2.48193,2.680,2.7877]\n",
    "R=0.182\n",
    "g=0.03\n",
    "npf.npv(R,dividends[:-1])*(1+R)"
   ]
  },
  {
   "cell_type": "code",
   "execution_count": 33,
   "metadata": {},
   "outputs": [
    {
     "data": {
      "text/plain": [
       "-7.949046992374841"
      ]
     },
     "execution_count": 33,
     "metadata": {},
     "output_type": "execute_result"
    }
   ],
   "source": [
    "npf.pv(R,5,0,2.7877/(R-g))"
   ]
  },
  {
   "cell_type": "markdown",
   "metadata": {},
   "source": [
    "### Dictionaries\n"
   ]
  },
  {
   "cell_type": "code",
   "execution_count": 34,
   "metadata": {},
   "outputs": [
    {
     "data": {
      "text/plain": [
       "'John'"
      ]
     },
     "execution_count": 34,
     "metadata": {},
     "output_type": "execute_result"
    }
   ],
   "source": [
    "# A dictionary called \"houseHold\"\n",
    "houseHold={\"father\":\"John\",\"mother\":\"Mary\",\"daughter\":\"Jane\"}\n",
    "\n",
    "# Access the value of \"father\" in this dictionary\n",
    "houseHold['father']"
   ]
  },
  {
   "cell_type": "markdown",
   "metadata": {},
   "source": [
    "## Graphing Appendices"
   ]
  },
  {
   "cell_type": "markdown",
   "metadata": {},
   "source": [
    "### Appendix A – simple interest rate versus compounding interest rate\n",
    "Here, PV is the present value, R is the period rate, and n is the number of periods.\n",
    "Thus, those two future values will be $1,800 and $2,158.93.\n",
    "\n",
    "The following program offers a graphic representation of a principal, simple interest\n",
    "payment, and the future values:"
   ]
  },
  {
   "cell_type": "code",
   "execution_count": 42,
   "metadata": {},
   "outputs": [
    {
     "data": {
      "image/png": "[encoded data removed]",
      "text/plain": [
       "<Figure size 640x480 with 1 Axes>"
      ]
     },
     "metadata": {},
     "output_type": "display_data"
    }
   ],
   "source": [
    "import numpy as np\n",
    "from matplotlib.pyplot import *\n",
    "from pylab import *\n",
    "\n",
    "pv=1000\n",
    "r=0.08\n",
    "n=10\n",
    "t=linspace(0,n,n)\n",
    "y1=np.ones(len(t))*pv # a horizontal line\n",
    "y2=pv*(1+r*t)\n",
    "y3=pv*(1+r)**t\n",
    "title('Simple vs. compounded interest rates')\n",
    "xlabel('Number of years')\n",
    "ylabel('Values')\n",
    "xlim(0,11)\n",
    "ylim(800,2200)\n",
    "plot(t, y1, 'b-', label = 'ones')\n",
    "plot(t, y2, 'g--', label = 'simple interest')\n",
    "plot(t, y3, 'r-', label = 'compound interest')\n",
    "legend(loc = 'best')\n",
    "show()"
   ]
  },
  {
   "cell_type": "markdown",
   "metadata": {},
   "source": [
    "### Appendix B – several Python functions related to interest conversion"
   ]
  },
  {
   "cell_type": "code",
   "execution_count": 43,
   "metadata": {},
   "outputs": [],
   "source": [
    "def APR2Rm(APR1,m1,m2):\n",
    "    \"\"\"\n",
    "    Objective: convert one APR to another Rm\n",
    "    APR1: annual percentage rate\n",
    "    m1: compounding frequency\n",
    "    m2: effective period rate with this compounding\n",
    "    Formula used: Rm=(1+APR1/m1)**(m1/m2)-1\n",
    "    Example #1>>>APR2Rm(0.1,2,4)\n",
    "    0.02469507659595993\n",
    "    \"\"\"\n",
    "    return (1+APR/m1)**(m1/m2)-1\n",
    "def APR2APR(APR1,m1,m2):\n",
    "    \"\"\"\n",
    "    Objective: convert one APR to another Rm\n",
    "    APR1: annual percentage rate\n",
    "    m1: compounding frequency\n",
    "    m2: effective period rate with this compounding\n",
    "    Formula used: Rm=(1+APR1/m1)**(m1/m2)-1\n",
    "    Example #1>>>APR2APR(0.1,2,4)\n",
    "    0.09878030638383972\n",
    "    \"\"\"\n",
    "    return m2*((1+APR/m1)**(m1/m2)-1)\n",
    "def APR2Rc(APR,m):\n",
    "    return m*log(1+APR/m)\n",
    "def Rc2Rm(Rc,m):\n",
    "    return exp(Rc/m)-1\n",
    "def Rc2APR(Rc,m):\n",
    "    return m*(exp(Rc/m)-1)"
   ]
  },
  {
   "cell_type": "markdown",
   "metadata": {},
   "source": [
    "### Appendix C – Python program for rateYan.py"
   ]
  },
  {
   "cell_type": "code",
   "execution_count": 45,
   "metadata": {},
   "outputs": [],
   "source": [
    "def rateYan(APR,type):\n",
    "    \"\"\"Objective: from one APR to another effective rate and APR2\n",
    "    APR : value of the given Annual Percentage Rate\n",
    "    type : Converting method, e.g., 's2a', 's2q', 's2c'\n",
    "    's2a' means from semi-annual to annual\n",
    "    a for annual\n",
    "    s for semi-annual\n",
    "    q for quarterly\n",
    "    m for monthly\n",
    "    d for daily\n",
    "    c for continuously\n",
    "    Example #1>>>rateYan(0.1,'s2a')\n",
    "    [0.10250000000000004, 0.10250000000000004]\n",
    "    Example #2>>>rateYan(0.1,'q2c')\n",
    "    0.098770450361485657\n",
    "    \"\"\"\n",
    "    import scipy as sp\n",
    "    rate=[]\n",
    "    if(type[0]=='a'):\n",
    "        n1=1\n",
    "    elif(type[0]=='s'):\n",
    "        n1=2\n",
    "    elif(type[0]=='q'):\n",
    "        n1=4\n",
    "    elif(type[0]=='m'):\n",
    "        n1=12\n",
    "    elif(type[0]=='d'):\n",
    "        n1=365\n",
    "    else:\n",
    "        n1=-9\n",
    "        \n",
    "    if(type[2]=='a'):\n",
    "        n2=1\n",
    "    elif(type[2]=='s'):\n",
    "        n2=2\n",
    "    elif(type[2]=='q'):\n",
    "        n2=4\n",
    "    elif(type[2]=='m'):\n",
    "        n2=12\n",
    "    elif(type[2]=='d'):\n",
    "        n2=365\n",
    "    else:\n",
    "        n2=-9 \n",
    "        \n",
    "    if(n1==-9 and n2==-9):\n",
    "        return APR\n",
    "    elif(n1==-9 and not(n2==-9)):\n",
    "        effectiveRate=sp.exp(APR/n2)-1\n",
    "        APR2=n2*effectiveRate\n",
    "        rate.append(effectiveRate)\n",
    "        rate.append(APR2)\n",
    "        return rate\n",
    "    elif(n2==-9 and not(n1==-9)):\n",
    "        Rc=n1*sp.log(1+APR/n1)\n",
    "        return Rc\n",
    "    else:\n",
    "        effectiveRate=(1+APR/n1)**(n1/n2)-1\n",
    "        APR2=n2*effectiveRate\n",
    "        rate.append(effectiveRate)\n",
    "        rate.append(APR2)\n",
    "        return rate "
   ]
  },
  {
   "cell_type": "markdown",
   "metadata": {},
   "source": [
    "### Appendix D – Python program to estimate stock price based on an n-period model"
   ]
  },
  {
   "cell_type": "code",
   "execution_count": 46,
   "metadata": {},
   "outputs": [],
   "source": [
    "def pvValueNperiodModel(r,longTermGrowthRate,dividendNplus1):\n",
    "    \"\"\"Objective: estimate stock price based on an n-period model\n",
    "    r: discount rate\n",
    "    LongTermGrowhRate: long term dividend growth rate\n",
    "    dividendsNpus1 : a dividend vector n + 1\n",
    "    PV = d1/(1+R) + d2/(1+R)**2 + .... + dn/(1+R)**n + sellingPrice/(1+R)**n\n",
    "    \n",
    "    sellingPrice= d(n+1)/(r-g)\n",
    "    where g is long term growth rate\n",
    "    Example #1: >>> r=0.182\n",
    "    >>> g=0.03\n",
    "    >>> d=[1.8,2.07,2.277,2.48193,2.68,2.7877]\n",
    "    >>>pvValueNperiodModel(r,g,d)\n",
    "    17.472364312825711\n",
    "    \"\"\"\n",
    "    import scipy as sp\n",
    "    d=dividendNplus1\n",
    "    n=len(d)-1\n",
    "    g=longTermGrowthRate\n",
    "    pv=sp.npv(r,d[:-1])*(1+r)\n",
    "    sellingPrice=d[n]/(r-g)\n",
    "    pv+=sp.pv(r,n,0,-sellingPrice)\n",
    "    return pv"
   ]
  },
  {
   "cell_type": "markdown",
   "metadata": {},
   "source": [
    "### Appendix F: Case Study"
   ]
  },
  {
   "cell_type": "code",
   "execution_count": 55,
   "metadata": {},
   "outputs": [
    {
     "data": {
      "text/html": [
       "<div>\n",
       "<style scoped>\n",
       "    .dataframe tbody tr th:only-of-type {\n",
       "        vertical-align: middle;\n",
       "    }\n",
       "\n",
       "    .dataframe tbody tr th {\n",
       "        vertical-align: top;\n",
       "    }\n",
       "\n",
       "    .dataframe thead th {\n",
       "        text-align: right;\n",
       "    }\n",
       "</style>\n",
       "<table border=\"1\" class=\"dataframe\">\n",
       "  <thead>\n",
       "    <tr style=\"text-align: right;\">\n",
       "      <th></th>\n",
       "      <th>1</th>\n",
       "      <th>2</th>\n",
       "      <th>3</th>\n",
       "      <th>5</th>\n",
       "      <th>7</th>\n",
       "      <th>10</th>\n",
       "      <th>30</th>\n",
       "    </tr>\n",
       "    <tr>\n",
       "      <th>Rating</th>\n",
       "      <th></th>\n",
       "      <th></th>\n",
       "      <th></th>\n",
       "      <th></th>\n",
       "      <th></th>\n",
       "      <th></th>\n",
       "      <th></th>\n",
       "    </tr>\n",
       "  </thead>\n",
       "  <tbody>\n",
       "    <tr>\n",
       "      <th>Aaa/AAA</th>\n",
       "      <td>5.00</td>\n",
       "      <td>8.00</td>\n",
       "      <td>12.00</td>\n",
       "      <td>18.00</td>\n",
       "      <td>28.00</td>\n",
       "      <td>42.00</td>\n",
       "      <td>65.00</td>\n",
       "    </tr>\n",
       "    <tr>\n",
       "      <th>Aa1/AA+</th>\n",
       "      <td>10.00</td>\n",
       "      <td>18.00</td>\n",
       "      <td>25.00</td>\n",
       "      <td>34.00</td>\n",
       "      <td>42.00</td>\n",
       "      <td>54.00</td>\n",
       "      <td>77.00</td>\n",
       "    </tr>\n",
       "    <tr>\n",
       "      <th>Aa2/AA</th>\n",
       "      <td>14.00</td>\n",
       "      <td>29.00</td>\n",
       "      <td>38.00</td>\n",
       "      <td>50.00</td>\n",
       "      <td>57.00</td>\n",
       "      <td>65.00</td>\n",
       "      <td>89.00</td>\n",
       "    </tr>\n",
       "    <tr>\n",
       "      <th>Aa3/AA-</th>\n",
       "      <td>19.00</td>\n",
       "      <td>34.00</td>\n",
       "      <td>43.00</td>\n",
       "      <td>54.00</td>\n",
       "      <td>61.00</td>\n",
       "      <td>69.00</td>\n",
       "      <td>92.00</td>\n",
       "    </tr>\n",
       "    <tr>\n",
       "      <th>A1/A+</th>\n",
       "      <td>23.00</td>\n",
       "      <td>39.00</td>\n",
       "      <td>47.00</td>\n",
       "      <td>58.00</td>\n",
       "      <td>65.00</td>\n",
       "      <td>72.00</td>\n",
       "      <td>95.00</td>\n",
       "    </tr>\n",
       "    <tr>\n",
       "      <th>A2/A</th>\n",
       "      <td>24.00</td>\n",
       "      <td>39.00</td>\n",
       "      <td>49.00</td>\n",
       "      <td>61.00</td>\n",
       "      <td>69.00</td>\n",
       "      <td>77.00</td>\n",
       "      <td>103.00</td>\n",
       "    </tr>\n",
       "    <tr>\n",
       "      <th>A3/A-</th>\n",
       "      <td>32.00</td>\n",
       "      <td>49.00</td>\n",
       "      <td>59.00</td>\n",
       "      <td>72.00</td>\n",
       "      <td>80.00</td>\n",
       "      <td>89.00</td>\n",
       "      <td>117.00</td>\n",
       "    </tr>\n",
       "    <tr>\n",
       "      <th>Baa1/BBB+</th>\n",
       "      <td>38.00</td>\n",
       "      <td>61.00</td>\n",
       "      <td>75.00</td>\n",
       "      <td>92.00</td>\n",
       "      <td>103.00</td>\n",
       "      <td>115.00</td>\n",
       "      <td>151.00</td>\n",
       "    </tr>\n",
       "    <tr>\n",
       "      <th>Baa2/BBB</th>\n",
       "      <td>47.00</td>\n",
       "      <td>75.00</td>\n",
       "      <td>89.00</td>\n",
       "      <td>107.00</td>\n",
       "      <td>119.00</td>\n",
       "      <td>132.00</td>\n",
       "      <td>170.00</td>\n",
       "    </tr>\n",
       "    <tr>\n",
       "      <th>Baa3/BBB-</th>\n",
       "      <td>83.00</td>\n",
       "      <td>108.00</td>\n",
       "      <td>122.00</td>\n",
       "      <td>140.00</td>\n",
       "      <td>152.00</td>\n",
       "      <td>165.00</td>\n",
       "      <td>204.00</td>\n",
       "    </tr>\n",
       "    <tr>\n",
       "      <th>Ba1/BB+</th>\n",
       "      <td>157.00</td>\n",
       "      <td>182.00</td>\n",
       "      <td>198.00</td>\n",
       "      <td>217.00</td>\n",
       "      <td>232.00</td>\n",
       "      <td>248.00</td>\n",
       "      <td>286.00</td>\n",
       "    </tr>\n",
       "    <tr>\n",
       "      <th>Ba2/BB</th>\n",
       "      <td>231.00</td>\n",
       "      <td>256.00</td>\n",
       "      <td>274.00</td>\n",
       "      <td>295.00</td>\n",
       "      <td>312.00</td>\n",
       "      <td>330.00</td>\n",
       "      <td>367.00</td>\n",
       "    </tr>\n",
       "    <tr>\n",
       "      <th>Ba3/BB-</th>\n",
       "      <td>305.00</td>\n",
       "      <td>330.00</td>\n",
       "      <td>350.00</td>\n",
       "      <td>372.00</td>\n",
       "      <td>392.00</td>\n",
       "      <td>413.00</td>\n",
       "      <td>449.00</td>\n",
       "    </tr>\n",
       "    <tr>\n",
       "      <th>B1/B+</th>\n",
       "      <td>378.00</td>\n",
       "      <td>404.00</td>\n",
       "      <td>426.00</td>\n",
       "      <td>450.00</td>\n",
       "      <td>472.00</td>\n",
       "      <td>495.00</td>\n",
       "      <td>530.00</td>\n",
       "    </tr>\n",
       "    <tr>\n",
       "      <th>B2/B</th>\n",
       "      <td>452.00</td>\n",
       "      <td>478.00</td>\n",
       "      <td>502.00</td>\n",
       "      <td>527.00</td>\n",
       "      <td>552.00</td>\n",
       "      <td>578.00</td>\n",
       "      <td>612.00</td>\n",
       "    </tr>\n",
       "    <tr>\n",
       "      <th>B3/B-</th>\n",
       "      <td>526.00</td>\n",
       "      <td>552.00</td>\n",
       "      <td>578.00</td>\n",
       "      <td>604.00</td>\n",
       "      <td>632.00</td>\n",
       "      <td>660.00</td>\n",
       "      <td>693.00</td>\n",
       "    </tr>\n",
       "    <tr>\n",
       "      <th>Caa/CCC+</th>\n",
       "      <td>600.00</td>\n",
       "      <td>626.00</td>\n",
       "      <td>653.00</td>\n",
       "      <td>682.00</td>\n",
       "      <td>712.00</td>\n",
       "      <td>743.00</td>\n",
       "      <td>775.00</td>\n",
       "    </tr>\n",
       "    <tr>\n",
       "      <th>US Treasury Yield</th>\n",
       "      <td>0.13</td>\n",
       "      <td>0.45</td>\n",
       "      <td>0.93</td>\n",
       "      <td>1.74</td>\n",
       "      <td>2.31</td>\n",
       "      <td>2.73</td>\n",
       "      <td>3.55</td>\n",
       "    </tr>\n",
       "  </tbody>\n",
       "</table>\n",
       "</div>"
      ],
      "text/plain": [
       "                        1       2       3       5       7      10     30 \n",
       "Rating                                                                   \n",
       "Aaa/AAA              5.00    8.00   12.00   18.00   28.00   42.00   65.00\n",
       "Aa1/AA+             10.00   18.00   25.00   34.00   42.00   54.00   77.00\n",
       "Aa2/AA              14.00   29.00   38.00   50.00   57.00   65.00   89.00\n",
       "Aa3/AA-             19.00   34.00   43.00   54.00   61.00   69.00   92.00\n",
       "A1/A+               23.00   39.00   47.00   58.00   65.00   72.00   95.00\n",
       "A2/A                24.00   39.00   49.00   61.00   69.00   77.00  103.00\n",
       "A3/A-               32.00   49.00   59.00   72.00   80.00   89.00  117.00\n",
       "Baa1/BBB+           38.00   61.00   75.00   92.00  103.00  115.00  151.00\n",
       "Baa2/BBB            47.00   75.00   89.00  107.00  119.00  132.00  170.00\n",
       "Baa3/BBB-           83.00  108.00  122.00  140.00  152.00  165.00  204.00\n",
       "Ba1/BB+            157.00  182.00  198.00  217.00  232.00  248.00  286.00\n",
       "Ba2/BB             231.00  256.00  274.00  295.00  312.00  330.00  367.00\n",
       "Ba3/BB-            305.00  330.00  350.00  372.00  392.00  413.00  449.00\n",
       "B1/B+              378.00  404.00  426.00  450.00  472.00  495.00  530.00\n",
       "B2/B               452.00  478.00  502.00  527.00  552.00  578.00  612.00\n",
       "B3/B-              526.00  552.00  578.00  604.00  632.00  660.00  693.00\n",
       "Caa/CCC+           600.00  626.00  653.00  682.00  712.00  743.00  775.00\n",
       "US Treasury Yield    0.13    0.45    0.93    1.74    2.31    2.73    3.55"
      ]
     },
     "execution_count": 55,
     "metadata": {},
     "output_type": "execute_result"
    }
   ],
   "source": [
    "# We can read pickles as information\n",
    "import pandas as pd\n",
    "spread=pd.read_pickle('/opt/code/test_repo/Python-For-Finance-2nd-Edition/Files/spreadBasedOnCreditRating.pkl')\n",
    "spread"
   ]
  }
 ],
 "metadata": {
  "kernelspec": {
   "display_name": "Python 3",
   "language": "python",
   "name": "python3"
  },
  "language_info": {
   "codemirror_mode": {
    "name": "ipython",
    "version": 3
   },
   "file_extension": ".py",
   "mimetype": "text/x-python",
   "name": "python",
   "nbconvert_exporter": "python",
   "pygments_lexer": "ipython3",
   "version": "3.10.10"
  }
 },
 "nbformat": 4,
 "nbformat_minor": 2
}
