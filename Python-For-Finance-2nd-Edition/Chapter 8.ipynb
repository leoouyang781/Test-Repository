{
 "cells": [
  {
   "cell_type": "markdown",
   "metadata": {},
   "source": [
    "# Chapter 8: Time Series Analysis"
   ]
  },
  {
   "cell_type": "markdown",
   "metadata": {},
   "source": [
    "In finance and economics, a huge amount of our data is in the format of time-series,\n",
    "such as stock prices and Gross Domestic Products (GDP). From Chapter 4, Sources\n",
    "of Data, it is shown that from Yahoo!Finance, we could download daily, weekly, and\n",
    "monthly historical price time-series. From Federal Reserve Bank's Economics Data\n",
    "Library (FRED), we could retrieve many historical time-series such as GDP. For\n",
    "time-series, there exist many issues, such as how to estimate returns from historical\n",
    "price data, how to merge datasets with the same or different frequencies, seasonality,\n",
    "and detect auto-correlation. Understanding those properties is vitally important for\n",
    "our knowledge development.\n",
    "\n",
    "In this chapter, the following topics will be covered:\n",
    "• Introduction to time-series analysis\n",
    "\n",
    "• Design a good date variable, and merging different datasets by date\n",
    "\n",
    "• Normal distribution and normality test\n",
    "\n",
    "• Term structure of interest rates, 52-week high, and low trading strategy\n",
    "\n",
    "• Return estimation and converting daily returns to monthly or annual returns\n",
    "\n",
    "• T-test, F-test, and Durbin-Watson test for autocorrelation\n",
    "\n",
    "• Fama-MacBeth regression\n",
    "\n",
    "• Roll (1984) spread, Amihud's (2002) illiquidity, and Pastor and Stambaugh's\n",
    "(2003) liquidity measure\n",
    "\n",
    "• January effect and weekday effect\n",
    "\n",
    "• Retrieving high-frequency data from Google Finance and Prof. Hasbrouck's\n",
    "TORQ database (Trade, Order, Report, and Quotation)\n",
    "\n",
    "• Introduction to CRSP (Center for Research in Security Prices) database"
   ]
  },
  {
   "cell_type": "markdown",
   "metadata": {},
   "source": [
    "## Introduction to Time Series\n",
    "\n",
    "Most finance data is in the format of time-series, see the following several examples.\n",
    "The first one shows how to download historical, daily stock price data from\n",
    "Yahoo!Finance for a given ticker's beginning and ending dates:"
   ]
  },
  {
   "cell_type": "code",
   "execution_count": 1,
   "metadata": {},
   "outputs": [
    {
     "name": "stdout",
     "output_type": "stream",
     "text": [
      "[*********************100%***********************]  1 of 1 completed\n",
      "              Open    High     Low   Close  Adj Close    Volume\n",
      "Date                                                           \n",
      "2016-01-04  129.64  129.99  128.34  129.97      89.53   5469952\n",
      "2016-01-05  130.75  130.87  128.92  129.88      89.47   4105341\n",
      "2016-01-06  128.47  129.62  127.74  129.23      89.02   4509201\n",
      "2016-01-07  127.82  129.08  126.61  127.02      87.50   7348987\n",
      "2016-01-08  127.32  127.93  125.54  125.84      86.69   4981784\n",
      "2016-01-11  126.01  127.93  125.97  127.37      87.74   5203222\n",
      "2016-01-12  127.77  127.90  125.36  127.06      87.53   5312320\n",
      "2016-01-13  127.63  128.37  125.33  125.40      86.39   4916305\n",
      "2016-01-14  126.13  127.91  125.45  127.07      87.53   5972242\n",
      "2016-01-15  124.29  125.12  123.20  124.31      85.64   9422891\n",
      "2016-01-19  124.39  126.29  122.43  122.48      84.37  10438662\n",
      "2016-01-20  113.25  118.54  112.81  116.50      80.25  16901059\n"
     ]
    }
   ],
   "source": [
    "import yfinance as yf\n",
    "x = yf.download('IBM', start=\"2016-01-01\", end=\"2016-01-21\", rounding=True)\n",
    "print(x)"
   ]
  },
  {
   "cell_type": "markdown",
   "metadata": {},
   "source": [
    "Let's see if webreader still works. EDIT: IT doesn't."
   ]
  }
 ],
 "metadata": {
  "kernelspec": {
   "display_name": "Python 3",
   "language": "python",
   "name": "python3"
  },
  "language_info": {
   "codemirror_mode": {
    "name": "ipython",
    "version": 3
   },
   "file_extension": ".py",
   "mimetype": "text/x-python",
   "name": "python",
   "nbconvert_exporter": "python",
   "pygments_lexer": "ipython3",
   "version": "3.10.10"
  }
 },
 "nbformat": 4,
 "nbformat_minor": 2
}
