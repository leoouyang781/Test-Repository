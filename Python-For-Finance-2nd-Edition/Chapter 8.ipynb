{
 "cells": [
  {
   "cell_type": "markdown",
   "metadata": {},
   "source": [
    "# Chapter 8: Time Series Analysis"
   ]
  },
  {
   "cell_type": "markdown",
   "metadata": {},
   "source": [
    "In finance and economics, a huge amount of our data is in the format of time-series,\n",
    "such as stock prices and Gross Domestic Products (GDP). From Chapter 4, Sources\n",
    "of Data, it is shown that from Yahoo!Finance, we could download daily, weekly, and\n",
    "monthly historical price time-series. From Federal Reserve Bank's Economics Data\n",
    "Library (FRED), we could retrieve many historical time-series such as GDP. For\n",
    "time-series, there exist many issues, such as how to estimate returns from historical\n",
    "price data, how to merge datasets with the same or different frequencies, seasonality,\n",
    "and detect auto-correlation. Understanding those properties is vitally important for\n",
    "our knowledge development.\n",
    "\n",
    "In this chapter, the following topics will be covered:\n",
    "• Introduction to time-series analysis\n",
    "\n",
    "• Design a good date variable, and merging different datasets by date\n",
    "\n",
    "• Normal distribution and normality test\n",
    "\n",
    "• Term structure of interest rates, 52-week high, and low trading strategy\n",
    "\n",
    "• Return estimation and converting daily returns to monthly or annual returns\n",
    "\n",
    "• T-test, F-test, and Durbin-Watson test for autocorrelation\n",
    "\n",
    "• Fama-MacBeth regression\n",
    "\n",
    "• Roll (1984) spread, Amihud's (2002) illiquidity, and Pastor and Stambaugh's\n",
    "(2003) liquidity measure\n",
    "\n",
    "• January effect and weekday effect\n",
    "\n",
    "• Retrieving high-frequency data from Google Finance and Prof. Hasbrouck's\n",
    "TORQ database (Trade, Order, Report, and Quotation)\n",
    "\n",
    "• Introduction to CRSP (Center for Research in Security Prices) database"
   ]
  },
  {
   "cell_type": "markdown",
   "metadata": {},
   "source": [
    "## Introduction to Time Series\n",
    "\n",
    "Most finance data is in the format of time-series, see the following several examples.\n",
    "The first one shows how to download historical, daily stock price data from\n",
    "Yahoo!Finance for a given ticker's beginning and ending dates:"
   ]
  },
  {
   "cell_type": "code",
   "execution_count": 9,
   "metadata": {},
   "outputs": [
    {
     "name": "stdout",
     "output_type": "stream",
     "text": [
      "[*********************100%***********************]  1 of 1 completed\n",
      "              Open    High     Low   Close  Adj Close    Volume\n",
      "Date                                                           \n",
      "2016-01-04  129.64  129.99  128.34  129.97      89.53   5469952\n",
      "2016-01-05  130.75  130.87  128.92  129.88      89.47   4105341\n",
      "2016-01-06  128.47  129.62  127.74  129.23      89.02   4509201\n",
      "2016-01-07  127.82  129.08  126.61  127.02      87.50   7348987\n",
      "2016-01-08  127.32  127.93  125.54  125.84      86.69   4981784\n",
      "2016-01-11  126.01  127.93  125.97  127.37      87.74   5203222\n",
      "2016-01-12  127.77  127.90  125.36  127.06      87.53   5312320\n",
      "2016-01-13  127.63  128.37  125.33  125.40      86.39   4916305\n",
      "2016-01-14  126.13  127.91  125.45  127.07      87.53   5972242\n",
      "2016-01-15  124.29  125.12  123.20  124.31      85.64   9422891\n",
      "2016-01-19  124.39  126.29  122.43  122.48      84.37  10438662\n",
      "2016-01-20  113.25  118.54  112.81  116.50      80.25  16901059\n"
     ]
    }
   ],
   "source": [
    "import yfinance as yf\n",
    "x = yf.download('IBM', start=\"2016-01-01\", end=\"2016-01-21\", rounding=True)\n",
    "print(x)"
   ]
  },
  {
   "cell_type": "markdown",
   "metadata": {},
   "source": [
    "Let's see if webreader still works. EDIT: IT doesn't for yahoo. Not an issue. Now let's grab some GDP data."
   ]
  },
  {
   "cell_type": "code",
   "execution_count": 4,
   "metadata": {},
   "outputs": [
    {
     "name": "stdout",
     "output_type": "stream",
     "text": [
      "                GDP\n",
      "DATE               \n",
      "1947-01-01  243.164\n",
      "1947-04-01  245.968\n",
      "                  GDP\n",
      "DATE                 \n",
      "2016-07-01  18892.639\n",
      "2016-10-01  19089.379\n",
      "2017-01-01  19280.084\n"
     ]
    }
   ],
   "source": [
    "import pandas_datareader.data as web\n",
    "import datetime\n",
    "begdate = datetime.datetime(1900, 1, 1)\n",
    "enddate = datetime.datetime(2017, 1, 27)\n",
    "y= web.DataReader(\"GDP\", \"fred\", begdate,enddate)\n",
    "print(x.head(2))\n",
    "print(x.tail(3))"
   ]
  },
  {
   "cell_type": "markdown",
   "metadata": {},
   "source": [
    "GDP data works fine when read through the pandas_datareader module."
   ]
  },
  {
   "cell_type": "markdown",
   "metadata": {},
   "source": [
    "## Merging datasets based on a date variable\n",
    "\n",
    "To make our time-series more manageable, it is a great idea to generate a date\n",
    "variable. When talking about such a variable, readers could think about year (YYYY),\n",
    "year and month (YYYYMM) or year, month, and day (YYYYMMDD). For just the\n",
    "year, month, and day combination, we could have many forms. Using January 20,\n",
    "2017 as an example, we could have 2017-1-20, 1/20/2017, 20Jan2017, 20-1-2017, and\n",
    "the like. In a sense, a true date variable, in our mind, could be easily manipulated.\n",
    "Usually, the true date variable takes a form of year-month-day or other forms of its\n",
    "variants. Assume the date variable has a value of 2000-12-31. After adding one day to\n",
    "its value, the result should be 2001-1-1.\n",
    "\n",
    "We could easily use the pandas.date_range() function to generate our time-series;\n",
    "refer to the following example:"
   ]
  },
  {
   "cell_type": "code",
   "execution_count": 10,
   "metadata": {},
   "outputs": [
    {
     "name": "stdout",
     "output_type": "stream",
     "text": [
      "                 RET\n",
      "2016-01-01  0.431031\n",
      "2016-01-02  0.279193\n",
      "2016-01-03  0.002549\n",
      "2016-01-04  0.109546\n",
      "2016-01-05  0.068252\n"
     ]
    }
   ],
   "source": [
    "import pandas as pd\n",
    "import numpy as np\n",
    "import scipy as sp\n",
    "\n",
    "np.random.seed(1257)\n",
    "mean=0.10\n",
    "std=0.2\n",
    "ddate = pd.date_range('1/1/2016', periods=252)\n",
    "n=len(ddate)\n",
    "rets= np.random.normal(mean,std,n)\n",
    "data = pd.DataFrame(rets, index=ddate,columns=['RET'])\n",
    "print(data.head())"
   ]
  },
  {
   "cell_type": "code",
   "execution_count": 11,
   "metadata": {},
   "outputs": [
    {
     "name": "stdout",
     "output_type": "stream",
     "text": [
      "              Open    High     Low   Close  Adj Close   Volume\n",
      "Date                                                          \n",
      "2016-01-04  129.64  129.99  128.34  129.97      89.53  5469952\n",
      "2016-01-05  130.75  130.87  128.92  129.88      89.47  4105341\n",
      "2016-01-06  128.47  129.62  127.74  129.23      89.02  4509201\n",
      "2016-01-07  127.82  129.08  126.61  127.02      87.50  7348987\n"
     ]
    }
   ],
   "source": [
    "print(x[0:4])"
   ]
  },
  {
   "cell_type": "markdown",
   "metadata": {},
   "source": [
    "Here are several ways to define a date variable:"
   ]
  },
  {
   "cell_type": "code",
   "execution_count": 12,
   "metadata": {},
   "outputs": [
    {
     "data": {
      "text/plain": [
       "DatetimeIndex(['2017-01-01', '2017-01-02', '2017-01-03', '2017-01-04',\n",
       "               '2017-01-05', '2017-01-06', '2017-01-07', '2017-01-08',\n",
       "               '2017-01-09', '2017-01-10',\n",
       "               ...\n",
       "               '2017-08-31', '2017-09-01', '2017-09-02', '2017-09-03',\n",
       "               '2017-09-04', '2017-09-05', '2017-09-06', '2017-09-07',\n",
       "               '2017-09-08', '2017-09-09'],\n",
       "              dtype='datetime64[ns]', length=252, freq='D')"
      ]
     },
     "execution_count": 12,
     "metadata": {},
     "output_type": "execute_result"
    }
   ],
   "source": [
    "# For a range of dates\n",
    "pd.date_range('1/1/2017',periods=252)"
   ]
  },
  {
   "cell_type": "code",
   "execution_count": 13,
   "metadata": {},
   "outputs": [
    {
     "data": {
      "text/plain": [
       "datetime.date(2017, 1, 20)"
      ]
     },
     "execution_count": 13,
     "metadata": {},
     "output_type": "execute_result"
    }
   ],
   "source": [
    "# For a single date\n",
    "datetime.date(2017,1,20)"
   ]
  },
  {
   "cell_type": "code",
   "execution_count": 14,
   "metadata": {},
   "outputs": [
    {
     "data": {
      "text/plain": [
       "datetime.date(2024, 2, 18)"
      ]
     },
     "execution_count": 14,
     "metadata": {},
     "output_type": "execute_result"
    }
   ],
   "source": [
    "# For today's date\n",
    "datetime.date.today()"
   ]
  },
  {
   "cell_type": "code",
   "execution_count": 20,
   "metadata": {},
   "outputs": [
    {
     "data": {
      "text/plain": [
       "datetime.datetime(2024, 2, 18, 13, 59, 31, 119814)"
      ]
     },
     "execution_count": 20,
     "metadata": {},
     "output_type": "execute_result"
    }
   ],
   "source": [
    "# Get the current time\n",
    "from datetime import datetime\n",
    "datetime.now()\n"
   ]
  },
  {
   "cell_type": "markdown",
   "metadata": {},
   "source": [
    "Retrieving the year, month, and day from a date variable is used quite frequently\n",
    "when dealing with time-series—see the following Python program by using the\n",
    "strftime() function. The corresponding output is in the following right panel. The\n",
    "format of those results of year, month, and day, is string:"
   ]
  },
  {
   "cell_type": "code",
   "execution_count": 21,
   "metadata": {},
   "outputs": [
    {
     "name": "stdout",
     "output_type": "stream",
     "text": [
      "2024 02 18 24\n"
     ]
    }
   ],
   "source": [
    "import datetime\n",
    "today=datetime.date.today()\n",
    "year=today.strftime(\"%Y\")\n",
    "year2=today.strftime(\"%y\")\n",
    "month=today.strftime(\"%m\")\n",
    "day=today.strftime(\"%d\")\n",
    "print(year,month,day,year2)"
   ]
  },
  {
   "cell_type": "markdown",
   "metadata": {},
   "source": [
    "## Return Estimation\n",
    "\n",
    "With price data, we could calculate returns. In addition, sometimes we have to\n",
    "convert daily returns to weekly or monthly, or convert monthly returns to quarterly\n",
    "or annual ones. Thus, understanding how to estimate returns and their conversion is\n",
    "vital. Assume that we have the following four prices:"
   ]
  },
  {
   "cell_type": "code",
   "execution_count": 22,
   "metadata": {},
   "outputs": [],
   "source": [
    "p=[1,1.1,0.9,1.05]"
   ]
  },
  {
   "cell_type": "code",
   "execution_count": 23,
   "metadata": {},
   "outputs": [
    {
     "name": "stdout",
     "output_type": "stream",
     "text": [
      "[1, 1.1, 0.9]\n",
      "[1.1, 0.9, 1.05]\n"
     ]
    }
   ],
   "source": [
    "print(p[:-1])\n",
    "print(p[1:])"
   ]
  },
  {
   "cell_type": "markdown",
   "metadata": {},
   "source": [
    "To estimate returns, we could use the following code:"
   ]
  },
  {
   "cell_type": "code",
   "execution_count": 26,
   "metadata": {},
   "outputs": [
    {
     "ename": "TypeError",
     "evalue": "unsupported operand type(s) for /: 'list' and 'list'",
     "output_type": "error",
     "traceback": [
      "\u001b[0;31m---------------------------------------------------------------------------\u001b[0m",
      "\u001b[0;31mTypeError\u001b[0m                                 Traceback (most recent call last)",
      "\u001b[1;32m/opt/code/test_repo/Python-For-Finance-2nd-Edition/Chapter 8.ipynb Cell 22\u001b[0m line \u001b[0;36m1\n\u001b[0;32m----> <a href='vscode-notebook-cell:/opt/code/test_repo/Python-For-Finance-2nd-Edition/Chapter%208.ipynb#X33sZmlsZQ%3D%3D?line=0'>1</a>\u001b[0m ret\u001b[39m=\u001b[39mp[\u001b[39m1\u001b[39;49m:]\u001b[39m/\u001b[39;49mp[:\u001b[39m-\u001b[39;49m\u001b[39m1\u001b[39;49m]\u001b[39m-\u001b[39m\u001b[39m1\u001b[39m\n\u001b[1;32m      <a href='vscode-notebook-cell:/opt/code/test_repo/Python-For-Finance-2nd-Edition/Chapter%208.ipynb#X33sZmlsZQ%3D%3D?line=1'>2</a>\u001b[0m ret\n",
      "\u001b[0;31mTypeError\u001b[0m: unsupported operand type(s) for /: 'list' and 'list'"
     ]
    }
   ],
   "source": [
    "ret=p[1:]/p[:-1]-1\n",
    "ret\n",
    "\n",
    "# this doesn't appear to work"
   ]
  },
  {
   "cell_type": "markdown",
   "metadata": {},
   "source": [
    "Alternatively we can use numpy and the pandas libraries to do the same calculation, but in dataframe form."
   ]
  },
  {
   "cell_type": "code",
   "execution_count": 27,
   "metadata": {},
   "outputs": [
    {
     "name": "stdout",
     "output_type": "stream",
     "text": [
      "   Price       Ret\n",
      "0   1.00       NaN\n",
      "1   1.10  0.100000\n",
      "2   0.90 -0.181818\n",
      "3   1.05  0.166667\n"
     ]
    }
   ],
   "source": [
    "p=[1,1.1,0.9,1.05]\n",
    "a=pd.DataFrame({'Price':p})\n",
    "a['Ret']=a['Price'].diff()/a['Price'].shift(1)\n",
    "print(a)"
   ]
  },
  {
   "cell_type": "markdown",
   "metadata": {},
   "source": [
    "Let's now analyze daily price data using what we've done above."
   ]
  },
  {
   "cell_type": "code",
   "execution_count": 69,
   "metadata": {},
   "outputs": [
    {
     "name": "stdout",
     "output_type": "stream",
     "text": [
      "[*********************100%***********************]  1 of 1 completed\n"
     ]
    },
    {
     "data": {
      "text/plain": [
       "Date\n",
       "2013-01-02         NaN\n",
       "2013-01-03   -0.005540\n",
       "2013-01-04   -0.006535\n",
       "2013-01-07   -0.004368\n",
       "2013-01-08   -0.001408\n",
       "                ...   \n",
       "2013-11-04    0.005778\n",
       "2013-11-05   -0.013404\n",
       "2013-11-06    0.007528\n",
       "2013-11-07    0.004495\n",
       "2013-11-08   -0.000058\n",
       "Name: Close, Length: 217, dtype: float64"
      ]
     },
     "execution_count": 69,
     "metadata": {},
     "output_type": "execute_result"
    }
   ],
   "source": [
    "x = yf.download('IBM', start=\"2013-01-01\", end=\"2013-11-9\", rounding=True)\n",
    "ret=x['Close'].pct_change()\n",
    "ret"
   ]
  },
  {
   "cell_type": "code",
   "execution_count": 70,
   "metadata": {},
   "outputs": [
    {
     "data": {
      "text/plain": [
       "DatetimeIndex(['2013-01-02', '2013-01-03', '2013-01-04'], dtype='datetime64[ns]', name='Date', freq=None)"
      ]
     },
     "execution_count": 70,
     "metadata": {},
     "output_type": "execute_result"
    }
   ],
   "source": [
    "x.index[0:3]"
   ]
  },
  {
   "cell_type": "code",
   "execution_count": 71,
   "metadata": {},
   "outputs": [
    {
     "data": {
      "text/plain": [
       "Date\n",
       "2013-01-02    187.72\n",
       "2013-01-03    186.68\n",
       "2013-01-04    185.46\n",
       "Name: Close, dtype: float64"
      ]
     },
     "execution_count": 71,
     "metadata": {},
     "output_type": "execute_result"
    }
   ],
   "source": [
    "x['Close'][0:3] "
   ]
  },
  {
   "cell_type": "code",
   "execution_count": 72,
   "metadata": {},
   "outputs": [
    {
     "data": {
      "text/plain": [
       "Date\n",
       "2013-01-02         NaN\n",
       "2013-01-03   -0.005540\n",
       "2013-01-04   -0.006535\n",
       "Name: Close, dtype: float64"
      ]
     },
     "execution_count": 72,
     "metadata": {},
     "output_type": "execute_result"
    }
   ],
   "source": [
    "ret[0:3]"
   ]
  },
  {
   "cell_type": "markdown",
   "metadata": {},
   "source": [
    "## Converting daily returns to monthly ones\n",
    "\n",
    "Sometimes, we need to convert daily returns to monthly or annual ones. Here is our\n",
    "procedure. First, we estimate the daily log returns. We then take a summation of\n",
    "all daily log returns within each month to find out the corresponding monthly log\n",
    "returns. The final step is to convert a log monthly return to a monthly percentage\n",
    "return. Assume that we have the price data of p0, p1, p2, …., p20, where p0 is the last\n",
    "trading price of the last month, p1 is the first price of this month, and p20 is the last\n",
    "price of this month. Thus, this month's percentage return is given as follows:\n",
    "\n",
    "R(monthly) = (p20 - p0) / p0\n",
    "\n",
    "LogR(monthly) = log (p20/p0)\n",
    "\n",
    "R(monthly) = exp(LogR) -1"
   ]
  },
  {
   "cell_type": "code",
   "execution_count": 73,
   "metadata": {},
   "outputs": [
    {
     "data": {
      "text/plain": [
       "DatetimeIndex(['2013-01-02', '2013-01-03', '2013-01-04', '2013-01-07',\n",
       "               '2013-01-08', '2013-01-09', '2013-01-10', '2013-01-11',\n",
       "               '2013-01-14', '2013-01-15',\n",
       "               ...\n",
       "               '2013-10-28', '2013-10-29', '2013-10-30', '2013-10-31',\n",
       "               '2013-11-01', '2013-11-04', '2013-11-05', '2013-11-06',\n",
       "               '2013-11-07', '2013-11-08'],\n",
       "              dtype='datetime64[ns]', name='Date', length=217, freq=None)"
      ]
     },
     "execution_count": 73,
     "metadata": {},
     "output_type": "execute_result"
    }
   ],
   "source": [
    "logret = pd.DataFrame(np.log(1+ x['Close'].pct_change()))\n",
    "logret = logret.rename(columns={'Close':'Returns'})\n",
    "yyyymm=[]\n",
    "d0=x.index\n",
    "\n",
    "logret\n",
    "d0\n"
   ]
  },
  {
   "cell_type": "code",
   "execution_count": 78,
   "metadata": {},
   "outputs": [
    {
     "name": "stdout",
     "output_type": "stream",
     "text": [
      "          Returns\n",
      "Months           \n",
      "2013-01  0.033628\n",
      "2013-02 -0.011084\n",
      "2013-03  0.060232\n",
      "2013-04 -0.051779\n",
      "2013-05  0.026702\n"
     ]
    }
   ],
   "source": [
    "#\n",
    "logret['Months'] = d0.strftime(\"%Y-%m\")\n",
    "logret\n",
    "\n",
    "retMonthly=logret.groupby(logret['Months']).sum()\n",
    "print(retMonthly.head())\n"
   ]
  },
  {
   "cell_type": "markdown",
   "metadata": {},
   "source": [
    "## Merging datasets by date\n",
    "\n",
    "The following program merges the daily adjusted closing price of IBM with the\n",
    "daily Fama-French 3-factor time-series."
   ]
  },
  {
   "cell_type": "code",
   "execution_count": 146,
   "metadata": {},
   "outputs": [
    {
     "name": "stdout",
     "output_type": "stream",
     "text": [
      "[*********************100%***********************]  1 of 1 completed\n"
     ]
    },
    {
     "data": {
      "text/html": [
       "<div>\n",
       "<style scoped>\n",
       "    .dataframe tbody tr th:only-of-type {\n",
       "        vertical-align: middle;\n",
       "    }\n",
       "\n",
       "    .dataframe tbody tr th {\n",
       "        vertical-align: top;\n",
       "    }\n",
       "\n",
       "    .dataframe thead th {\n",
       "        text-align: right;\n",
       "    }\n",
       "</style>\n",
       "<table border=\"1\" class=\"dataframe\">\n",
       "  <thead>\n",
       "    <tr style=\"text-align: right;\">\n",
       "      <th></th>\n",
       "      <th>Mkt-RF</th>\n",
       "      <th>SMB</th>\n",
       "      <th>HML</th>\n",
       "      <th>RF</th>\n",
       "    </tr>\n",
       "    <tr>\n",
       "      <th>Date</th>\n",
       "      <th></th>\n",
       "      <th></th>\n",
       "      <th></th>\n",
       "      <th></th>\n",
       "    </tr>\n",
       "  </thead>\n",
       "  <tbody>\n",
       "    <tr>\n",
       "      <th>1926-07-01</th>\n",
       "      <td>0.10</td>\n",
       "      <td>-0.25</td>\n",
       "      <td>-0.27</td>\n",
       "      <td>0.009</td>\n",
       "    </tr>\n",
       "    <tr>\n",
       "      <th>1926-07-02</th>\n",
       "      <td>0.45</td>\n",
       "      <td>-0.33</td>\n",
       "      <td>-0.06</td>\n",
       "      <td>0.009</td>\n",
       "    </tr>\n",
       "    <tr>\n",
       "      <th>1926-07-06</th>\n",
       "      <td>0.17</td>\n",
       "      <td>0.30</td>\n",
       "      <td>-0.39</td>\n",
       "      <td>0.009</td>\n",
       "    </tr>\n",
       "    <tr>\n",
       "      <th>1926-07-07</th>\n",
       "      <td>0.09</td>\n",
       "      <td>-0.58</td>\n",
       "      <td>0.02</td>\n",
       "      <td>0.009</td>\n",
       "    </tr>\n",
       "    <tr>\n",
       "      <th>1926-07-08</th>\n",
       "      <td>0.21</td>\n",
       "      <td>-0.38</td>\n",
       "      <td>0.19</td>\n",
       "      <td>0.009</td>\n",
       "    </tr>\n",
       "    <tr>\n",
       "      <th>...</th>\n",
       "      <td>...</td>\n",
       "      <td>...</td>\n",
       "      <td>...</td>\n",
       "      <td>...</td>\n",
       "    </tr>\n",
       "    <tr>\n",
       "      <th>2023-12-22</th>\n",
       "      <td>0.21</td>\n",
       "      <td>0.64</td>\n",
       "      <td>0.09</td>\n",
       "      <td>0.021</td>\n",
       "    </tr>\n",
       "    <tr>\n",
       "      <th>2023-12-26</th>\n",
       "      <td>0.48</td>\n",
       "      <td>0.69</td>\n",
       "      <td>0.46</td>\n",
       "      <td>0.021</td>\n",
       "    </tr>\n",
       "    <tr>\n",
       "      <th>2023-12-27</th>\n",
       "      <td>0.16</td>\n",
       "      <td>0.14</td>\n",
       "      <td>0.12</td>\n",
       "      <td>0.021</td>\n",
       "    </tr>\n",
       "    <tr>\n",
       "      <th>2023-12-28</th>\n",
       "      <td>-0.01</td>\n",
       "      <td>-0.36</td>\n",
       "      <td>0.03</td>\n",
       "      <td>0.021</td>\n",
       "    </tr>\n",
       "    <tr>\n",
       "      <th>2023-12-29</th>\n",
       "      <td>-0.43</td>\n",
       "      <td>-1.12</td>\n",
       "      <td>-0.37</td>\n",
       "      <td>0.021</td>\n",
       "    </tr>\n",
       "  </tbody>\n",
       "</table>\n",
       "<p>25649 rows × 4 columns</p>\n",
       "</div>"
      ],
      "text/plain": [
       "            Mkt-RF   SMB   HML     RF\n",
       "Date                                 \n",
       "1926-07-01    0.10 -0.25 -0.27  0.009\n",
       "1926-07-02    0.45 -0.33 -0.06  0.009\n",
       "1926-07-06    0.17  0.30 -0.39  0.009\n",
       "1926-07-07    0.09 -0.58  0.02  0.009\n",
       "1926-07-08    0.21 -0.38  0.19  0.009\n",
       "...            ...   ...   ...    ...\n",
       "2023-12-22    0.21  0.64  0.09  0.021\n",
       "2023-12-26    0.48  0.69  0.46  0.021\n",
       "2023-12-27    0.16  0.14  0.12  0.021\n",
       "2023-12-28   -0.01 -0.36  0.03  0.021\n",
       "2023-12-29   -0.43 -1.12 -0.37  0.021\n",
       "\n",
       "[25649 rows x 4 columns]"
      ]
     },
     "execution_count": 146,
     "metadata": {},
     "output_type": "execute_result"
    }
   ],
   "source": [
    "ticker='IBM'\n",
    "begdate=datetime.date(2016,1,2)\n",
    "enddate=datetime.date(2017,1,9)\n",
    "x = yf.download(ticker, start = begdate, end = enddate, rounding = True)\n",
    "\n",
    "f3factor = pd.read_csv('/opt/code/test_repo/Python-For-Finance-2nd-Edition/F-F_Research_Data_Factors_daily.CSV').dropna()\n",
    "f3factor['Date'] = pd.to_numeric(f3factor['Date'], errors=\"coerce\").astype(int).dropna()\n",
    "f3factor['Date'] = pd.to_datetime(f3factor['Date'], format='%Y%m%d')\n",
    "f3factor = f3factor.set_index('Date')\n",
    "\n",
    "myName=ticker+'_adjClose'\n",
    "x2= pd.DataFrame(x['Close']).rename(columns={'Close':myName})\n",
    "\n",
    "f3factor\n"
   ]
  },
  {
   "cell_type": "code",
   "execution_count": 147,
   "metadata": {},
   "outputs": [
    {
     "name": "stdout",
     "output_type": "stream",
     "text": [
      "            IBM_adjClose  Mkt-RF   SMB   HML   RF\n",
      "Date                                             \n",
      "2016-01-04        129.97   -1.59 -0.87  0.52  0.0\n",
      "2016-01-05        129.88    0.12 -0.19  0.01  0.0\n",
      "2016-01-06        129.23   -1.35 -0.14  0.00  0.0\n",
      "2016-01-07        127.02   -2.44 -0.29  0.08  0.0\n",
      "2016-01-08        125.84   -1.11 -0.50 -0.03  0.0\n"
     ]
    },
    {
     "data": {
      "text/html": [
       "<div>\n",
       "<style scoped>\n",
       "    .dataframe tbody tr th:only-of-type {\n",
       "        vertical-align: middle;\n",
       "    }\n",
       "\n",
       "    .dataframe tbody tr th {\n",
       "        vertical-align: top;\n",
       "    }\n",
       "\n",
       "    .dataframe thead th {\n",
       "        text-align: right;\n",
       "    }\n",
       "</style>\n",
       "<table border=\"1\" class=\"dataframe\">\n",
       "  <thead>\n",
       "    <tr style=\"text-align: right;\">\n",
       "      <th></th>\n",
       "      <th>IBM_adjClose</th>\n",
       "      <th>Mkt-RF</th>\n",
       "      <th>SMB</th>\n",
       "      <th>HML</th>\n",
       "      <th>RF</th>\n",
       "    </tr>\n",
       "    <tr>\n",
       "      <th>Date</th>\n",
       "      <th></th>\n",
       "      <th></th>\n",
       "      <th></th>\n",
       "      <th></th>\n",
       "      <th></th>\n",
       "    </tr>\n",
       "  </thead>\n",
       "  <tbody>\n",
       "    <tr>\n",
       "      <th>2016-01-04</th>\n",
       "      <td>129.97</td>\n",
       "      <td>-1.59</td>\n",
       "      <td>-0.87</td>\n",
       "      <td>0.52</td>\n",
       "      <td>0.0</td>\n",
       "    </tr>\n",
       "    <tr>\n",
       "      <th>2016-01-05</th>\n",
       "      <td>129.88</td>\n",
       "      <td>0.12</td>\n",
       "      <td>-0.19</td>\n",
       "      <td>0.01</td>\n",
       "      <td>0.0</td>\n",
       "    </tr>\n",
       "    <tr>\n",
       "      <th>2016-01-06</th>\n",
       "      <td>129.23</td>\n",
       "      <td>-1.35</td>\n",
       "      <td>-0.14</td>\n",
       "      <td>0.00</td>\n",
       "      <td>0.0</td>\n",
       "    </tr>\n",
       "    <tr>\n",
       "      <th>2016-01-07</th>\n",
       "      <td>127.02</td>\n",
       "      <td>-2.44</td>\n",
       "      <td>-0.29</td>\n",
       "      <td>0.08</td>\n",
       "      <td>0.0</td>\n",
       "    </tr>\n",
       "    <tr>\n",
       "      <th>2016-01-08</th>\n",
       "      <td>125.84</td>\n",
       "      <td>-1.11</td>\n",
       "      <td>-0.50</td>\n",
       "      <td>-0.03</td>\n",
       "      <td>0.0</td>\n",
       "    </tr>\n",
       "  </tbody>\n",
       "</table>\n",
       "</div>"
      ],
      "text/plain": [
       "            IBM_adjClose  Mkt-RF   SMB   HML   RF\n",
       "Date                                             \n",
       "2016-01-04        129.97   -1.59 -0.87  0.52  0.0\n",
       "2016-01-05        129.88    0.12 -0.19  0.01  0.0\n",
       "2016-01-06        129.23   -1.35 -0.14  0.00  0.0\n",
       "2016-01-07        127.02   -2.44 -0.29  0.08  0.0\n",
       "2016-01-08        125.84   -1.11 -0.50 -0.03  0.0"
      ]
     },
     "execution_count": 147,
     "metadata": {},
     "output_type": "execute_result"
    }
   ],
   "source": [
    "final=pd.merge(x2,f3factor,left_index=True,right_index=True)\n",
    "print(final.head())\n",
    "final.head()"
   ]
  }
 ],
 "metadata": {
  "kernelspec": {
   "display_name": "Python 3",
   "language": "python",
   "name": "python3"
  },
  "language_info": {
   "codemirror_mode": {
    "name": "ipython",
    "version": 3
   },
   "file_extension": ".py",
   "mimetype": "text/x-python",
   "name": "python",
   "nbconvert_exporter": "python",
   "pygments_lexer": "ipython3",
   "version": "3.10.10"
  }
 },
 "nbformat": 4,
 "nbformat_minor": 2
}
