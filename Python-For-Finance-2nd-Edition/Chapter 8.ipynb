{
 "cells": [
  {
   "cell_type": "markdown",
   "metadata": {},
   "source": [
    "# Chapter 8: Time Series Analysis"
   ]
  },
  {
   "cell_type": "markdown",
   "metadata": {},
   "source": [
    "In finance and economics, a huge amount of our data is in the format of time-series,\n",
    "such as stock prices and Gross Domestic Products (GDP). From Chapter 4, Sources\n",
    "of Data, it is shown that from Yahoo!Finance, we could download daily, weekly, and\n",
    "monthly historical price time-series. From Federal Reserve Bank's Economics Data\n",
    "Library (FRED), we could retrieve many historical time-series such as GDP. For\n",
    "time-series, there exist many issues, such as how to estimate returns from historical\n",
    "price data, how to merge datasets with the same or different frequencies, seasonality,\n",
    "and detect auto-correlation. Understanding those properties is vitally important for\n",
    "our knowledge development.\n",
    "\n",
    "In this chapter, the following topics will be covered:\n",
    "• Introduction to time-series analysis\n",
    "\n",
    "• Design a good date variable, and merging different datasets by date\n",
    "\n",
    "• Normal distribution and normality test\n",
    "\n",
    "• Term structure of interest rates, 52-week high, and low trading strategy\n",
    "\n",
    "• Return estimation and converting daily returns to monthly or annual returns\n",
    "\n",
    "• T-test, F-test, and Durbin-Watson test for autocorrelation\n",
    "\n",
    "• Fama-MacBeth regression\n",
    "\n",
    "• Roll (1984) spread, Amihud's (2002) illiquidity, and Pastor and Stambaugh's\n",
    "(2003) liquidity measure\n",
    "\n",
    "• January effect and weekday effect\n",
    "\n",
    "• Retrieving high-frequency data from Google Finance and Prof. Hasbrouck's\n",
    "TORQ database (Trade, Order, Report, and Quotation)\n",
    "\n",
    "• Introduction to CRSP (Center for Research in Security Prices) database"
   ]
  },
  {
   "cell_type": "markdown",
   "metadata": {},
   "source": [
    "## Introduction to Time Series\n",
    "\n",
    "Most finance data is in the format of time-series, see the following several examples.\n",
    "The first one shows how to download historical, daily stock price data from\n",
    "Yahoo!Finance for a given ticker's beginning and ending dates:"
   ]
  },
  {
   "cell_type": "code",
   "execution_count": 9,
   "metadata": {},
   "outputs": [
    {
     "name": "stdout",
     "output_type": "stream",
     "text": [
      "[*********************100%***********************]  1 of 1 completed\n",
      "              Open    High     Low   Close  Adj Close    Volume\n",
      "Date                                                           \n",
      "2016-01-04  129.64  129.99  128.34  129.97      89.53   5469952\n",
      "2016-01-05  130.75  130.87  128.92  129.88      89.47   4105341\n",
      "2016-01-06  128.47  129.62  127.74  129.23      89.02   4509201\n",
      "2016-01-07  127.82  129.08  126.61  127.02      87.50   7348987\n",
      "2016-01-08  127.32  127.93  125.54  125.84      86.69   4981784\n",
      "2016-01-11  126.01  127.93  125.97  127.37      87.74   5203222\n",
      "2016-01-12  127.77  127.90  125.36  127.06      87.53   5312320\n",
      "2016-01-13  127.63  128.37  125.33  125.40      86.39   4916305\n",
      "2016-01-14  126.13  127.91  125.45  127.07      87.53   5972242\n",
      "2016-01-15  124.29  125.12  123.20  124.31      85.64   9422891\n",
      "2016-01-19  124.39  126.29  122.43  122.48      84.37  10438662\n",
      "2016-01-20  113.25  118.54  112.81  116.50      80.25  16901059\n"
     ]
    }
   ],
   "source": [
    "import yfinance as yf\n",
    "x = yf.download('IBM', start=\"2016-01-01\", end=\"2016-01-21\", rounding=True)\n",
    "print(x)"
   ]
  },
  {
   "cell_type": "markdown",
   "metadata": {},
   "source": [
    "Let's see if webreader still works. EDIT: IT doesn't for yahoo. Not an issue. Now let's grab some GDP data."
   ]
  },
  {
   "cell_type": "code",
   "execution_count": 4,
   "metadata": {},
   "outputs": [
    {
     "name": "stdout",
     "output_type": "stream",
     "text": [
      "                GDP\n",
      "DATE               \n",
      "1947-01-01  243.164\n",
      "1947-04-01  245.968\n",
      "                  GDP\n",
      "DATE                 \n",
      "2016-07-01  18892.639\n",
      "2016-10-01  19089.379\n",
      "2017-01-01  19280.084\n"
     ]
    }
   ],
   "source": [
    "import pandas_datareader.data as web\n",
    "import datetime\n",
    "begdate = datetime.datetime(1900, 1, 1)\n",
    "enddate = datetime.datetime(2017, 1, 27)\n",
    "y= web.DataReader(\"GDP\", \"fred\", begdate,enddate)\n",
    "print(x.head(2))\n",
    "print(x.tail(3))"
   ]
  },
  {
   "cell_type": "markdown",
   "metadata": {},
   "source": [
    "GDP data works fine when read through the pandas_datareader module."
   ]
  },
  {
   "cell_type": "markdown",
   "metadata": {},
   "source": [
    "## Merging datasets based on a date variable\n",
    "\n",
    "To make our time-series more manageable, it is a great idea to generate a date\n",
    "variable. When talking about such a variable, readers could think about year (YYYY),\n",
    "year and month (YYYYMM) or year, month, and day (YYYYMMDD). For just the\n",
    "year, month, and day combination, we could have many forms. Using January 20,\n",
    "2017 as an example, we could have 2017-1-20, 1/20/2017, 20Jan2017, 20-1-2017, and\n",
    "the like. In a sense, a true date variable, in our mind, could be easily manipulated.\n",
    "Usually, the true date variable takes a form of year-month-day or other forms of its\n",
    "variants. Assume the date variable has a value of 2000-12-31. After adding one day to\n",
    "its value, the result should be 2001-1-1.\n",
    "\n",
    "We could easily use the pandas.date_range() function to generate our time-series;\n",
    "refer to the following example:"
   ]
  },
  {
   "cell_type": "code",
   "execution_count": 10,
   "metadata": {},
   "outputs": [
    {
     "name": "stdout",
     "output_type": "stream",
     "text": [
      "                 RET\n",
      "2016-01-01  0.431031\n",
      "2016-01-02  0.279193\n",
      "2016-01-03  0.002549\n",
      "2016-01-04  0.109546\n",
      "2016-01-05  0.068252\n"
     ]
    }
   ],
   "source": [
    "import pandas as pd\n",
    "import numpy as np\n",
    "import scipy as sp\n",
    "\n",
    "np.random.seed(1257)\n",
    "mean=0.10\n",
    "std=0.2\n",
    "ddate = pd.date_range('1/1/2016', periods=252)\n",
    "n=len(ddate)\n",
    "rets= np.random.normal(mean,std,n)\n",
    "data = pd.DataFrame(rets, index=ddate,columns=['RET'])\n",
    "print(data.head())"
   ]
  },
  {
   "cell_type": "code",
   "execution_count": 11,
   "metadata": {},
   "outputs": [
    {
     "name": "stdout",
     "output_type": "stream",
     "text": [
      "              Open    High     Low   Close  Adj Close   Volume\n",
      "Date                                                          \n",
      "2016-01-04  129.64  129.99  128.34  129.97      89.53  5469952\n",
      "2016-01-05  130.75  130.87  128.92  129.88      89.47  4105341\n",
      "2016-01-06  128.47  129.62  127.74  129.23      89.02  4509201\n",
      "2016-01-07  127.82  129.08  126.61  127.02      87.50  7348987\n"
     ]
    }
   ],
   "source": [
    "print(x[0:4])"
   ]
  },
  {
   "cell_type": "markdown",
   "metadata": {},
   "source": [
    "Here are several ways to define a date variable:"
   ]
  },
  {
   "cell_type": "code",
   "execution_count": 12,
   "metadata": {},
   "outputs": [
    {
     "data": {
      "text/plain": [
       "DatetimeIndex(['2017-01-01', '2017-01-02', '2017-01-03', '2017-01-04',\n",
       "               '2017-01-05', '2017-01-06', '2017-01-07', '2017-01-08',\n",
       "               '2017-01-09', '2017-01-10',\n",
       "               ...\n",
       "               '2017-08-31', '2017-09-01', '2017-09-02', '2017-09-03',\n",
       "               '2017-09-04', '2017-09-05', '2017-09-06', '2017-09-07',\n",
       "               '2017-09-08', '2017-09-09'],\n",
       "              dtype='datetime64[ns]', length=252, freq='D')"
      ]
     },
     "execution_count": 12,
     "metadata": {},
     "output_type": "execute_result"
    }
   ],
   "source": [
    "# For a range of dates\n",
    "pd.date_range('1/1/2017',periods=252)"
   ]
  },
  {
   "cell_type": "code",
   "execution_count": 13,
   "metadata": {},
   "outputs": [
    {
     "data": {
      "text/plain": [
       "datetime.date(2017, 1, 20)"
      ]
     },
     "execution_count": 13,
     "metadata": {},
     "output_type": "execute_result"
    }
   ],
   "source": [
    "# For a single date\n",
    "datetime.date(2017,1,20)"
   ]
  },
  {
   "cell_type": "code",
   "execution_count": 14,
   "metadata": {},
   "outputs": [
    {
     "data": {
      "text/plain": [
       "datetime.date(2024, 2, 18)"
      ]
     },
     "execution_count": 14,
     "metadata": {},
     "output_type": "execute_result"
    }
   ],
   "source": [
    "# For today's date\n",
    "datetime.date.today()"
   ]
  },
  {
   "cell_type": "code",
   "execution_count": 20,
   "metadata": {},
   "outputs": [
    {
     "data": {
      "text/plain": [
       "datetime.datetime(2024, 2, 18, 13, 59, 31, 119814)"
      ]
     },
     "execution_count": 20,
     "metadata": {},
     "output_type": "execute_result"
    }
   ],
   "source": [
    "# Get the current time\n",
    "from datetime import datetime\n",
    "datetime.now()\n"
   ]
  },
  {
   "cell_type": "markdown",
   "metadata": {},
   "source": [
    "Retrieving the year, month, and day from a date variable is used quite frequently\n",
    "when dealing with time-series—see the following Python program by using the\n",
    "strftime() function. The corresponding output is in the following right panel. The\n",
    "format of those results of year, month, and day, is string:"
   ]
  },
  {
   "cell_type": "code",
   "execution_count": 21,
   "metadata": {},
   "outputs": [
    {
     "name": "stdout",
     "output_type": "stream",
     "text": [
      "2024 02 18 24\n"
     ]
    }
   ],
   "source": [
    "import datetime\n",
    "today=datetime.date.today()\n",
    "year=today.strftime(\"%Y\")\n",
    "year2=today.strftime(\"%y\")\n",
    "month=today.strftime(\"%m\")\n",
    "day=today.strftime(\"%d\")\n",
    "print(year,month,day,year2)"
   ]
  },
  {
   "cell_type": "markdown",
   "metadata": {},
   "source": [
    "## Return Estimation\n",
    "\n",
    "With price data, we could calculate returns. In addition, sometimes we have to\n",
    "convert daily returns to weekly or monthly, or convert monthly returns to quarterly\n",
    "or annual ones. Thus, understanding how to estimate returns and their conversion is\n",
    "vital. Assume that we have the following four prices:"
   ]
  },
  {
   "cell_type": "code",
   "execution_count": 22,
   "metadata": {},
   "outputs": [],
   "source": [
    "p=[1,1.1,0.9,1.05]"
   ]
  },
  {
   "cell_type": "code",
   "execution_count": 23,
   "metadata": {},
   "outputs": [
    {
     "name": "stdout",
     "output_type": "stream",
     "text": [
      "[1, 1.1, 0.9]\n",
      "[1.1, 0.9, 1.05]\n"
     ]
    }
   ],
   "source": [
    "print(p[:-1])\n",
    "print(p[1:])"
   ]
  },
  {
   "cell_type": "markdown",
   "metadata": {},
   "source": [
    "To estimate returns, we could use the following code:"
   ]
  },
  {
   "cell_type": "code",
   "execution_count": 26,
   "metadata": {},
   "outputs": [
    {
     "ename": "TypeError",
     "evalue": "unsupported operand type(s) for /: 'list' and 'list'",
     "output_type": "error",
     "traceback": [
      "\u001b[0;31m---------------------------------------------------------------------------\u001b[0m",
      "\u001b[0;31mTypeError\u001b[0m                                 Traceback (most recent call last)",
      "\u001b[1;32m/opt/code/test_repo/Python-For-Finance-2nd-Edition/Chapter 8.ipynb Cell 22\u001b[0m line \u001b[0;36m1\n\u001b[0;32m----> <a href='vscode-notebook-cell:/opt/code/test_repo/Python-For-Finance-2nd-Edition/Chapter%208.ipynb#X33sZmlsZQ%3D%3D?line=0'>1</a>\u001b[0m ret\u001b[39m=\u001b[39mp[\u001b[39m1\u001b[39;49m:]\u001b[39m/\u001b[39;49mp[:\u001b[39m-\u001b[39;49m\u001b[39m1\u001b[39;49m]\u001b[39m-\u001b[39m\u001b[39m1\u001b[39m\n\u001b[1;32m      <a href='vscode-notebook-cell:/opt/code/test_repo/Python-For-Finance-2nd-Edition/Chapter%208.ipynb#X33sZmlsZQ%3D%3D?line=1'>2</a>\u001b[0m ret\n",
      "\u001b[0;31mTypeError\u001b[0m: unsupported operand type(s) for /: 'list' and 'list'"
     ]
    }
   ],
   "source": [
    "ret=p[1:]/p[:-1]-1\n",
    "ret\n",
    "\n",
    "# this doesn't appear to work"
   ]
  },
  {
   "cell_type": "markdown",
   "metadata": {},
   "source": [
    "Alternatively we can use numpy and the pandas libraries to do the same calculation, but in dataframe form."
   ]
  },
  {
   "cell_type": "code",
   "execution_count": 27,
   "metadata": {},
   "outputs": [
    {
     "name": "stdout",
     "output_type": "stream",
     "text": [
      "   Price       Ret\n",
      "0   1.00       NaN\n",
      "1   1.10  0.100000\n",
      "2   0.90 -0.181818\n",
      "3   1.05  0.166667\n"
     ]
    }
   ],
   "source": [
    "p=[1,1.1,0.9,1.05]\n",
    "a=pd.DataFrame({'Price':p})\n",
    "a['Ret']=a['Price'].diff()/a['Price'].shift(1)\n",
    "print(a)"
   ]
  },
  {
   "cell_type": "markdown",
   "metadata": {},
   "source": [
    "Let's now analyze daily price data using what we've done above."
   ]
  },
  {
   "cell_type": "code",
   "execution_count": 69,
   "metadata": {},
   "outputs": [
    {
     "name": "stdout",
     "output_type": "stream",
     "text": [
      "[*********************100%***********************]  1 of 1 completed\n"
     ]
    },
    {
     "data": {
      "text/plain": [
       "Date\n",
       "2013-01-02         NaN\n",
       "2013-01-03   -0.005540\n",
       "2013-01-04   -0.006535\n",
       "2013-01-07   -0.004368\n",
       "2013-01-08   -0.001408\n",
       "                ...   \n",
       "2013-11-04    0.005778\n",
       "2013-11-05   -0.013404\n",
       "2013-11-06    0.007528\n",
       "2013-11-07    0.004495\n",
       "2013-11-08   -0.000058\n",
       "Name: Close, Length: 217, dtype: float64"
      ]
     },
     "execution_count": 69,
     "metadata": {},
     "output_type": "execute_result"
    }
   ],
   "source": [
    "x = yf.download('IBM', start=\"2013-01-01\", end=\"2013-11-9\", rounding=True)\n",
    "ret=x['Close'].pct_change()\n",
    "ret"
   ]
  },
  {
   "cell_type": "code",
   "execution_count": 70,
   "metadata": {},
   "outputs": [
    {
     "data": {
      "text/plain": [
       "DatetimeIndex(['2013-01-02', '2013-01-03', '2013-01-04'], dtype='datetime64[ns]', name='Date', freq=None)"
      ]
     },
     "execution_count": 70,
     "metadata": {},
     "output_type": "execute_result"
    }
   ],
   "source": [
    "x.index[0:3]"
   ]
  },
  {
   "cell_type": "code",
   "execution_count": 71,
   "metadata": {},
   "outputs": [
    {
     "data": {
      "text/plain": [
       "Date\n",
       "2013-01-02    187.72\n",
       "2013-01-03    186.68\n",
       "2013-01-04    185.46\n",
       "Name: Close, dtype: float64"
      ]
     },
     "execution_count": 71,
     "metadata": {},
     "output_type": "execute_result"
    }
   ],
   "source": [
    "x['Close'][0:3] "
   ]
  },
  {
   "cell_type": "code",
   "execution_count": 72,
   "metadata": {},
   "outputs": [
    {
     "data": {
      "text/plain": [
       "Date\n",
       "2013-01-02         NaN\n",
       "2013-01-03   -0.005540\n",
       "2013-01-04   -0.006535\n",
       "Name: Close, dtype: float64"
      ]
     },
     "execution_count": 72,
     "metadata": {},
     "output_type": "execute_result"
    }
   ],
   "source": [
    "ret[0:3]"
   ]
  },
  {
   "cell_type": "markdown",
   "metadata": {},
   "source": [
    "## Converting daily returns to monthly ones\n",
    "\n",
    "Sometimes, we need to convert daily returns to monthly or annual ones. Here is our\n",
    "procedure. First, we estimate the daily log returns. We then take a summation of\n",
    "all daily log returns within each month to find out the corresponding monthly log\n",
    "returns. The final step is to convert a log monthly return to a monthly percentage\n",
    "return. Assume that we have the price data of p0, p1, p2, …., p20, where p0 is the last\n",
    "trading price of the last month, p1 is the first price of this month, and p20 is the last\n",
    "price of this month. Thus, this month's percentage return is given as follows:\n",
    "\n",
    "R(monthly) = (p20 - p0) / p0\n",
    "\n",
    "LogR(monthly) = log (p20/p0)\n",
    "\n",
    "R(monthly) = exp(LogR) -1"
   ]
  },
  {
   "cell_type": "code",
   "execution_count": 73,
   "metadata": {},
   "outputs": [
    {
     "data": {
      "text/plain": [
       "DatetimeIndex(['2013-01-02', '2013-01-03', '2013-01-04', '2013-01-07',\n",
       "               '2013-01-08', '2013-01-09', '2013-01-10', '2013-01-11',\n",
       "               '2013-01-14', '2013-01-15',\n",
       "               ...\n",
       "               '2013-10-28', '2013-10-29', '2013-10-30', '2013-10-31',\n",
       "               '2013-11-01', '2013-11-04', '2013-11-05', '2013-11-06',\n",
       "               '2013-11-07', '2013-11-08'],\n",
       "              dtype='datetime64[ns]', name='Date', length=217, freq=None)"
      ]
     },
     "execution_count": 73,
     "metadata": {},
     "output_type": "execute_result"
    }
   ],
   "source": [
    "logret = pd.DataFrame(np.log(1+ x['Close'].pct_change()))\n",
    "logret = logret.rename(columns={'Close':'Returns'})\n",
    "yyyymm=[]\n",
    "d0=x.index\n",
    "\n",
    "logret\n",
    "d0\n"
   ]
  },
  {
   "cell_type": "code",
   "execution_count": 78,
   "metadata": {},
   "outputs": [
    {
     "name": "stdout",
     "output_type": "stream",
     "text": [
      "          Returns\n",
      "Months           \n",
      "2013-01  0.033628\n",
      "2013-02 -0.011084\n",
      "2013-03  0.060232\n",
      "2013-04 -0.051779\n",
      "2013-05  0.026702\n"
     ]
    }
   ],
   "source": [
    "#\n",
    "logret['Months'] = d0.strftime(\"%Y-%m\")\n",
    "logret\n",
    "\n",
    "retMonthly=logret.groupby(logret['Months']).sum()\n",
    "print(retMonthly.head())\n"
   ]
  },
  {
   "cell_type": "markdown",
   "metadata": {},
   "source": [
    "## Merging datasets by date\n",
    "\n",
    "The following program merges the daily adjusted closing price of IBM with the\n",
    "daily Fama-French 3-factor time-series."
   ]
  },
  {
   "cell_type": "code",
   "execution_count": 146,
   "metadata": {},
   "outputs": [
    {
     "name": "stdout",
     "output_type": "stream",
     "text": [
      "[*********************100%***********************]  1 of 1 completed\n"
     ]
    },
    {
     "data": {
      "text/html": [
       "<div>\n",
       "<style scoped>\n",
       "    .dataframe tbody tr th:only-of-type {\n",
       "        vertical-align: middle;\n",
       "    }\n",
       "\n",
       "    .dataframe tbody tr th {\n",
       "        vertical-align: top;\n",
       "    }\n",
       "\n",
       "    .dataframe thead th {\n",
       "        text-align: right;\n",
       "    }\n",
       "</style>\n",
       "<table border=\"1\" class=\"dataframe\">\n",
       "  <thead>\n",
       "    <tr style=\"text-align: right;\">\n",
       "      <th></th>\n",
       "      <th>Mkt-RF</th>\n",
       "      <th>SMB</th>\n",
       "      <th>HML</th>\n",
       "      <th>RF</th>\n",
       "    </tr>\n",
       "    <tr>\n",
       "      <th>Date</th>\n",
       "      <th></th>\n",
       "      <th></th>\n",
       "      <th></th>\n",
       "      <th></th>\n",
       "    </tr>\n",
       "  </thead>\n",
       "  <tbody>\n",
       "    <tr>\n",
       "      <th>1926-07-01</th>\n",
       "      <td>0.10</td>\n",
       "      <td>-0.25</td>\n",
       "      <td>-0.27</td>\n",
       "      <td>0.009</td>\n",
       "    </tr>\n",
       "    <tr>\n",
       "      <th>1926-07-02</th>\n",
       "      <td>0.45</td>\n",
       "      <td>-0.33</td>\n",
       "      <td>-0.06</td>\n",
       "      <td>0.009</td>\n",
       "    </tr>\n",
       "    <tr>\n",
       "      <th>1926-07-06</th>\n",
       "      <td>0.17</td>\n",
       "      <td>0.30</td>\n",
       "      <td>-0.39</td>\n",
       "      <td>0.009</td>\n",
       "    </tr>\n",
       "    <tr>\n",
       "      <th>1926-07-07</th>\n",
       "      <td>0.09</td>\n",
       "      <td>-0.58</td>\n",
       "      <td>0.02</td>\n",
       "      <td>0.009</td>\n",
       "    </tr>\n",
       "    <tr>\n",
       "      <th>1926-07-08</th>\n",
       "      <td>0.21</td>\n",
       "      <td>-0.38</td>\n",
       "      <td>0.19</td>\n",
       "      <td>0.009</td>\n",
       "    </tr>\n",
       "    <tr>\n",
       "      <th>...</th>\n",
       "      <td>...</td>\n",
       "      <td>...</td>\n",
       "      <td>...</td>\n",
       "      <td>...</td>\n",
       "    </tr>\n",
       "    <tr>\n",
       "      <th>2023-12-22</th>\n",
       "      <td>0.21</td>\n",
       "      <td>0.64</td>\n",
       "      <td>0.09</td>\n",
       "      <td>0.021</td>\n",
       "    </tr>\n",
       "    <tr>\n",
       "      <th>2023-12-26</th>\n",
       "      <td>0.48</td>\n",
       "      <td>0.69</td>\n",
       "      <td>0.46</td>\n",
       "      <td>0.021</td>\n",
       "    </tr>\n",
       "    <tr>\n",
       "      <th>2023-12-27</th>\n",
       "      <td>0.16</td>\n",
       "      <td>0.14</td>\n",
       "      <td>0.12</td>\n",
       "      <td>0.021</td>\n",
       "    </tr>\n",
       "    <tr>\n",
       "      <th>2023-12-28</th>\n",
       "      <td>-0.01</td>\n",
       "      <td>-0.36</td>\n",
       "      <td>0.03</td>\n",
       "      <td>0.021</td>\n",
       "    </tr>\n",
       "    <tr>\n",
       "      <th>2023-12-29</th>\n",
       "      <td>-0.43</td>\n",
       "      <td>-1.12</td>\n",
       "      <td>-0.37</td>\n",
       "      <td>0.021</td>\n",
       "    </tr>\n",
       "  </tbody>\n",
       "</table>\n",
       "<p>25649 rows × 4 columns</p>\n",
       "</div>"
      ],
      "text/plain": [
       "            Mkt-RF   SMB   HML     RF\n",
       "Date                                 \n",
       "1926-07-01    0.10 -0.25 -0.27  0.009\n",
       "1926-07-02    0.45 -0.33 -0.06  0.009\n",
       "1926-07-06    0.17  0.30 -0.39  0.009\n",
       "1926-07-07    0.09 -0.58  0.02  0.009\n",
       "1926-07-08    0.21 -0.38  0.19  0.009\n",
       "...            ...   ...   ...    ...\n",
       "2023-12-22    0.21  0.64  0.09  0.021\n",
       "2023-12-26    0.48  0.69  0.46  0.021\n",
       "2023-12-27    0.16  0.14  0.12  0.021\n",
       "2023-12-28   -0.01 -0.36  0.03  0.021\n",
       "2023-12-29   -0.43 -1.12 -0.37  0.021\n",
       "\n",
       "[25649 rows x 4 columns]"
      ]
     },
     "execution_count": 146,
     "metadata": {},
     "output_type": "execute_result"
    }
   ],
   "source": [
    "ticker='IBM'\n",
    "begdate=datetime.date(2016,1,2)\n",
    "enddate=datetime.date(2017,1,9)\n",
    "x = yf.download(ticker, start = begdate, end = enddate, rounding = True)\n",
    "\n",
    "f3factor = pd.read_csv('/opt/code/test_repo/Python-For-Finance-2nd-Edition/F-F_Research_Data_Factors_daily.CSV').dropna()\n",
    "f3factor['Date'] = pd.to_numeric(f3factor['Date'], errors=\"coerce\").astype(int).dropna()\n",
    "f3factor['Date'] = pd.to_datetime(f3factor['Date'], format='%Y%m%d')\n",
    "f3factor = f3factor.set_index('Date')\n",
    "\n",
    "myName=ticker+'_adjClose'\n",
    "x2= pd.DataFrame(x['Close']).rename(columns={'Close':myName})\n",
    "\n",
    "f3factor\n"
   ]
  },
  {
   "cell_type": "code",
   "execution_count": 147,
   "metadata": {},
   "outputs": [
    {
     "name": "stdout",
     "output_type": "stream",
     "text": [
      "            IBM_adjClose  Mkt-RF   SMB   HML   RF\n",
      "Date                                             \n",
      "2016-01-04        129.97   -1.59 -0.87  0.52  0.0\n",
      "2016-01-05        129.88    0.12 -0.19  0.01  0.0\n",
      "2016-01-06        129.23   -1.35 -0.14  0.00  0.0\n",
      "2016-01-07        127.02   -2.44 -0.29  0.08  0.0\n",
      "2016-01-08        125.84   -1.11 -0.50 -0.03  0.0\n"
     ]
    },
    {
     "data": {
      "text/html": [
       "<div>\n",
       "<style scoped>\n",
       "    .dataframe tbody tr th:only-of-type {\n",
       "        vertical-align: middle;\n",
       "    }\n",
       "\n",
       "    .dataframe tbody tr th {\n",
       "        vertical-align: top;\n",
       "    }\n",
       "\n",
       "    .dataframe thead th {\n",
       "        text-align: right;\n",
       "    }\n",
       "</style>\n",
       "<table border=\"1\" class=\"dataframe\">\n",
       "  <thead>\n",
       "    <tr style=\"text-align: right;\">\n",
       "      <th></th>\n",
       "      <th>IBM_adjClose</th>\n",
       "      <th>Mkt-RF</th>\n",
       "      <th>SMB</th>\n",
       "      <th>HML</th>\n",
       "      <th>RF</th>\n",
       "    </tr>\n",
       "    <tr>\n",
       "      <th>Date</th>\n",
       "      <th></th>\n",
       "      <th></th>\n",
       "      <th></th>\n",
       "      <th></th>\n",
       "      <th></th>\n",
       "    </tr>\n",
       "  </thead>\n",
       "  <tbody>\n",
       "    <tr>\n",
       "      <th>2016-01-04</th>\n",
       "      <td>129.97</td>\n",
       "      <td>-1.59</td>\n",
       "      <td>-0.87</td>\n",
       "      <td>0.52</td>\n",
       "      <td>0.0</td>\n",
       "    </tr>\n",
       "    <tr>\n",
       "      <th>2016-01-05</th>\n",
       "      <td>129.88</td>\n",
       "      <td>0.12</td>\n",
       "      <td>-0.19</td>\n",
       "      <td>0.01</td>\n",
       "      <td>0.0</td>\n",
       "    </tr>\n",
       "    <tr>\n",
       "      <th>2016-01-06</th>\n",
       "      <td>129.23</td>\n",
       "      <td>-1.35</td>\n",
       "      <td>-0.14</td>\n",
       "      <td>0.00</td>\n",
       "      <td>0.0</td>\n",
       "    </tr>\n",
       "    <tr>\n",
       "      <th>2016-01-07</th>\n",
       "      <td>127.02</td>\n",
       "      <td>-2.44</td>\n",
       "      <td>-0.29</td>\n",
       "      <td>0.08</td>\n",
       "      <td>0.0</td>\n",
       "    </tr>\n",
       "    <tr>\n",
       "      <th>2016-01-08</th>\n",
       "      <td>125.84</td>\n",
       "      <td>-1.11</td>\n",
       "      <td>-0.50</td>\n",
       "      <td>-0.03</td>\n",
       "      <td>0.0</td>\n",
       "    </tr>\n",
       "  </tbody>\n",
       "</table>\n",
       "</div>"
      ],
      "text/plain": [
       "            IBM_adjClose  Mkt-RF   SMB   HML   RF\n",
       "Date                                             \n",
       "2016-01-04        129.97   -1.59 -0.87  0.52  0.0\n",
       "2016-01-05        129.88    0.12 -0.19  0.01  0.0\n",
       "2016-01-06        129.23   -1.35 -0.14  0.00  0.0\n",
       "2016-01-07        127.02   -2.44 -0.29  0.08  0.0\n",
       "2016-01-08        125.84   -1.11 -0.50 -0.03  0.0"
      ]
     },
     "execution_count": 147,
     "metadata": {},
     "output_type": "execute_result"
    }
   ],
   "source": [
    "final=pd.merge(x2,f3factor,left_index=True,right_index=True)\n",
    "print(final.head())\n",
    "final.head()"
   ]
  },
  {
   "cell_type": "markdown",
   "metadata": {},
   "source": [
    "## Understanding the interpolation technique\n",
    "\n",
    "Interpolation is a technique used quite frequently in finance. In the following\n",
    "example, we have to replace two missing values, NaN, between 2 and 6. The\n",
    "pandas.interpolate() function, for a linear interpolation, is used to fill in the\n",
    "two missing values:"
   ]
  },
  {
   "cell_type": "code",
   "execution_count": 148,
   "metadata": {},
   "outputs": [
    {
     "name": "stdout",
     "output_type": "stream",
     "text": [
      "0    1.000000\n",
      "1    2.000000\n",
      "2    3.333333\n",
      "3    4.666667\n",
      "4    6.000000\n",
      "dtype: float64\n"
     ]
    }
   ],
   "source": [
    "import pandas as pd\n",
    "import numpy as np\n",
    "nn=np.nan\n",
    "x=pd.Series([1,2,nn,nn,6])\n",
    "print(x.interpolate())"
   ]
  },
  {
   "cell_type": "markdown",
   "metadata": {},
   "source": [
    "## Merging data with different frequencies\n",
    "\n",
    "The following Python program merges two datasets: US Gross Domestic Product\n",
    "(GDP) data with a quarterly frequency and ffMonthly, http://canisius.\n",
    "edu/~yany/python/ffMonthly.pkl with a monthly frequency.\n",
    "\n",
    "\n",
    "The interpolation methodology discussed previously is applied to the missing\n",
    "months in terms of GDP data. The ffMonthly dataset is assumed to be saved\n",
    "in the c:/temp/ directory:"
   ]
  },
  {
   "cell_type": "code",
   "execution_count": 187,
   "metadata": {},
   "outputs": [
    {
     "data": {
      "text/html": [
       "<div>\n",
       "<style scoped>\n",
       "    .dataframe tbody tr th:only-of-type {\n",
       "        vertical-align: middle;\n",
       "    }\n",
       "\n",
       "    .dataframe tbody tr th {\n",
       "        vertical-align: top;\n",
       "    }\n",
       "\n",
       "    .dataframe thead th {\n",
       "        text-align: right;\n",
       "    }\n",
       "</style>\n",
       "<table border=\"1\" class=\"dataframe\">\n",
       "  <thead>\n",
       "    <tr style=\"text-align: right;\">\n",
       "      <th></th>\n",
       "      <th>Mkt-RF</th>\n",
       "      <th>SMB</th>\n",
       "      <th>HML</th>\n",
       "      <th>RF</th>\n",
       "    </tr>\n",
       "    <tr>\n",
       "      <th>Date</th>\n",
       "      <th></th>\n",
       "      <th></th>\n",
       "      <th></th>\n",
       "      <th></th>\n",
       "    </tr>\n",
       "  </thead>\n",
       "  <tbody>\n",
       "    <tr>\n",
       "      <th>1926-07</th>\n",
       "      <td>0.0296</td>\n",
       "      <td>-0.0256</td>\n",
       "      <td>-0.0243</td>\n",
       "      <td>0.0022</td>\n",
       "    </tr>\n",
       "    <tr>\n",
       "      <th>1926-08</th>\n",
       "      <td>0.0264</td>\n",
       "      <td>-0.0117</td>\n",
       "      <td>0.0382</td>\n",
       "      <td>0.0025</td>\n",
       "    </tr>\n",
       "    <tr>\n",
       "      <th>1926-09</th>\n",
       "      <td>0.0036</td>\n",
       "      <td>-0.0140</td>\n",
       "      <td>0.0013</td>\n",
       "      <td>0.0023</td>\n",
       "    </tr>\n",
       "    <tr>\n",
       "      <th>1926-10</th>\n",
       "      <td>-0.0324</td>\n",
       "      <td>-0.0009</td>\n",
       "      <td>0.0070</td>\n",
       "      <td>0.0032</td>\n",
       "    </tr>\n",
       "    <tr>\n",
       "      <th>1926-11</th>\n",
       "      <td>0.0253</td>\n",
       "      <td>-0.0010</td>\n",
       "      <td>-0.0051</td>\n",
       "      <td>0.0031</td>\n",
       "    </tr>\n",
       "    <tr>\n",
       "      <th>...</th>\n",
       "      <td>...</td>\n",
       "      <td>...</td>\n",
       "      <td>...</td>\n",
       "      <td>...</td>\n",
       "    </tr>\n",
       "    <tr>\n",
       "      <th>2023-08</th>\n",
       "      <td>-0.0239</td>\n",
       "      <td>-0.0316</td>\n",
       "      <td>-0.0106</td>\n",
       "      <td>0.0045</td>\n",
       "    </tr>\n",
       "    <tr>\n",
       "      <th>2023-09</th>\n",
       "      <td>-0.0524</td>\n",
       "      <td>-0.0251</td>\n",
       "      <td>0.0152</td>\n",
       "      <td>0.0043</td>\n",
       "    </tr>\n",
       "    <tr>\n",
       "      <th>2023-10</th>\n",
       "      <td>-0.0319</td>\n",
       "      <td>-0.0387</td>\n",
       "      <td>0.0019</td>\n",
       "      <td>0.0047</td>\n",
       "    </tr>\n",
       "    <tr>\n",
       "      <th>2023-11</th>\n",
       "      <td>0.0884</td>\n",
       "      <td>-0.0002</td>\n",
       "      <td>0.0164</td>\n",
       "      <td>0.0044</td>\n",
       "    </tr>\n",
       "    <tr>\n",
       "      <th>2023-12</th>\n",
       "      <td>0.0485</td>\n",
       "      <td>0.0635</td>\n",
       "      <td>0.0494</td>\n",
       "      <td>0.0043</td>\n",
       "    </tr>\n",
       "  </tbody>\n",
       "</table>\n",
       "<p>1170 rows × 4 columns</p>\n",
       "</div>"
      ],
      "text/plain": [
       "         Mkt-RF     SMB     HML      RF\n",
       "Date                                   \n",
       "1926-07  0.0296 -0.0256 -0.0243  0.0022\n",
       "1926-08  0.0264 -0.0117  0.0382  0.0025\n",
       "1926-09  0.0036 -0.0140  0.0013  0.0023\n",
       "1926-10 -0.0324 -0.0009  0.0070  0.0032\n",
       "1926-11  0.0253 -0.0010 -0.0051  0.0031\n",
       "...         ...     ...     ...     ...\n",
       "2023-08 -0.0239 -0.0316 -0.0106  0.0045\n",
       "2023-09 -0.0524 -0.0251  0.0152  0.0043\n",
       "2023-10 -0.0319 -0.0387  0.0019  0.0047\n",
       "2023-11  0.0884 -0.0002  0.0164  0.0044\n",
       "2023-12  0.0485  0.0635  0.0494  0.0043\n",
       "\n",
       "[1170 rows x 4 columns]"
      ]
     },
     "execution_count": 187,
     "metadata": {},
     "output_type": "execute_result"
    }
   ],
   "source": [
    "#get Fama French factors\n",
    "import getFamaFrenchFactors as gff\n",
    "\n",
    "ff3 = pd.DataFrame(gff.famaFrench3Factor(frequency='m'))\n",
    "ff3 = ff3.rename(columns={'date_ff_factors':'Date'})\n",
    "ff3['Date'] = ff3['Date'].dt.strftime('%Y-%m')\n",
    "ff3 = ff3.set_index('Date')\n",
    "ff3\n",
    "\n"
   ]
  },
  {
   "cell_type": "code",
   "execution_count": 196,
   "metadata": {},
   "outputs": [
    {
     "data": {
      "text/html": [
       "<div>\n",
       "<style scoped>\n",
       "    .dataframe tbody tr th:only-of-type {\n",
       "        vertical-align: middle;\n",
       "    }\n",
       "\n",
       "    .dataframe tbody tr th {\n",
       "        vertical-align: top;\n",
       "    }\n",
       "\n",
       "    .dataframe thead th {\n",
       "        text-align: right;\n",
       "    }\n",
       "</style>\n",
       "<table border=\"1\" class=\"dataframe\">\n",
       "  <thead>\n",
       "    <tr style=\"text-align: right;\">\n",
       "      <th></th>\n",
       "      <th>GDP</th>\n",
       "    </tr>\n",
       "    <tr>\n",
       "      <th>DATE</th>\n",
       "      <th></th>\n",
       "    </tr>\n",
       "  </thead>\n",
       "  <tbody>\n",
       "    <tr>\n",
       "      <th>1947-01</th>\n",
       "      <td>243.164</td>\n",
       "    </tr>\n",
       "    <tr>\n",
       "      <th>1947-04</th>\n",
       "      <td>245.968</td>\n",
       "    </tr>\n",
       "    <tr>\n",
       "      <th>1947-07</th>\n",
       "      <td>249.585</td>\n",
       "    </tr>\n",
       "    <tr>\n",
       "      <th>1947-10</th>\n",
       "      <td>259.745</td>\n",
       "    </tr>\n",
       "    <tr>\n",
       "      <th>1948-01</th>\n",
       "      <td>265.742</td>\n",
       "    </tr>\n",
       "    <tr>\n",
       "      <th>...</th>\n",
       "      <td>...</td>\n",
       "    </tr>\n",
       "    <tr>\n",
       "      <th>2022-10</th>\n",
       "      <td>26408.405</td>\n",
       "    </tr>\n",
       "    <tr>\n",
       "      <th>2023-01</th>\n",
       "      <td>26813.601</td>\n",
       "    </tr>\n",
       "    <tr>\n",
       "      <th>2023-04</th>\n",
       "      <td>27063.012</td>\n",
       "    </tr>\n",
       "    <tr>\n",
       "      <th>2023-07</th>\n",
       "      <td>27610.128</td>\n",
       "    </tr>\n",
       "    <tr>\n",
       "      <th>2023-10</th>\n",
       "      <td>27938.831</td>\n",
       "    </tr>\n",
       "  </tbody>\n",
       "</table>\n",
       "<p>308 rows × 1 columns</p>\n",
       "</div>"
      ],
      "text/plain": [
       "               GDP\n",
       "DATE              \n",
       "1947-01    243.164\n",
       "1947-04    245.968\n",
       "1947-07    249.585\n",
       "1947-10    259.745\n",
       "1948-01    265.742\n",
       "...            ...\n",
       "2022-10  26408.405\n",
       "2023-01  26813.601\n",
       "2023-04  27063.012\n",
       "2023-07  27610.128\n",
       "2023-10  27938.831\n",
       "\n",
       "[308 rows x 1 columns]"
      ]
     },
     "execution_count": 196,
     "metadata": {},
     "output_type": "execute_result"
    }
   ],
   "source": [
    "begdate = datetime.datetime(1900, 1, 1)\n",
    "enddate = datetime.datetime(2024, 1, 27)\n",
    "GDP = web.DataReader(\"GDP\", \"fred\", begdate, enddate)\n",
    "GDP.index = GDP.index.strftime('%Y-%m')\n",
    "GDP"
   ]
  },
  {
   "cell_type": "code",
   "execution_count": 197,
   "metadata": {},
   "outputs": [],
   "source": [
    "final=pd.merge(ff3,GDP,left_index=True,right_index=True,how='left')\n",
    "tt=final['GDP']\n",
    "GDP2=pd.Series(tt).interpolate()\n",
    "final['GDP2']=GDP2"
   ]
  },
  {
   "cell_type": "code",
   "execution_count": 198,
   "metadata": {},
   "outputs": [
    {
     "data": {
      "text/html": [
       "<div>\n",
       "<style scoped>\n",
       "    .dataframe tbody tr th:only-of-type {\n",
       "        vertical-align: middle;\n",
       "    }\n",
       "\n",
       "    .dataframe tbody tr th {\n",
       "        vertical-align: top;\n",
       "    }\n",
       "\n",
       "    .dataframe thead th {\n",
       "        text-align: right;\n",
       "    }\n",
       "</style>\n",
       "<table border=\"1\" class=\"dataframe\">\n",
       "  <thead>\n",
       "    <tr style=\"text-align: right;\">\n",
       "      <th></th>\n",
       "      <th>Mkt-RF</th>\n",
       "      <th>SMB</th>\n",
       "      <th>HML</th>\n",
       "      <th>RF</th>\n",
       "      <th>GDP</th>\n",
       "      <th>GDP2</th>\n",
       "    </tr>\n",
       "    <tr>\n",
       "      <th>Date</th>\n",
       "      <th></th>\n",
       "      <th></th>\n",
       "      <th></th>\n",
       "      <th></th>\n",
       "      <th></th>\n",
       "      <th></th>\n",
       "    </tr>\n",
       "  </thead>\n",
       "  <tbody>\n",
       "    <tr>\n",
       "      <th>2022-05</th>\n",
       "      <td>-0.0034</td>\n",
       "      <td>-0.0183</td>\n",
       "      <td>0.0839</td>\n",
       "      <td>0.0003</td>\n",
       "      <td>NaN</td>\n",
       "      <td>25694.395000</td>\n",
       "    </tr>\n",
       "    <tr>\n",
       "      <th>2022-06</th>\n",
       "      <td>-0.0843</td>\n",
       "      <td>0.0210</td>\n",
       "      <td>-0.0597</td>\n",
       "      <td>0.0006</td>\n",
       "      <td>NaN</td>\n",
       "      <td>25844.517000</td>\n",
       "    </tr>\n",
       "    <tr>\n",
       "      <th>2022-07</th>\n",
       "      <td>0.0957</td>\n",
       "      <td>0.0281</td>\n",
       "      <td>-0.0405</td>\n",
       "      <td>0.0008</td>\n",
       "      <td>25994.639</td>\n",
       "      <td>25994.639000</td>\n",
       "    </tr>\n",
       "    <tr>\n",
       "      <th>2022-08</th>\n",
       "      <td>-0.0377</td>\n",
       "      <td>0.0140</td>\n",
       "      <td>0.0029</td>\n",
       "      <td>0.0019</td>\n",
       "      <td>NaN</td>\n",
       "      <td>26132.561000</td>\n",
       "    </tr>\n",
       "    <tr>\n",
       "      <th>2022-09</th>\n",
       "      <td>-0.0935</td>\n",
       "      <td>-0.0081</td>\n",
       "      <td>0.0005</td>\n",
       "      <td>0.0019</td>\n",
       "      <td>NaN</td>\n",
       "      <td>26270.483000</td>\n",
       "    </tr>\n",
       "    <tr>\n",
       "      <th>2022-10</th>\n",
       "      <td>0.0783</td>\n",
       "      <td>0.0006</td>\n",
       "      <td>0.0801</td>\n",
       "      <td>0.0023</td>\n",
       "      <td>26408.405</td>\n",
       "      <td>26408.405000</td>\n",
       "    </tr>\n",
       "    <tr>\n",
       "      <th>2022-11</th>\n",
       "      <td>0.0460</td>\n",
       "      <td>-0.0352</td>\n",
       "      <td>0.0138</td>\n",
       "      <td>0.0029</td>\n",
       "      <td>NaN</td>\n",
       "      <td>26543.470333</td>\n",
       "    </tr>\n",
       "    <tr>\n",
       "      <th>2022-12</th>\n",
       "      <td>-0.0641</td>\n",
       "      <td>-0.0069</td>\n",
       "      <td>0.0137</td>\n",
       "      <td>0.0033</td>\n",
       "      <td>NaN</td>\n",
       "      <td>26678.535667</td>\n",
       "    </tr>\n",
       "    <tr>\n",
       "      <th>2023-01</th>\n",
       "      <td>0.0665</td>\n",
       "      <td>0.0501</td>\n",
       "      <td>-0.0401</td>\n",
       "      <td>0.0035</td>\n",
       "      <td>26813.601</td>\n",
       "      <td>26813.601000</td>\n",
       "    </tr>\n",
       "    <tr>\n",
       "      <th>2023-02</th>\n",
       "      <td>-0.0258</td>\n",
       "      <td>0.0117</td>\n",
       "      <td>-0.0081</td>\n",
       "      <td>0.0034</td>\n",
       "      <td>NaN</td>\n",
       "      <td>26896.738000</td>\n",
       "    </tr>\n",
       "    <tr>\n",
       "      <th>2023-03</th>\n",
       "      <td>0.0251</td>\n",
       "      <td>-0.0551</td>\n",
       "      <td>-0.0885</td>\n",
       "      <td>0.0036</td>\n",
       "      <td>NaN</td>\n",
       "      <td>26979.875000</td>\n",
       "    </tr>\n",
       "    <tr>\n",
       "      <th>2023-04</th>\n",
       "      <td>0.0061</td>\n",
       "      <td>-0.0335</td>\n",
       "      <td>-0.0004</td>\n",
       "      <td>0.0035</td>\n",
       "      <td>27063.012</td>\n",
       "      <td>27063.012000</td>\n",
       "    </tr>\n",
       "    <tr>\n",
       "      <th>2023-05</th>\n",
       "      <td>0.0035</td>\n",
       "      <td>0.0161</td>\n",
       "      <td>-0.0772</td>\n",
       "      <td>0.0036</td>\n",
       "      <td>NaN</td>\n",
       "      <td>27245.384000</td>\n",
       "    </tr>\n",
       "    <tr>\n",
       "      <th>2023-06</th>\n",
       "      <td>0.0646</td>\n",
       "      <td>0.0154</td>\n",
       "      <td>-0.0026</td>\n",
       "      <td>0.0040</td>\n",
       "      <td>NaN</td>\n",
       "      <td>27427.756000</td>\n",
       "    </tr>\n",
       "    <tr>\n",
       "      <th>2023-07</th>\n",
       "      <td>0.0321</td>\n",
       "      <td>0.0208</td>\n",
       "      <td>0.0411</td>\n",
       "      <td>0.0045</td>\n",
       "      <td>27610.128</td>\n",
       "      <td>27610.128000</td>\n",
       "    </tr>\n",
       "    <tr>\n",
       "      <th>2023-08</th>\n",
       "      <td>-0.0239</td>\n",
       "      <td>-0.0316</td>\n",
       "      <td>-0.0106</td>\n",
       "      <td>0.0045</td>\n",
       "      <td>NaN</td>\n",
       "      <td>27719.695667</td>\n",
       "    </tr>\n",
       "    <tr>\n",
       "      <th>2023-09</th>\n",
       "      <td>-0.0524</td>\n",
       "      <td>-0.0251</td>\n",
       "      <td>0.0152</td>\n",
       "      <td>0.0043</td>\n",
       "      <td>NaN</td>\n",
       "      <td>27829.263333</td>\n",
       "    </tr>\n",
       "    <tr>\n",
       "      <th>2023-10</th>\n",
       "      <td>-0.0319</td>\n",
       "      <td>-0.0387</td>\n",
       "      <td>0.0019</td>\n",
       "      <td>0.0047</td>\n",
       "      <td>27938.831</td>\n",
       "      <td>27938.831000</td>\n",
       "    </tr>\n",
       "    <tr>\n",
       "      <th>2023-11</th>\n",
       "      <td>0.0884</td>\n",
       "      <td>-0.0002</td>\n",
       "      <td>0.0164</td>\n",
       "      <td>0.0044</td>\n",
       "      <td>NaN</td>\n",
       "      <td>27938.831000</td>\n",
       "    </tr>\n",
       "    <tr>\n",
       "      <th>2023-12</th>\n",
       "      <td>0.0485</td>\n",
       "      <td>0.0635</td>\n",
       "      <td>0.0494</td>\n",
       "      <td>0.0043</td>\n",
       "      <td>NaN</td>\n",
       "      <td>27938.831000</td>\n",
       "    </tr>\n",
       "  </tbody>\n",
       "</table>\n",
       "</div>"
      ],
      "text/plain": [
       "         Mkt-RF     SMB     HML      RF        GDP          GDP2\n",
       "Date                                                            \n",
       "2022-05 -0.0034 -0.0183  0.0839  0.0003        NaN  25694.395000\n",
       "2022-06 -0.0843  0.0210 -0.0597  0.0006        NaN  25844.517000\n",
       "2022-07  0.0957  0.0281 -0.0405  0.0008  25994.639  25994.639000\n",
       "2022-08 -0.0377  0.0140  0.0029  0.0019        NaN  26132.561000\n",
       "2022-09 -0.0935 -0.0081  0.0005  0.0019        NaN  26270.483000\n",
       "2022-10  0.0783  0.0006  0.0801  0.0023  26408.405  26408.405000\n",
       "2022-11  0.0460 -0.0352  0.0138  0.0029        NaN  26543.470333\n",
       "2022-12 -0.0641 -0.0069  0.0137  0.0033        NaN  26678.535667\n",
       "2023-01  0.0665  0.0501 -0.0401  0.0035  26813.601  26813.601000\n",
       "2023-02 -0.0258  0.0117 -0.0081  0.0034        NaN  26896.738000\n",
       "2023-03  0.0251 -0.0551 -0.0885  0.0036        NaN  26979.875000\n",
       "2023-04  0.0061 -0.0335 -0.0004  0.0035  27063.012  27063.012000\n",
       "2023-05  0.0035  0.0161 -0.0772  0.0036        NaN  27245.384000\n",
       "2023-06  0.0646  0.0154 -0.0026  0.0040        NaN  27427.756000\n",
       "2023-07  0.0321  0.0208  0.0411  0.0045  27610.128  27610.128000\n",
       "2023-08 -0.0239 -0.0316 -0.0106  0.0045        NaN  27719.695667\n",
       "2023-09 -0.0524 -0.0251  0.0152  0.0043        NaN  27829.263333\n",
       "2023-10 -0.0319 -0.0387  0.0019  0.0047  27938.831  27938.831000\n",
       "2023-11  0.0884 -0.0002  0.0164  0.0044        NaN  27938.831000\n",
       "2023-12  0.0485  0.0635  0.0494  0.0043        NaN  27938.831000"
      ]
     },
     "execution_count": 198,
     "metadata": {},
     "output_type": "execute_result"
    }
   ],
   "source": [
    "final.tail(20)"
   ]
  },
  {
   "cell_type": "markdown",
   "metadata": {},
   "source": [
    "## Tests of normality\n",
    "\n",
    "In finance, knowledge about normal distribution is very important for two reasons.\n",
    "First, stock returns are assumed to follow a normal distribution. Second, the error\n",
    "terms from a good econometric model should follow a normal distribution with a\n",
    "zero mean. However, in the real world, this might not be true for stocks. On the other\n",
    "hand, whether stocks or portfolios follow a normal distribution could be tested by\n",
    "various so-called normality tests. The Shapiro-Wilk test is one of them. For the first\n",
    "example, random numbers are drawn from a normal distribution. As a consequence,\n",
    "the test should confirm that those observations follow a normal distribution:"
   ]
  },
  {
   "cell_type": "code",
   "execution_count": 207,
   "metadata": {},
   "outputs": [
    {
     "name": "stdout",
     "output_type": "stream",
     "text": [
      "W-test, and P-value\n",
      "ShapiroResult(statistic=0.9995947480201721, pvalue=0.40313461422920227)\n"
     ]
    }
   ],
   "source": [
    "from scipy import stats\n",
    "np.random.seed(12345)\n",
    "mean=0.1\n",
    "std=0.2\n",
    "n=5000\n",
    "ret=np.random.normal(loc=0,scale=std,size=n)\n",
    "print('W-test, and P-value')\n",
    "print(stats.shapiro(ret))"
   ]
  },
  {
   "cell_type": "markdown",
   "metadata": {},
   "source": [
    "Assume that our confidence level is 95%, that is, alpha=0.05. The first value of the\n",
    "result is the test statistic, and the second one is its corresponding P-value. Since\n",
    "the P-value is so big, much bigger than 0.05, we accept the null hypothesis that the\n",
    "returns follow a normal distribution. For the second example, random numbers are\n",
    "drawn from a uniform distribution:"
   ]
  },
  {
   "cell_type": "code",
   "execution_count": 208,
   "metadata": {},
   "outputs": [
    {
     "name": "stdout",
     "output_type": "stream",
     "text": [
      "W-test, and P-value\n",
      "ShapiroResult(statistic=0.9537610411643982, pvalue=4.076294275851805e-37)\n"
     ]
    }
   ],
   "source": [
    "np.random.seed(12345)\n",
    "n=5000\n",
    "ret=np.random.uniform(size=n)\n",
    "print('W-test, and P-value')\n",
    "print(stats.shapiro(ret))"
   ]
  },
  {
   "cell_type": "markdown",
   "metadata": {},
   "source": [
    "Since the P-value is close to zero, we reject the null hypothesis. In other words, those\n",
    "observations do not follow a normal distribution. The third example verifies whether\n",
    "IBM's returns follow a normal distribution. The last five year's daily data from\n",
    "Yahoo! Finance is used for the test. The last five year's daily data from\n",
    "Yahoo! Finance is used for the test. The null hypothesis is that IBM's daily returns are\n",
    "drawn from a normal distribution:"
   ]
  },
  {
   "cell_type": "code",
   "execution_count": 218,
   "metadata": {},
   "outputs": [
    {
     "name": "stdout",
     "output_type": "stream",
     "text": [
      "[*********************100%***********************]  1 of 1 completed\n",
      "Ticker = IBM W-test, and P-value\n",
      "ShapiroResult(statistic=0.8869530558586121, pvalue=1.762584302639909e-29)\n"
     ]
    }
   ],
   "source": [
    "x = yf.download('IBM', start=\"2019-01-01\", end=\"2024-01-21\", rounding=True)\n",
    "ret = x['Close'].pct_change().dropna()\n",
    "\n",
    "print(\"Ticker =\",ticker, \"W-test, and P-value\")\n",
    "print(stats.shapiro(ret))"
   ]
  },
  {
   "cell_type": "markdown",
   "metadata": {},
   "source": [
    "Since this P-value is so close to zero, we reject the null hypothesis. In other\n",
    "words, we conclude that IBM's daily returns do not follow a normal distribution.\n",
    "For a normality test, we could also apply the Anderson-Darling test, which is a\n",
    "modification of the Kolmogorov-Smirnov test, to verify whether the observations\n",
    "follow a particular distribution. See the following code:"
   ]
  },
  {
   "cell_type": "code",
   "execution_count": 219,
   "metadata": {},
   "outputs": [
    {
     "name": "stdout",
     "output_type": "stream",
     "text": [
      "AndersonResult(statistic=26.0722603874824, critical_values=array([0.574, 0.654, 0.785, 0.915, 1.089]), significance_level=array([15. , 10. ,  5. ,  2.5,  1. ]), fit_result=  params: FitParams(loc=0.0004869297522596514, scale=0.016585637480049348)\n",
      " success: True\n",
      " message: '`anderson` successfully fit the distribution to the data.')\n"
     ]
    }
   ],
   "source": [
    "print( stats.anderson(ret) )"
   ]
  },
  {
   "cell_type": "markdown",
   "metadata": {},
   "source": [
    "Here, we have three sets of values: the Anderson-Darling test statistic, a set of critical\n",
    "values, and a set of corresponding confidence levels, such as 15 percent, 10 percent,\n",
    "5 percent, 2.5 percent, and 1 percent, as shown in the previous output. If we choose\n",
    "a 1 percent confidence level—the last value of the third set—the critical value is\n",
    "1.089, the last value of the second set. Since our testing statistic is 26, which is\n",
    "much higher than the critical value of 1.089, we reject the null hypothesis. Thus, our\n",
    "Anderson-Darling test leads to the same conclusion as our Shapiro-Wilk test. One\n",
    "of the beauties of the scipy.stats.anderson() test is that we can test for other\n",
    "distributions. After applying the help() function, we would get the following list. "
   ]
  },
  {
   "cell_type": "code",
   "execution_count": 220,
   "metadata": {},
   "outputs": [
    {
     "name": "stdout",
     "output_type": "stream",
     "text": [
      "Help on function anderson in module scipy.stats._morestats:\n",
      "\n",
      "anderson(x, dist='norm')\n",
      "    Anderson-Darling test for data coming from a particular distribution.\n",
      "    \n",
      "    The Anderson-Darling test tests the null hypothesis that a sample is\n",
      "    drawn from a population that follows a particular distribution.\n",
      "    For the Anderson-Darling test, the critical values depend on\n",
      "    which distribution is being tested against.  This function works\n",
      "    for normal, exponential, logistic, or Gumbel (Extreme Value\n",
      "    Type I) distributions.\n",
      "    \n",
      "    Parameters\n",
      "    ----------\n",
      "    x : array_like\n",
      "        Array of sample data.\n",
      "    dist : {'norm', 'expon', 'logistic', 'gumbel', 'gumbel_l', 'gumbel_r', 'extreme1'}, optional\n",
      "        The type of distribution to test against.  The default is 'norm'.\n",
      "        The names 'extreme1', 'gumbel_l' and 'gumbel' are synonyms for the\n",
      "        same distribution.\n",
      "    \n",
      "    Returns\n",
      "    -------\n",
      "    result : AndersonResult\n",
      "        An object with the following attributes:\n",
      "    \n",
      "        statistic : float\n",
      "            The Anderson-Darling test statistic.\n",
      "        critical_values : list\n",
      "            The critical values for this distribution.\n",
      "        significance_level : list\n",
      "            The significance levels for the corresponding critical values\n",
      "            in percents.  The function returns critical values for a\n",
      "            differing set of significance levels depending on the\n",
      "            distribution that is being tested against.\n",
      "        fit_result : `~scipy.stats._result_classes.FitResult`\n",
      "            An object containing the results of fitting the distribution to\n",
      "            the data.\n",
      "    \n",
      "    See Also\n",
      "    --------\n",
      "    kstest : The Kolmogorov-Smirnov test for goodness-of-fit.\n",
      "    \n",
      "    Notes\n",
      "    -----\n",
      "    Critical values provided are for the following significance levels:\n",
      "    \n",
      "    normal/exponential\n",
      "        15%, 10%, 5%, 2.5%, 1%\n",
      "    logistic\n",
      "        25%, 10%, 5%, 2.5%, 1%, 0.5%\n",
      "    Gumbel\n",
      "        25%, 10%, 5%, 2.5%, 1%\n",
      "    \n",
      "    If the returned statistic is larger than these critical values then\n",
      "    for the corresponding significance level, the null hypothesis that\n",
      "    the data come from the chosen distribution can be rejected.\n",
      "    The returned statistic is referred to as 'A2' in the references.\n",
      "    \n",
      "    References\n",
      "    ----------\n",
      "    .. [1] https://www.itl.nist.gov/div898/handbook/prc/section2/prc213.htm\n",
      "    .. [2] Stephens, M. A. (1974). EDF Statistics for Goodness of Fit and\n",
      "           Some Comparisons, Journal of the American Statistical Association,\n",
      "           Vol. 69, pp. 730-737.\n",
      "    .. [3] Stephens, M. A. (1976). Asymptotic Results for Goodness-of-Fit\n",
      "           Statistics with Unknown Parameters, Annals of Statistics, Vol. 4,\n",
      "           pp. 357-369.\n",
      "    .. [4] Stephens, M. A. (1977). Goodness of Fit for the Extreme Value\n",
      "           Distribution, Biometrika, Vol. 64, pp. 583-588.\n",
      "    .. [5] Stephens, M. A. (1977). Goodness of Fit with Special Reference\n",
      "           to Tests for Exponentiality , Technical Report No. 262,\n",
      "           Department of Statistics, Stanford University, Stanford, CA.\n",
      "    .. [6] Stephens, M. A. (1979). Tests of Fit for the Logistic Distribution\n",
      "           Based on the Empirical Distribution Function, Biometrika, Vol. 66,\n",
      "           pp. 591-595.\n",
      "    \n",
      "    Examples\n",
      "    --------\n",
      "    Test the null hypothesis that a random sample was drawn from a normal\n",
      "    distribution (with unspecified mean and standard deviation).\n",
      "    \n",
      "    >>> import numpy as np\n",
      "    >>> from scipy.stats import anderson\n",
      "    >>> rng = np.random.default_rng()\n",
      "    >>> data = rng.random(size=35)\n",
      "    >>> res = anderson(data)\n",
      "    >>> res.statistic\n",
      "    0.8398018749744764\n",
      "    >>> res.critical_values\n",
      "    array([0.527, 0.6  , 0.719, 0.839, 0.998])\n",
      "    >>> res.significance_level\n",
      "    array([15. , 10. ,  5. ,  2.5,  1. ])\n",
      "    \n",
      "    The value of the statistic (barely) exceeds the critical value associated\n",
      "    with a significance level of 2.5%, so the null hypothesis may be rejected\n",
      "    at a significance level of 2.5%, but not at a significance level of 1%.\n",
      "\n"
     ]
    }
   ],
   "source": [
    "help(stats.anderson)"
   ]
  }
 ],
 "metadata": {
  "kernelspec": {
   "display_name": "Python 3",
   "language": "python",
   "name": "python3"
  },
  "language_info": {
   "codemirror_mode": {
    "name": "ipython",
    "version": 3
   },
   "file_extension": ".py",
   "mimetype": "text/x-python",
   "name": "python",
   "nbconvert_exporter": "python",
   "pygments_lexer": "ipython3",
   "version": "3.10.10"
  }
 },
 "nbformat": 4,
 "nbformat_minor": 2
}
