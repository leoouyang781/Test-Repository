{
 "cells": [
  {
   "cell_type": "markdown",
   "metadata": {},
   "source": [
    "# Chapter 8: Time Series Analysis"
   ]
  },
  {
   "cell_type": "markdown",
   "metadata": {},
   "source": [
    "In finance and economics, a huge amount of our data is in the format of time-series,\n",
    "such as stock prices and Gross Domestic Products (GDP). From Chapter 4, Sources\n",
    "of Data, it is shown that from Yahoo!Finance, we could download daily, weekly, and\n",
    "monthly historical price time-series. From Federal Reserve Bank's Economics Data\n",
    "Library (FRED), we could retrieve many historical time-series such as GDP. For\n",
    "time-series, there exist many issues, such as how to estimate returns from historical\n",
    "price data, how to merge datasets with the same or different frequencies, seasonality,\n",
    "and detect auto-correlation. Understanding those properties is vitally important for\n",
    "our knowledge development.\n",
    "\n",
    "In this chapter, the following topics will be covered:\n",
    "• Introduction to time-series analysis\n",
    "\n",
    "• Design a good date variable, and merging different datasets by date\n",
    "\n",
    "• Normal distribution and normality test\n",
    "\n",
    "• Term structure of interest rates, 52-week high, and low trading strategy\n",
    "\n",
    "• Return estimation and converting daily returns to monthly or annual returns\n",
    "\n",
    "• T-test, F-test, and Durbin-Watson test for autocorrelation\n",
    "\n",
    "• Fama-MacBeth regression\n",
    "\n",
    "• Roll (1984) spread, Amihud's (2002) illiquidity, and Pastor and Stambaugh's\n",
    "(2003) liquidity measure\n",
    "\n",
    "• January effect and weekday effect\n",
    "\n",
    "• Retrieving high-frequency data from Google Finance and Prof. Hasbrouck's\n",
    "TORQ database (Trade, Order, Report, and Quotation)\n",
    "\n",
    "• Introduction to CRSP (Center for Research in Security Prices) database"
   ]
  },
  {
   "cell_type": "markdown",
   "metadata": {},
   "source": [
    "## Introduction to Time Series\n",
    "\n",
    "Most finance data is in the format of time-series, see the following several examples.\n",
    "The first one shows how to download historical, daily stock price data from\n",
    "Yahoo!Finance for a given ticker's beginning and ending dates:"
   ]
  },
  {
   "cell_type": "code",
   "execution_count": 340,
   "metadata": {},
   "outputs": [
    {
     "name": "stdout",
     "output_type": "stream",
     "text": [
      "[*********************100%***********************]  1 of 1 completed\n",
      "              Open    High     Low   Close  Adj Close    Volume\n",
      "Date                                                           \n",
      "2016-01-04  129.64  129.99  128.34  129.97      89.53   5469952\n",
      "2016-01-05  130.75  130.87  128.92  129.88      89.47   4105341\n",
      "2016-01-06  128.47  129.62  127.74  129.23      89.02   4509201\n",
      "2016-01-07  127.82  129.08  126.61  127.02      87.50   7348987\n",
      "2016-01-08  127.32  127.93  125.54  125.84      86.69   4981784\n",
      "2016-01-11  126.01  127.93  125.97  127.37      87.74   5203222\n",
      "2016-01-12  127.77  127.90  125.36  127.06      87.53   5312320\n",
      "2016-01-13  127.63  128.37  125.33  125.40      86.39   4916305\n",
      "2016-01-14  126.13  127.91  125.45  127.07      87.53   5972242\n",
      "2016-01-15  124.29  125.12  123.20  124.31      85.64   9422891\n",
      "2016-01-19  124.39  126.29  122.43  122.48      84.37  10438662\n",
      "2016-01-20  113.25  118.54  112.81  116.50      80.25  16901059\n"
     ]
    }
   ],
   "source": [
    "import yfinance as yf\n",
    "x = yf.download('IBM', start=\"2016-01-01\", end=\"2016-01-21\", rounding=True)\n",
    "print(x)"
   ]
  },
  {
   "cell_type": "markdown",
   "metadata": {},
   "source": [
    "Let's see if webreader still works. EDIT: IT doesn't for yahoo. Not an issue. Now let's grab some GDP data."
   ]
  },
  {
   "cell_type": "code",
   "execution_count": 341,
   "metadata": {},
   "outputs": [
    {
     "name": "stdout",
     "output_type": "stream",
     "text": [
      "              Open    High     Low   Close  Adj Close   Volume\n",
      "Date                                                          \n",
      "2016-01-04  129.64  129.99  128.34  129.97      89.53  5469952\n",
      "2016-01-05  130.75  130.87  128.92  129.88      89.47  4105341\n",
      "              Open    High     Low   Close  Adj Close    Volume\n",
      "Date                                                           \n",
      "2016-01-15  124.29  125.12  123.20  124.31      85.64   9422891\n",
      "2016-01-19  124.39  126.29  122.43  122.48      84.37  10438662\n",
      "2016-01-20  113.25  118.54  112.81  116.50      80.25  16901059\n"
     ]
    }
   ],
   "source": [
    "import pandas_datareader.data as web\n",
    "import datetime\n",
    "begdate = datetime.datetime(1900, 1, 1)\n",
    "enddate = datetime.datetime(2017, 1, 27)\n",
    "y= web.DataReader(\"GDP\", \"fred\", begdate,enddate)\n",
    "print(x.head(2))\n",
    "print(x.tail(3))"
   ]
  },
  {
   "cell_type": "markdown",
   "metadata": {},
   "source": [
    "GDP data works fine when read through the pandas_datareader module."
   ]
  },
  {
   "cell_type": "markdown",
   "metadata": {},
   "source": [
    "## Merging datasets based on a date variable\n",
    "\n",
    "To make our time-series more manageable, it is a great idea to generate a date\n",
    "variable. When talking about such a variable, readers could think about year (YYYY),\n",
    "year and month (YYYYMM) or year, month, and day (YYYYMMDD). For just the\n",
    "year, month, and day combination, we could have many forms. Using January 20,\n",
    "2017 as an example, we could have 2017-1-20, 1/20/2017, 20Jan2017, 20-1-2017, and\n",
    "the like. In a sense, a true date variable, in our mind, could be easily manipulated.\n",
    "Usually, the true date variable takes a form of year-month-day or other forms of its\n",
    "variants. Assume the date variable has a value of 2000-12-31. After adding one day to\n",
    "its value, the result should be 2001-1-1.\n",
    "\n",
    "We could easily use the pandas.date_range() function to generate our time-series;\n",
    "refer to the following example:"
   ]
  },
  {
   "cell_type": "code",
   "execution_count": 342,
   "metadata": {},
   "outputs": [
    {
     "name": "stdout",
     "output_type": "stream",
     "text": [
      "                 RET\n",
      "2016-01-01  0.431031\n",
      "2016-01-02  0.279193\n",
      "2016-01-03  0.002549\n",
      "2016-01-04  0.109546\n",
      "2016-01-05  0.068252\n"
     ]
    }
   ],
   "source": [
    "import pandas as pd\n",
    "import numpy as np\n",
    "import scipy as sp\n",
    "\n",
    "np.random.seed(1257)\n",
    "mean=0.10\n",
    "std=0.2\n",
    "ddate = pd.date_range('1/1/2016', periods=252)\n",
    "n=len(ddate)\n",
    "rets= np.random.normal(mean,std,n)\n",
    "data = pd.DataFrame(rets, index=ddate,columns=['RET'])\n",
    "print(data.head())"
   ]
  },
  {
   "cell_type": "code",
   "execution_count": 343,
   "metadata": {},
   "outputs": [
    {
     "name": "stdout",
     "output_type": "stream",
     "text": [
      "              Open    High     Low   Close  Adj Close   Volume\n",
      "Date                                                          \n",
      "2016-01-04  129.64  129.99  128.34  129.97      89.53  5469952\n",
      "2016-01-05  130.75  130.87  128.92  129.88      89.47  4105341\n",
      "2016-01-06  128.47  129.62  127.74  129.23      89.02  4509201\n",
      "2016-01-07  127.82  129.08  126.61  127.02      87.50  7348987\n"
     ]
    }
   ],
   "source": [
    "print(x[0:4])"
   ]
  },
  {
   "cell_type": "markdown",
   "metadata": {},
   "source": [
    "Here are several ways to define a date variable:"
   ]
  },
  {
   "cell_type": "code",
   "execution_count": 344,
   "metadata": {},
   "outputs": [
    {
     "data": {
      "text/plain": [
       "DatetimeIndex(['2017-01-01', '2017-01-02', '2017-01-03', '2017-01-04',\n",
       "               '2017-01-05', '2017-01-06', '2017-01-07', '2017-01-08',\n",
       "               '2017-01-09', '2017-01-10',\n",
       "               ...\n",
       "               '2017-08-31', '2017-09-01', '2017-09-02', '2017-09-03',\n",
       "               '2017-09-04', '2017-09-05', '2017-09-06', '2017-09-07',\n",
       "               '2017-09-08', '2017-09-09'],\n",
       "              dtype='datetime64[ns]', length=252, freq='D')"
      ]
     },
     "execution_count": 344,
     "metadata": {},
     "output_type": "execute_result"
    }
   ],
   "source": [
    "# For a range of dates\n",
    "pd.date_range('1/1/2017',periods=252)"
   ]
  },
  {
   "cell_type": "code",
   "execution_count": 345,
   "metadata": {},
   "outputs": [
    {
     "data": {
      "text/plain": [
       "datetime.date(2017, 1, 20)"
      ]
     },
     "execution_count": 345,
     "metadata": {},
     "output_type": "execute_result"
    }
   ],
   "source": [
    "# For a single date\n",
    "datetime.date(2017,1,20)"
   ]
  },
  {
   "cell_type": "code",
   "execution_count": 346,
   "metadata": {},
   "outputs": [
    {
     "data": {
      "text/plain": [
       "datetime.date(2024, 2, 19)"
      ]
     },
     "execution_count": 346,
     "metadata": {},
     "output_type": "execute_result"
    }
   ],
   "source": [
    "# For today's date\n",
    "datetime.date.today()"
   ]
  },
  {
   "cell_type": "code",
   "execution_count": 347,
   "metadata": {},
   "outputs": [
    {
     "data": {
      "text/plain": [
       "datetime.datetime(2024, 2, 19, 15, 23, 44, 205778)"
      ]
     },
     "execution_count": 347,
     "metadata": {},
     "output_type": "execute_result"
    }
   ],
   "source": [
    "# Get the current time\n",
    "from datetime import datetime\n",
    "datetime.now()\n"
   ]
  },
  {
   "cell_type": "markdown",
   "metadata": {},
   "source": [
    "Retrieving the year, month, and day from a date variable is used quite frequently\n",
    "when dealing with time-series—see the following Python program by using the\n",
    "strftime() function. The corresponding output is in the following right panel. The\n",
    "format of those results of year, month, and day, is string:"
   ]
  },
  {
   "cell_type": "code",
   "execution_count": 348,
   "metadata": {},
   "outputs": [
    {
     "name": "stdout",
     "output_type": "stream",
     "text": [
      "2024 02 19 24\n"
     ]
    }
   ],
   "source": [
    "import datetime\n",
    "today=datetime.date.today()\n",
    "year=today.strftime(\"%Y\")\n",
    "year2=today.strftime(\"%y\")\n",
    "month=today.strftime(\"%m\")\n",
    "day=today.strftime(\"%d\")\n",
    "print(year,month,day,year2)"
   ]
  },
  {
   "cell_type": "markdown",
   "metadata": {},
   "source": [
    "## Return Estimation\n",
    "\n",
    "With price data, we could calculate returns. In addition, sometimes we have to\n",
    "convert daily returns to weekly or monthly, or convert monthly returns to quarterly\n",
    "or annual ones. Thus, understanding how to estimate returns and their conversion is\n",
    "vital. Assume that we have the following four prices:"
   ]
  },
  {
   "cell_type": "code",
   "execution_count": 349,
   "metadata": {},
   "outputs": [],
   "source": [
    "p=[1,1.1,0.9,1.05]"
   ]
  },
  {
   "cell_type": "code",
   "execution_count": 350,
   "metadata": {},
   "outputs": [
    {
     "name": "stdout",
     "output_type": "stream",
     "text": [
      "[1, 1.1, 0.9]\n",
      "[1.1, 0.9, 1.05]\n"
     ]
    }
   ],
   "source": [
    "print(p[:-1])\n",
    "print(p[1:])"
   ]
  },
  {
   "cell_type": "markdown",
   "metadata": {},
   "source": [
    "To estimate returns, we could use the following code:"
   ]
  },
  {
   "cell_type": "markdown",
   "metadata": {},
   "source": [
    "Alternatively we can use numpy and the pandas libraries to do the same calculation, but in dataframe form."
   ]
  },
  {
   "cell_type": "code",
   "execution_count": 351,
   "metadata": {},
   "outputs": [
    {
     "name": "stdout",
     "output_type": "stream",
     "text": [
      "   Price       Ret\n",
      "0   1.00       NaN\n",
      "1   1.10  0.100000\n",
      "2   0.90 -0.181818\n",
      "3   1.05  0.166667\n"
     ]
    }
   ],
   "source": [
    "p=[1,1.1,0.9,1.05]\n",
    "a=pd.DataFrame({'Price':p})\n",
    "a['Ret']=a['Price'].diff()/a['Price'].shift(1)\n",
    "print(a)"
   ]
  },
  {
   "cell_type": "markdown",
   "metadata": {},
   "source": [
    "Let's now analyze daily price data using what we've done above."
   ]
  },
  {
   "cell_type": "code",
   "execution_count": 352,
   "metadata": {},
   "outputs": [
    {
     "name": "stdout",
     "output_type": "stream",
     "text": [
      "[*********************100%***********************]  1 of 1 completed\n"
     ]
    },
    {
     "data": {
      "text/plain": [
       "Date\n",
       "2013-01-02         NaN\n",
       "2013-01-03   -0.005540\n",
       "2013-01-04   -0.006535\n",
       "2013-01-07   -0.004368\n",
       "2013-01-08   -0.001408\n",
       "                ...   \n",
       "2013-11-04    0.005778\n",
       "2013-11-05   -0.013404\n",
       "2013-11-06    0.007528\n",
       "2013-11-07    0.004495\n",
       "2013-11-08   -0.000058\n",
       "Name: Close, Length: 217, dtype: float64"
      ]
     },
     "execution_count": 352,
     "metadata": {},
     "output_type": "execute_result"
    }
   ],
   "source": [
    "x = yf.download('IBM', start=\"2013-01-01\", end=\"2013-11-9\", rounding=True)\n",
    "ret=x['Close'].pct_change()\n",
    "ret"
   ]
  },
  {
   "cell_type": "code",
   "execution_count": 353,
   "metadata": {},
   "outputs": [
    {
     "data": {
      "text/plain": [
       "DatetimeIndex(['2013-01-02', '2013-01-03', '2013-01-04'], dtype='datetime64[ns]', name='Date', freq=None)"
      ]
     },
     "execution_count": 353,
     "metadata": {},
     "output_type": "execute_result"
    }
   ],
   "source": [
    "x.index[0:3]"
   ]
  },
  {
   "cell_type": "code",
   "execution_count": 354,
   "metadata": {},
   "outputs": [
    {
     "data": {
      "text/plain": [
       "Date\n",
       "2013-01-02    187.72\n",
       "2013-01-03    186.68\n",
       "2013-01-04    185.46\n",
       "Name: Close, dtype: float64"
      ]
     },
     "execution_count": 354,
     "metadata": {},
     "output_type": "execute_result"
    }
   ],
   "source": [
    "x['Close'][0:3] "
   ]
  },
  {
   "cell_type": "code",
   "execution_count": 355,
   "metadata": {},
   "outputs": [
    {
     "data": {
      "text/plain": [
       "Date\n",
       "2013-01-02         NaN\n",
       "2013-01-03   -0.005540\n",
       "2013-01-04   -0.006535\n",
       "Name: Close, dtype: float64"
      ]
     },
     "execution_count": 355,
     "metadata": {},
     "output_type": "execute_result"
    }
   ],
   "source": [
    "ret[0:3]"
   ]
  },
  {
   "cell_type": "markdown",
   "metadata": {},
   "source": [
    "## Converting daily returns to monthly ones\n",
    "\n",
    "Sometimes, we need to convert daily returns to monthly or annual ones. Here is our\n",
    "procedure. First, we estimate the daily log returns. We then take a summation of\n",
    "all daily log returns within each month to find out the corresponding monthly log\n",
    "returns. The final step is to convert a log monthly return to a monthly percentage\n",
    "return. Assume that we have the price data of p0, p1, p2, …., p20, where p0 is the last\n",
    "trading price of the last month, p1 is the first price of this month, and p20 is the last\n",
    "price of this month. Thus, this month's percentage return is given as follows:\n",
    "\n",
    "R(monthly) = (p20 - p0) / p0\n",
    "\n",
    "LogR(monthly) = log (p20/p0)\n",
    "\n",
    "R(monthly) = exp(LogR) -1"
   ]
  },
  {
   "cell_type": "code",
   "execution_count": 356,
   "metadata": {},
   "outputs": [
    {
     "data": {
      "text/plain": [
       "DatetimeIndex(['2013-01-02', '2013-01-03', '2013-01-04', '2013-01-07',\n",
       "               '2013-01-08', '2013-01-09', '2013-01-10', '2013-01-11',\n",
       "               '2013-01-14', '2013-01-15',\n",
       "               ...\n",
       "               '2013-10-28', '2013-10-29', '2013-10-30', '2013-10-31',\n",
       "               '2013-11-01', '2013-11-04', '2013-11-05', '2013-11-06',\n",
       "               '2013-11-07', '2013-11-08'],\n",
       "              dtype='datetime64[ns]', name='Date', length=217, freq=None)"
      ]
     },
     "execution_count": 356,
     "metadata": {},
     "output_type": "execute_result"
    }
   ],
   "source": [
    "logret = pd.DataFrame(np.log(1+ x['Close'].pct_change()))\n",
    "logret = logret.rename(columns={'Close':'Returns'})\n",
    "yyyymm=[]\n",
    "d0=x.index\n",
    "\n",
    "logret\n",
    "d0\n"
   ]
  },
  {
   "cell_type": "code",
   "execution_count": 357,
   "metadata": {},
   "outputs": [
    {
     "name": "stdout",
     "output_type": "stream",
     "text": [
      "          Returns\n",
      "Months           \n",
      "2013-01  0.033628\n",
      "2013-02 -0.011084\n",
      "2013-03  0.060232\n",
      "2013-04 -0.051779\n",
      "2013-05  0.026702\n"
     ]
    }
   ],
   "source": [
    "#\n",
    "logret['Months'] = d0.strftime(\"%Y-%m\")\n",
    "logret\n",
    "\n",
    "retMonthly=logret.groupby(logret['Months']).sum()\n",
    "print(retMonthly.head())\n"
   ]
  },
  {
   "cell_type": "markdown",
   "metadata": {},
   "source": [
    "## Merging datasets by date\n",
    "\n",
    "The following program merges the daily adjusted closing price of IBM with the\n",
    "daily Fama-French 3-factor time-series."
   ]
  },
  {
   "cell_type": "code",
   "execution_count": 444,
   "metadata": {},
   "outputs": [
    {
     "name": "stdout",
     "output_type": "stream",
     "text": [
      "[*********************100%***********************]  1 of 1 completed\n"
     ]
    },
    {
     "data": {
      "text/html": [
       "<div>\n",
       "<style scoped>\n",
       "    .dataframe tbody tr th:only-of-type {\n",
       "        vertical-align: middle;\n",
       "    }\n",
       "\n",
       "    .dataframe tbody tr th {\n",
       "        vertical-align: top;\n",
       "    }\n",
       "\n",
       "    .dataframe thead th {\n",
       "        text-align: right;\n",
       "    }\n",
       "</style>\n",
       "<table border=\"1\" class=\"dataframe\">\n",
       "  <thead>\n",
       "    <tr style=\"text-align: right;\">\n",
       "      <th></th>\n",
       "      <th>Mkt-RF</th>\n",
       "      <th>SMB</th>\n",
       "      <th>HML</th>\n",
       "      <th>RF</th>\n",
       "    </tr>\n",
       "    <tr>\n",
       "      <th>Date</th>\n",
       "      <th></th>\n",
       "      <th></th>\n",
       "      <th></th>\n",
       "      <th></th>\n",
       "    </tr>\n",
       "  </thead>\n",
       "  <tbody>\n",
       "    <tr>\n",
       "      <th>1926-07-01</th>\n",
       "      <td>0.10</td>\n",
       "      <td>-0.25</td>\n",
       "      <td>-0.27</td>\n",
       "      <td>0.009</td>\n",
       "    </tr>\n",
       "    <tr>\n",
       "      <th>1926-07-02</th>\n",
       "      <td>0.45</td>\n",
       "      <td>-0.33</td>\n",
       "      <td>-0.06</td>\n",
       "      <td>0.009</td>\n",
       "    </tr>\n",
       "    <tr>\n",
       "      <th>1926-07-06</th>\n",
       "      <td>0.17</td>\n",
       "      <td>0.30</td>\n",
       "      <td>-0.39</td>\n",
       "      <td>0.009</td>\n",
       "    </tr>\n",
       "    <tr>\n",
       "      <th>1926-07-07</th>\n",
       "      <td>0.09</td>\n",
       "      <td>-0.58</td>\n",
       "      <td>0.02</td>\n",
       "      <td>0.009</td>\n",
       "    </tr>\n",
       "    <tr>\n",
       "      <th>1926-07-08</th>\n",
       "      <td>0.21</td>\n",
       "      <td>-0.38</td>\n",
       "      <td>0.19</td>\n",
       "      <td>0.009</td>\n",
       "    </tr>\n",
       "    <tr>\n",
       "      <th>...</th>\n",
       "      <td>...</td>\n",
       "      <td>...</td>\n",
       "      <td>...</td>\n",
       "      <td>...</td>\n",
       "    </tr>\n",
       "    <tr>\n",
       "      <th>2023-12-22</th>\n",
       "      <td>0.21</td>\n",
       "      <td>0.64</td>\n",
       "      <td>0.09</td>\n",
       "      <td>0.021</td>\n",
       "    </tr>\n",
       "    <tr>\n",
       "      <th>2023-12-26</th>\n",
       "      <td>0.48</td>\n",
       "      <td>0.69</td>\n",
       "      <td>0.46</td>\n",
       "      <td>0.021</td>\n",
       "    </tr>\n",
       "    <tr>\n",
       "      <th>2023-12-27</th>\n",
       "      <td>0.16</td>\n",
       "      <td>0.14</td>\n",
       "      <td>0.12</td>\n",
       "      <td>0.021</td>\n",
       "    </tr>\n",
       "    <tr>\n",
       "      <th>2023-12-28</th>\n",
       "      <td>-0.01</td>\n",
       "      <td>-0.36</td>\n",
       "      <td>0.03</td>\n",
       "      <td>0.021</td>\n",
       "    </tr>\n",
       "    <tr>\n",
       "      <th>2023-12-29</th>\n",
       "      <td>-0.43</td>\n",
       "      <td>-1.12</td>\n",
       "      <td>-0.37</td>\n",
       "      <td>0.021</td>\n",
       "    </tr>\n",
       "  </tbody>\n",
       "</table>\n",
       "<p>25649 rows × 4 columns</p>\n",
       "</div>"
      ],
      "text/plain": [
       "            Mkt-RF   SMB   HML     RF\n",
       "Date                                 \n",
       "1926-07-01    0.10 -0.25 -0.27  0.009\n",
       "1926-07-02    0.45 -0.33 -0.06  0.009\n",
       "1926-07-06    0.17  0.30 -0.39  0.009\n",
       "1926-07-07    0.09 -0.58  0.02  0.009\n",
       "1926-07-08    0.21 -0.38  0.19  0.009\n",
       "...            ...   ...   ...    ...\n",
       "2023-12-22    0.21  0.64  0.09  0.021\n",
       "2023-12-26    0.48  0.69  0.46  0.021\n",
       "2023-12-27    0.16  0.14  0.12  0.021\n",
       "2023-12-28   -0.01 -0.36  0.03  0.021\n",
       "2023-12-29   -0.43 -1.12 -0.37  0.021\n",
       "\n",
       "[25649 rows x 4 columns]"
      ]
     },
     "execution_count": 444,
     "metadata": {},
     "output_type": "execute_result"
    }
   ],
   "source": [
    "ticker='IBM'\n",
    "begdate=datetime.date(2016,1,2)\n",
    "enddate=datetime.date(2017,1,9)\n",
    "x = yf.download(ticker, start = begdate, end = enddate, rounding = True)\n",
    "\n",
    "f3factor = pd.read_csv('/opt/code/test_repo/Python-For-Finance-2nd-Edition/F-F_Research_Data_Factors_daily.CSV').dropna()\n",
    "f3factor['Date'] = pd.to_numeric(f3factor['Date'], errors=\"coerce\").astype(int).dropna()\n",
    "f3factor['Date'] = pd.to_datetime(f3factor['Date'], format='%Y%m%d')\n",
    "f3factor = f3factor.set_index('Date')\n",
    "\n",
    "myName=ticker+'_adjClose'\n",
    "x2= pd.DataFrame(x['Close']).rename(columns={'Close':myName})\n",
    "\n",
    "f3factor\n"
   ]
  },
  {
   "cell_type": "code",
   "execution_count": 359,
   "metadata": {},
   "outputs": [
    {
     "name": "stdout",
     "output_type": "stream",
     "text": [
      "            IBM_adjClose  Mkt-RF   SMB   HML   RF\n",
      "Date                                             \n",
      "2016-01-04        129.97   -1.59 -0.87  0.52  0.0\n",
      "2016-01-05        129.88    0.12 -0.19  0.01  0.0\n",
      "2016-01-06        129.23   -1.35 -0.14  0.00  0.0\n",
      "2016-01-07        127.02   -2.44 -0.29  0.08  0.0\n",
      "2016-01-08        125.84   -1.11 -0.50 -0.03  0.0\n"
     ]
    },
    {
     "data": {
      "text/html": [
       "<div>\n",
       "<style scoped>\n",
       "    .dataframe tbody tr th:only-of-type {\n",
       "        vertical-align: middle;\n",
       "    }\n",
       "\n",
       "    .dataframe tbody tr th {\n",
       "        vertical-align: top;\n",
       "    }\n",
       "\n",
       "    .dataframe thead th {\n",
       "        text-align: right;\n",
       "    }\n",
       "</style>\n",
       "<table border=\"1\" class=\"dataframe\">\n",
       "  <thead>\n",
       "    <tr style=\"text-align: right;\">\n",
       "      <th></th>\n",
       "      <th>IBM_adjClose</th>\n",
       "      <th>Mkt-RF</th>\n",
       "      <th>SMB</th>\n",
       "      <th>HML</th>\n",
       "      <th>RF</th>\n",
       "    </tr>\n",
       "    <tr>\n",
       "      <th>Date</th>\n",
       "      <th></th>\n",
       "      <th></th>\n",
       "      <th></th>\n",
       "      <th></th>\n",
       "      <th></th>\n",
       "    </tr>\n",
       "  </thead>\n",
       "  <tbody>\n",
       "    <tr>\n",
       "      <th>2016-01-04</th>\n",
       "      <td>129.97</td>\n",
       "      <td>-1.59</td>\n",
       "      <td>-0.87</td>\n",
       "      <td>0.52</td>\n",
       "      <td>0.0</td>\n",
       "    </tr>\n",
       "    <tr>\n",
       "      <th>2016-01-05</th>\n",
       "      <td>129.88</td>\n",
       "      <td>0.12</td>\n",
       "      <td>-0.19</td>\n",
       "      <td>0.01</td>\n",
       "      <td>0.0</td>\n",
       "    </tr>\n",
       "    <tr>\n",
       "      <th>2016-01-06</th>\n",
       "      <td>129.23</td>\n",
       "      <td>-1.35</td>\n",
       "      <td>-0.14</td>\n",
       "      <td>0.00</td>\n",
       "      <td>0.0</td>\n",
       "    </tr>\n",
       "    <tr>\n",
       "      <th>2016-01-07</th>\n",
       "      <td>127.02</td>\n",
       "      <td>-2.44</td>\n",
       "      <td>-0.29</td>\n",
       "      <td>0.08</td>\n",
       "      <td>0.0</td>\n",
       "    </tr>\n",
       "    <tr>\n",
       "      <th>2016-01-08</th>\n",
       "      <td>125.84</td>\n",
       "      <td>-1.11</td>\n",
       "      <td>-0.50</td>\n",
       "      <td>-0.03</td>\n",
       "      <td>0.0</td>\n",
       "    </tr>\n",
       "  </tbody>\n",
       "</table>\n",
       "</div>"
      ],
      "text/plain": [
       "            IBM_adjClose  Mkt-RF   SMB   HML   RF\n",
       "Date                                             \n",
       "2016-01-04        129.97   -1.59 -0.87  0.52  0.0\n",
       "2016-01-05        129.88    0.12 -0.19  0.01  0.0\n",
       "2016-01-06        129.23   -1.35 -0.14  0.00  0.0\n",
       "2016-01-07        127.02   -2.44 -0.29  0.08  0.0\n",
       "2016-01-08        125.84   -1.11 -0.50 -0.03  0.0"
      ]
     },
     "execution_count": 359,
     "metadata": {},
     "output_type": "execute_result"
    }
   ],
   "source": [
    "final=pd.merge(x2,f3factor,left_index=True,right_index=True)\n",
    "print(final.head())\n",
    "final.head()"
   ]
  },
  {
   "cell_type": "markdown",
   "metadata": {},
   "source": [
    "## Understanding the interpolation technique\n",
    "\n",
    "Interpolation is a technique used quite frequently in finance. In the following\n",
    "example, we have to replace two missing values, NaN, between 2 and 6. The\n",
    "pandas.interpolate() function, for a linear interpolation, is used to fill in the\n",
    "two missing values:"
   ]
  },
  {
   "cell_type": "code",
   "execution_count": 360,
   "metadata": {},
   "outputs": [
    {
     "name": "stdout",
     "output_type": "stream",
     "text": [
      "0    1.000000\n",
      "1    2.000000\n",
      "2    3.333333\n",
      "3    4.666667\n",
      "4    6.000000\n",
      "dtype: float64\n"
     ]
    }
   ],
   "source": [
    "import pandas as pd\n",
    "import numpy as np\n",
    "nn=np.nan\n",
    "x=pd.Series([1,2,nn,nn,6])\n",
    "print(x.interpolate())"
   ]
  },
  {
   "cell_type": "markdown",
   "metadata": {},
   "source": [
    "## Merging data with different frequencies\n",
    "\n",
    "The following Python program merges two datasets: US Gross Domestic Product\n",
    "(GDP) data with a quarterly frequency and ffMonthly, http://canisius.\n",
    "edu/~yany/python/ffMonthly.pkl with a monthly frequency.\n",
    "\n",
    "\n",
    "The interpolation methodology discussed previously is applied to the missing\n",
    "months in terms of GDP data. The ffMonthly dataset is assumed to be saved\n",
    "in the c:/temp/ directory:"
   ]
  },
  {
   "cell_type": "code",
   "execution_count": 361,
   "metadata": {},
   "outputs": [
    {
     "data": {
      "text/html": [
       "<div>\n",
       "<style scoped>\n",
       "    .dataframe tbody tr th:only-of-type {\n",
       "        vertical-align: middle;\n",
       "    }\n",
       "\n",
       "    .dataframe tbody tr th {\n",
       "        vertical-align: top;\n",
       "    }\n",
       "\n",
       "    .dataframe thead th {\n",
       "        text-align: right;\n",
       "    }\n",
       "</style>\n",
       "<table border=\"1\" class=\"dataframe\">\n",
       "  <thead>\n",
       "    <tr style=\"text-align: right;\">\n",
       "      <th></th>\n",
       "      <th>Mkt-RF</th>\n",
       "      <th>SMB</th>\n",
       "      <th>HML</th>\n",
       "      <th>RF</th>\n",
       "    </tr>\n",
       "    <tr>\n",
       "      <th>Date</th>\n",
       "      <th></th>\n",
       "      <th></th>\n",
       "      <th></th>\n",
       "      <th></th>\n",
       "    </tr>\n",
       "  </thead>\n",
       "  <tbody>\n",
       "    <tr>\n",
       "      <th>1926-07</th>\n",
       "      <td>0.0296</td>\n",
       "      <td>-0.0256</td>\n",
       "      <td>-0.0243</td>\n",
       "      <td>0.0022</td>\n",
       "    </tr>\n",
       "    <tr>\n",
       "      <th>1926-08</th>\n",
       "      <td>0.0264</td>\n",
       "      <td>-0.0117</td>\n",
       "      <td>0.0382</td>\n",
       "      <td>0.0025</td>\n",
       "    </tr>\n",
       "    <tr>\n",
       "      <th>1926-09</th>\n",
       "      <td>0.0036</td>\n",
       "      <td>-0.0140</td>\n",
       "      <td>0.0013</td>\n",
       "      <td>0.0023</td>\n",
       "    </tr>\n",
       "    <tr>\n",
       "      <th>1926-10</th>\n",
       "      <td>-0.0324</td>\n",
       "      <td>-0.0009</td>\n",
       "      <td>0.0070</td>\n",
       "      <td>0.0032</td>\n",
       "    </tr>\n",
       "    <tr>\n",
       "      <th>1926-11</th>\n",
       "      <td>0.0253</td>\n",
       "      <td>-0.0010</td>\n",
       "      <td>-0.0051</td>\n",
       "      <td>0.0031</td>\n",
       "    </tr>\n",
       "    <tr>\n",
       "      <th>...</th>\n",
       "      <td>...</td>\n",
       "      <td>...</td>\n",
       "      <td>...</td>\n",
       "      <td>...</td>\n",
       "    </tr>\n",
       "    <tr>\n",
       "      <th>2023-08</th>\n",
       "      <td>-0.0239</td>\n",
       "      <td>-0.0316</td>\n",
       "      <td>-0.0106</td>\n",
       "      <td>0.0045</td>\n",
       "    </tr>\n",
       "    <tr>\n",
       "      <th>2023-09</th>\n",
       "      <td>-0.0524</td>\n",
       "      <td>-0.0251</td>\n",
       "      <td>0.0152</td>\n",
       "      <td>0.0043</td>\n",
       "    </tr>\n",
       "    <tr>\n",
       "      <th>2023-10</th>\n",
       "      <td>-0.0319</td>\n",
       "      <td>-0.0387</td>\n",
       "      <td>0.0019</td>\n",
       "      <td>0.0047</td>\n",
       "    </tr>\n",
       "    <tr>\n",
       "      <th>2023-11</th>\n",
       "      <td>0.0884</td>\n",
       "      <td>-0.0002</td>\n",
       "      <td>0.0164</td>\n",
       "      <td>0.0044</td>\n",
       "    </tr>\n",
       "    <tr>\n",
       "      <th>2023-12</th>\n",
       "      <td>0.0485</td>\n",
       "      <td>0.0635</td>\n",
       "      <td>0.0494</td>\n",
       "      <td>0.0043</td>\n",
       "    </tr>\n",
       "  </tbody>\n",
       "</table>\n",
       "<p>1170 rows × 4 columns</p>\n",
       "</div>"
      ],
      "text/plain": [
       "         Mkt-RF     SMB     HML      RF\n",
       "Date                                   \n",
       "1926-07  0.0296 -0.0256 -0.0243  0.0022\n",
       "1926-08  0.0264 -0.0117  0.0382  0.0025\n",
       "1926-09  0.0036 -0.0140  0.0013  0.0023\n",
       "1926-10 -0.0324 -0.0009  0.0070  0.0032\n",
       "1926-11  0.0253 -0.0010 -0.0051  0.0031\n",
       "...         ...     ...     ...     ...\n",
       "2023-08 -0.0239 -0.0316 -0.0106  0.0045\n",
       "2023-09 -0.0524 -0.0251  0.0152  0.0043\n",
       "2023-10 -0.0319 -0.0387  0.0019  0.0047\n",
       "2023-11  0.0884 -0.0002  0.0164  0.0044\n",
       "2023-12  0.0485  0.0635  0.0494  0.0043\n",
       "\n",
       "[1170 rows x 4 columns]"
      ]
     },
     "execution_count": 361,
     "metadata": {},
     "output_type": "execute_result"
    }
   ],
   "source": [
    "#get Fama French factors\n",
    "import getFamaFrenchFactors as gff\n",
    "\n",
    "ff3 = pd.DataFrame(gff.famaFrench3Factor(frequency='m'))\n",
    "ff3 = ff3.rename(columns={'date_ff_factors':'Date'})\n",
    "ff3['Date'] = ff3['Date'].dt.strftime('%Y-%m')\n",
    "ff3 = ff3.set_index('Date')\n",
    "ff3\n",
    "\n"
   ]
  },
  {
   "cell_type": "code",
   "execution_count": 362,
   "metadata": {},
   "outputs": [
    {
     "data": {
      "text/html": [
       "<div>\n",
       "<style scoped>\n",
       "    .dataframe tbody tr th:only-of-type {\n",
       "        vertical-align: middle;\n",
       "    }\n",
       "\n",
       "    .dataframe tbody tr th {\n",
       "        vertical-align: top;\n",
       "    }\n",
       "\n",
       "    .dataframe thead th {\n",
       "        text-align: right;\n",
       "    }\n",
       "</style>\n",
       "<table border=\"1\" class=\"dataframe\">\n",
       "  <thead>\n",
       "    <tr style=\"text-align: right;\">\n",
       "      <th></th>\n",
       "      <th>GDP</th>\n",
       "    </tr>\n",
       "    <tr>\n",
       "      <th>DATE</th>\n",
       "      <th></th>\n",
       "    </tr>\n",
       "  </thead>\n",
       "  <tbody>\n",
       "    <tr>\n",
       "      <th>1947-01</th>\n",
       "      <td>243.164</td>\n",
       "    </tr>\n",
       "    <tr>\n",
       "      <th>1947-04</th>\n",
       "      <td>245.968</td>\n",
       "    </tr>\n",
       "    <tr>\n",
       "      <th>1947-07</th>\n",
       "      <td>249.585</td>\n",
       "    </tr>\n",
       "    <tr>\n",
       "      <th>1947-10</th>\n",
       "      <td>259.745</td>\n",
       "    </tr>\n",
       "    <tr>\n",
       "      <th>1948-01</th>\n",
       "      <td>265.742</td>\n",
       "    </tr>\n",
       "    <tr>\n",
       "      <th>...</th>\n",
       "      <td>...</td>\n",
       "    </tr>\n",
       "    <tr>\n",
       "      <th>2022-10</th>\n",
       "      <td>26408.405</td>\n",
       "    </tr>\n",
       "    <tr>\n",
       "      <th>2023-01</th>\n",
       "      <td>26813.601</td>\n",
       "    </tr>\n",
       "    <tr>\n",
       "      <th>2023-04</th>\n",
       "      <td>27063.012</td>\n",
       "    </tr>\n",
       "    <tr>\n",
       "      <th>2023-07</th>\n",
       "      <td>27610.128</td>\n",
       "    </tr>\n",
       "    <tr>\n",
       "      <th>2023-10</th>\n",
       "      <td>27938.831</td>\n",
       "    </tr>\n",
       "  </tbody>\n",
       "</table>\n",
       "<p>308 rows × 1 columns</p>\n",
       "</div>"
      ],
      "text/plain": [
       "               GDP\n",
       "DATE              \n",
       "1947-01    243.164\n",
       "1947-04    245.968\n",
       "1947-07    249.585\n",
       "1947-10    259.745\n",
       "1948-01    265.742\n",
       "...            ...\n",
       "2022-10  26408.405\n",
       "2023-01  26813.601\n",
       "2023-04  27063.012\n",
       "2023-07  27610.128\n",
       "2023-10  27938.831\n",
       "\n",
       "[308 rows x 1 columns]"
      ]
     },
     "execution_count": 362,
     "metadata": {},
     "output_type": "execute_result"
    }
   ],
   "source": [
    "begdate = datetime.datetime(1900, 1, 1)\n",
    "enddate = datetime.datetime(2024, 1, 27)\n",
    "GDP = web.DataReader(\"GDP\", \"fred\", begdate, enddate)\n",
    "GDP.index = GDP.index.strftime('%Y-%m')\n",
    "GDP"
   ]
  },
  {
   "cell_type": "code",
   "execution_count": 363,
   "metadata": {},
   "outputs": [],
   "source": [
    "final=pd.merge(ff3,GDP,left_index=True,right_index=True,how='left')\n",
    "tt=final['GDP']\n",
    "GDP2=pd.Series(tt).interpolate()\n",
    "final['GDP2']=GDP2"
   ]
  },
  {
   "cell_type": "code",
   "execution_count": 364,
   "metadata": {},
   "outputs": [
    {
     "data": {
      "text/html": [
       "<div>\n",
       "<style scoped>\n",
       "    .dataframe tbody tr th:only-of-type {\n",
       "        vertical-align: middle;\n",
       "    }\n",
       "\n",
       "    .dataframe tbody tr th {\n",
       "        vertical-align: top;\n",
       "    }\n",
       "\n",
       "    .dataframe thead th {\n",
       "        text-align: right;\n",
       "    }\n",
       "</style>\n",
       "<table border=\"1\" class=\"dataframe\">\n",
       "  <thead>\n",
       "    <tr style=\"text-align: right;\">\n",
       "      <th></th>\n",
       "      <th>Mkt-RF</th>\n",
       "      <th>SMB</th>\n",
       "      <th>HML</th>\n",
       "      <th>RF</th>\n",
       "      <th>GDP</th>\n",
       "      <th>GDP2</th>\n",
       "    </tr>\n",
       "    <tr>\n",
       "      <th>Date</th>\n",
       "      <th></th>\n",
       "      <th></th>\n",
       "      <th></th>\n",
       "      <th></th>\n",
       "      <th></th>\n",
       "      <th></th>\n",
       "    </tr>\n",
       "  </thead>\n",
       "  <tbody>\n",
       "    <tr>\n",
       "      <th>2022-05</th>\n",
       "      <td>-0.0034</td>\n",
       "      <td>-0.0183</td>\n",
       "      <td>0.0839</td>\n",
       "      <td>0.0003</td>\n",
       "      <td>NaN</td>\n",
       "      <td>25694.395000</td>\n",
       "    </tr>\n",
       "    <tr>\n",
       "      <th>2022-06</th>\n",
       "      <td>-0.0843</td>\n",
       "      <td>0.0210</td>\n",
       "      <td>-0.0597</td>\n",
       "      <td>0.0006</td>\n",
       "      <td>NaN</td>\n",
       "      <td>25844.517000</td>\n",
       "    </tr>\n",
       "    <tr>\n",
       "      <th>2022-07</th>\n",
       "      <td>0.0957</td>\n",
       "      <td>0.0281</td>\n",
       "      <td>-0.0405</td>\n",
       "      <td>0.0008</td>\n",
       "      <td>25994.639</td>\n",
       "      <td>25994.639000</td>\n",
       "    </tr>\n",
       "    <tr>\n",
       "      <th>2022-08</th>\n",
       "      <td>-0.0377</td>\n",
       "      <td>0.0140</td>\n",
       "      <td>0.0029</td>\n",
       "      <td>0.0019</td>\n",
       "      <td>NaN</td>\n",
       "      <td>26132.561000</td>\n",
       "    </tr>\n",
       "    <tr>\n",
       "      <th>2022-09</th>\n",
       "      <td>-0.0935</td>\n",
       "      <td>-0.0081</td>\n",
       "      <td>0.0005</td>\n",
       "      <td>0.0019</td>\n",
       "      <td>NaN</td>\n",
       "      <td>26270.483000</td>\n",
       "    </tr>\n",
       "    <tr>\n",
       "      <th>2022-10</th>\n",
       "      <td>0.0783</td>\n",
       "      <td>0.0006</td>\n",
       "      <td>0.0801</td>\n",
       "      <td>0.0023</td>\n",
       "      <td>26408.405</td>\n",
       "      <td>26408.405000</td>\n",
       "    </tr>\n",
       "    <tr>\n",
       "      <th>2022-11</th>\n",
       "      <td>0.0460</td>\n",
       "      <td>-0.0352</td>\n",
       "      <td>0.0138</td>\n",
       "      <td>0.0029</td>\n",
       "      <td>NaN</td>\n",
       "      <td>26543.470333</td>\n",
       "    </tr>\n",
       "    <tr>\n",
       "      <th>2022-12</th>\n",
       "      <td>-0.0641</td>\n",
       "      <td>-0.0069</td>\n",
       "      <td>0.0137</td>\n",
       "      <td>0.0033</td>\n",
       "      <td>NaN</td>\n",
       "      <td>26678.535667</td>\n",
       "    </tr>\n",
       "    <tr>\n",
       "      <th>2023-01</th>\n",
       "      <td>0.0665</td>\n",
       "      <td>0.0501</td>\n",
       "      <td>-0.0401</td>\n",
       "      <td>0.0035</td>\n",
       "      <td>26813.601</td>\n",
       "      <td>26813.601000</td>\n",
       "    </tr>\n",
       "    <tr>\n",
       "      <th>2023-02</th>\n",
       "      <td>-0.0258</td>\n",
       "      <td>0.0117</td>\n",
       "      <td>-0.0081</td>\n",
       "      <td>0.0034</td>\n",
       "      <td>NaN</td>\n",
       "      <td>26896.738000</td>\n",
       "    </tr>\n",
       "    <tr>\n",
       "      <th>2023-03</th>\n",
       "      <td>0.0251</td>\n",
       "      <td>-0.0551</td>\n",
       "      <td>-0.0885</td>\n",
       "      <td>0.0036</td>\n",
       "      <td>NaN</td>\n",
       "      <td>26979.875000</td>\n",
       "    </tr>\n",
       "    <tr>\n",
       "      <th>2023-04</th>\n",
       "      <td>0.0061</td>\n",
       "      <td>-0.0335</td>\n",
       "      <td>-0.0004</td>\n",
       "      <td>0.0035</td>\n",
       "      <td>27063.012</td>\n",
       "      <td>27063.012000</td>\n",
       "    </tr>\n",
       "    <tr>\n",
       "      <th>2023-05</th>\n",
       "      <td>0.0035</td>\n",
       "      <td>0.0161</td>\n",
       "      <td>-0.0772</td>\n",
       "      <td>0.0036</td>\n",
       "      <td>NaN</td>\n",
       "      <td>27245.384000</td>\n",
       "    </tr>\n",
       "    <tr>\n",
       "      <th>2023-06</th>\n",
       "      <td>0.0646</td>\n",
       "      <td>0.0154</td>\n",
       "      <td>-0.0026</td>\n",
       "      <td>0.0040</td>\n",
       "      <td>NaN</td>\n",
       "      <td>27427.756000</td>\n",
       "    </tr>\n",
       "    <tr>\n",
       "      <th>2023-07</th>\n",
       "      <td>0.0321</td>\n",
       "      <td>0.0208</td>\n",
       "      <td>0.0411</td>\n",
       "      <td>0.0045</td>\n",
       "      <td>27610.128</td>\n",
       "      <td>27610.128000</td>\n",
       "    </tr>\n",
       "    <tr>\n",
       "      <th>2023-08</th>\n",
       "      <td>-0.0239</td>\n",
       "      <td>-0.0316</td>\n",
       "      <td>-0.0106</td>\n",
       "      <td>0.0045</td>\n",
       "      <td>NaN</td>\n",
       "      <td>27719.695667</td>\n",
       "    </tr>\n",
       "    <tr>\n",
       "      <th>2023-09</th>\n",
       "      <td>-0.0524</td>\n",
       "      <td>-0.0251</td>\n",
       "      <td>0.0152</td>\n",
       "      <td>0.0043</td>\n",
       "      <td>NaN</td>\n",
       "      <td>27829.263333</td>\n",
       "    </tr>\n",
       "    <tr>\n",
       "      <th>2023-10</th>\n",
       "      <td>-0.0319</td>\n",
       "      <td>-0.0387</td>\n",
       "      <td>0.0019</td>\n",
       "      <td>0.0047</td>\n",
       "      <td>27938.831</td>\n",
       "      <td>27938.831000</td>\n",
       "    </tr>\n",
       "    <tr>\n",
       "      <th>2023-11</th>\n",
       "      <td>0.0884</td>\n",
       "      <td>-0.0002</td>\n",
       "      <td>0.0164</td>\n",
       "      <td>0.0044</td>\n",
       "      <td>NaN</td>\n",
       "      <td>27938.831000</td>\n",
       "    </tr>\n",
       "    <tr>\n",
       "      <th>2023-12</th>\n",
       "      <td>0.0485</td>\n",
       "      <td>0.0635</td>\n",
       "      <td>0.0494</td>\n",
       "      <td>0.0043</td>\n",
       "      <td>NaN</td>\n",
       "      <td>27938.831000</td>\n",
       "    </tr>\n",
       "  </tbody>\n",
       "</table>\n",
       "</div>"
      ],
      "text/plain": [
       "         Mkt-RF     SMB     HML      RF        GDP          GDP2\n",
       "Date                                                            \n",
       "2022-05 -0.0034 -0.0183  0.0839  0.0003        NaN  25694.395000\n",
       "2022-06 -0.0843  0.0210 -0.0597  0.0006        NaN  25844.517000\n",
       "2022-07  0.0957  0.0281 -0.0405  0.0008  25994.639  25994.639000\n",
       "2022-08 -0.0377  0.0140  0.0029  0.0019        NaN  26132.561000\n",
       "2022-09 -0.0935 -0.0081  0.0005  0.0019        NaN  26270.483000\n",
       "2022-10  0.0783  0.0006  0.0801  0.0023  26408.405  26408.405000\n",
       "2022-11  0.0460 -0.0352  0.0138  0.0029        NaN  26543.470333\n",
       "2022-12 -0.0641 -0.0069  0.0137  0.0033        NaN  26678.535667\n",
       "2023-01  0.0665  0.0501 -0.0401  0.0035  26813.601  26813.601000\n",
       "2023-02 -0.0258  0.0117 -0.0081  0.0034        NaN  26896.738000\n",
       "2023-03  0.0251 -0.0551 -0.0885  0.0036        NaN  26979.875000\n",
       "2023-04  0.0061 -0.0335 -0.0004  0.0035  27063.012  27063.012000\n",
       "2023-05  0.0035  0.0161 -0.0772  0.0036        NaN  27245.384000\n",
       "2023-06  0.0646  0.0154 -0.0026  0.0040        NaN  27427.756000\n",
       "2023-07  0.0321  0.0208  0.0411  0.0045  27610.128  27610.128000\n",
       "2023-08 -0.0239 -0.0316 -0.0106  0.0045        NaN  27719.695667\n",
       "2023-09 -0.0524 -0.0251  0.0152  0.0043        NaN  27829.263333\n",
       "2023-10 -0.0319 -0.0387  0.0019  0.0047  27938.831  27938.831000\n",
       "2023-11  0.0884 -0.0002  0.0164  0.0044        NaN  27938.831000\n",
       "2023-12  0.0485  0.0635  0.0494  0.0043        NaN  27938.831000"
      ]
     },
     "execution_count": 364,
     "metadata": {},
     "output_type": "execute_result"
    }
   ],
   "source": [
    "final.tail(20)"
   ]
  },
  {
   "cell_type": "markdown",
   "metadata": {},
   "source": [
    "## Tests of normality\n",
    "\n",
    "In finance, knowledge about normal distribution is very important for two reasons.\n",
    "First, stock returns are assumed to follow a normal distribution. Second, the error\n",
    "terms from a good econometric model should follow a normal distribution with a\n",
    "zero mean. However, in the real world, this might not be true for stocks. On the other\n",
    "hand, whether stocks or portfolios follow a normal distribution could be tested by\n",
    "various so-called normality tests. The Shapiro-Wilk test is one of them. For the first\n",
    "example, random numbers are drawn from a normal distribution. As a consequence,\n",
    "the test should confirm that those observations follow a normal distribution:"
   ]
  },
  {
   "cell_type": "code",
   "execution_count": 365,
   "metadata": {},
   "outputs": [
    {
     "name": "stdout",
     "output_type": "stream",
     "text": [
      "W-test, and P-value\n",
      "ShapiroResult(statistic=0.9995947480201721, pvalue=0.40313461422920227)\n"
     ]
    }
   ],
   "source": [
    "from scipy import stats\n",
    "np.random.seed(12345)\n",
    "mean=0.1\n",
    "std=0.2\n",
    "n=5000\n",
    "ret=np.random.normal(loc=0,scale=std,size=n)\n",
    "print('W-test, and P-value')\n",
    "print(stats.shapiro(ret))"
   ]
  },
  {
   "cell_type": "markdown",
   "metadata": {},
   "source": [
    "Assume that our confidence level is 95%, that is, alpha=0.05. The first value of the\n",
    "result is the test statistic, and the second one is its corresponding P-value. Since\n",
    "the P-value is so big, much bigger than 0.05, we accept the null hypothesis that the\n",
    "returns follow a normal distribution. For the second example, random numbers are\n",
    "drawn from a uniform distribution:"
   ]
  },
  {
   "cell_type": "code",
   "execution_count": 366,
   "metadata": {},
   "outputs": [
    {
     "name": "stdout",
     "output_type": "stream",
     "text": [
      "W-test, and P-value\n",
      "ShapiroResult(statistic=0.9537610411643982, pvalue=4.076294275851805e-37)\n"
     ]
    }
   ],
   "source": [
    "np.random.seed(12345)\n",
    "n=5000\n",
    "ret=np.random.uniform(size=n)\n",
    "print('W-test, and P-value')\n",
    "print(stats.shapiro(ret))"
   ]
  },
  {
   "cell_type": "markdown",
   "metadata": {},
   "source": [
    "Since the P-value is close to zero, we reject the null hypothesis. In other words, those\n",
    "observations do not follow a normal distribution. The third example verifies whether\n",
    "IBM's returns follow a normal distribution. The last five year's daily data from\n",
    "Yahoo! Finance is used for the test. The last five year's daily data from\n",
    "Yahoo! Finance is used for the test. The null hypothesis is that IBM's daily returns are\n",
    "drawn from a normal distribution:"
   ]
  },
  {
   "cell_type": "code",
   "execution_count": 367,
   "metadata": {},
   "outputs": [
    {
     "name": "stdout",
     "output_type": "stream",
     "text": [
      "[*********************100%***********************]  1 of 1 completed\n",
      "Ticker = IBM W-test, and P-value\n",
      "ShapiroResult(statistic=0.8869530558586121, pvalue=1.762584302639909e-29)\n"
     ]
    }
   ],
   "source": [
    "x = yf.download('IBM', start=\"2019-01-01\", end=\"2024-01-21\", rounding=True)\n",
    "ret = x['Close'].pct_change().dropna()\n",
    "\n",
    "print(\"Ticker =\",ticker, \"W-test, and P-value\")\n",
    "print(stats.shapiro(ret))"
   ]
  },
  {
   "cell_type": "markdown",
   "metadata": {},
   "source": [
    "Since this P-value is so close to zero, we reject the null hypothesis. In other\n",
    "words, we conclude that IBM's daily returns do not follow a normal distribution.\n",
    "For a normality test, we could also apply the Anderson-Darling test, which is a\n",
    "modification of the Kolmogorov-Smirnov test, to verify whether the observations\n",
    "follow a particular distribution. See the following code:"
   ]
  },
  {
   "cell_type": "code",
   "execution_count": 368,
   "metadata": {},
   "outputs": [
    {
     "name": "stdout",
     "output_type": "stream",
     "text": [
      "AndersonResult(statistic=26.0722603874824, critical_values=array([0.574, 0.654, 0.785, 0.915, 1.089]), significance_level=array([15. , 10. ,  5. ,  2.5,  1. ]), fit_result=  params: FitParams(loc=0.0004869297522596514, scale=0.016585637480049348)\n",
      " success: True\n",
      " message: '`anderson` successfully fit the distribution to the data.')\n"
     ]
    }
   ],
   "source": [
    "print( stats.anderson(ret) )"
   ]
  },
  {
   "cell_type": "markdown",
   "metadata": {},
   "source": [
    "Here, we have three sets of values: the Anderson-Darling test statistic, a set of critical\n",
    "values, and a set of corresponding confidence levels, such as 15 percent, 10 percent,\n",
    "5 percent, 2.5 percent, and 1 percent, as shown in the previous output. If we choose\n",
    "a 1 percent confidence level—the last value of the third set—the critical value is\n",
    "1.089, the last value of the second set. Since our testing statistic is 26, which is\n",
    "much higher than the critical value of 1.089, we reject the null hypothesis. Thus, our\n",
    "Anderson-Darling test leads to the same conclusion as our Shapiro-Wilk test. One\n",
    "of the beauties of the scipy.stats.anderson() test is that we can test for other\n",
    "distributions. After applying the help() function, we would get the following list. "
   ]
  },
  {
   "cell_type": "code",
   "execution_count": 369,
   "metadata": {},
   "outputs": [
    {
     "name": "stdout",
     "output_type": "stream",
     "text": [
      "Help on function anderson in module scipy.stats._morestats:\n",
      "\n",
      "anderson(x, dist='norm')\n",
      "    Anderson-Darling test for data coming from a particular distribution.\n",
      "    \n",
      "    The Anderson-Darling test tests the null hypothesis that a sample is\n",
      "    drawn from a population that follows a particular distribution.\n",
      "    For the Anderson-Darling test, the critical values depend on\n",
      "    which distribution is being tested against.  This function works\n",
      "    for normal, exponential, logistic, or Gumbel (Extreme Value\n",
      "    Type I) distributions.\n",
      "    \n",
      "    Parameters\n",
      "    ----------\n",
      "    x : array_like\n",
      "        Array of sample data.\n",
      "    dist : {'norm', 'expon', 'logistic', 'gumbel', 'gumbel_l', 'gumbel_r', 'extreme1'}, optional\n",
      "        The type of distribution to test against.  The default is 'norm'.\n",
      "        The names 'extreme1', 'gumbel_l' and 'gumbel' are synonyms for the\n",
      "        same distribution.\n",
      "    \n",
      "    Returns\n",
      "    -------\n",
      "    result : AndersonResult\n",
      "        An object with the following attributes:\n",
      "    \n",
      "        statistic : float\n",
      "            The Anderson-Darling test statistic.\n",
      "        critical_values : list\n",
      "            The critical values for this distribution.\n",
      "        significance_level : list\n",
      "            The significance levels for the corresponding critical values\n",
      "            in percents.  The function returns critical values for a\n",
      "            differing set of significance levels depending on the\n",
      "            distribution that is being tested against.\n",
      "        fit_result : `~scipy.stats._result_classes.FitResult`\n",
      "            An object containing the results of fitting the distribution to\n",
      "            the data.\n",
      "    \n",
      "    See Also\n",
      "    --------\n",
      "    kstest : The Kolmogorov-Smirnov test for goodness-of-fit.\n",
      "    \n",
      "    Notes\n",
      "    -----\n",
      "    Critical values provided are for the following significance levels:\n",
      "    \n",
      "    normal/exponential\n",
      "        15%, 10%, 5%, 2.5%, 1%\n",
      "    logistic\n",
      "        25%, 10%, 5%, 2.5%, 1%, 0.5%\n",
      "    Gumbel\n",
      "        25%, 10%, 5%, 2.5%, 1%\n",
      "    \n",
      "    If the returned statistic is larger than these critical values then\n",
      "    for the corresponding significance level, the null hypothesis that\n",
      "    the data come from the chosen distribution can be rejected.\n",
      "    The returned statistic is referred to as 'A2' in the references.\n",
      "    \n",
      "    References\n",
      "    ----------\n",
      "    .. [1] https://www.itl.nist.gov/div898/handbook/prc/section2/prc213.htm\n",
      "    .. [2] Stephens, M. A. (1974). EDF Statistics for Goodness of Fit and\n",
      "           Some Comparisons, Journal of the American Statistical Association,\n",
      "           Vol. 69, pp. 730-737.\n",
      "    .. [3] Stephens, M. A. (1976). Asymptotic Results for Goodness-of-Fit\n",
      "           Statistics with Unknown Parameters, Annals of Statistics, Vol. 4,\n",
      "           pp. 357-369.\n",
      "    .. [4] Stephens, M. A. (1977). Goodness of Fit for the Extreme Value\n",
      "           Distribution, Biometrika, Vol. 64, pp. 583-588.\n",
      "    .. [5] Stephens, M. A. (1977). Goodness of Fit with Special Reference\n",
      "           to Tests for Exponentiality , Technical Report No. 262,\n",
      "           Department of Statistics, Stanford University, Stanford, CA.\n",
      "    .. [6] Stephens, M. A. (1979). Tests of Fit for the Logistic Distribution\n",
      "           Based on the Empirical Distribution Function, Biometrika, Vol. 66,\n",
      "           pp. 591-595.\n",
      "    \n",
      "    Examples\n",
      "    --------\n",
      "    Test the null hypothesis that a random sample was drawn from a normal\n",
      "    distribution (with unspecified mean and standard deviation).\n",
      "    \n",
      "    >>> import numpy as np\n",
      "    >>> from scipy.stats import anderson\n",
      "    >>> rng = np.random.default_rng()\n",
      "    >>> data = rng.random(size=35)\n",
      "    >>> res = anderson(data)\n",
      "    >>> res.statistic\n",
      "    0.8398018749744764\n",
      "    >>> res.critical_values\n",
      "    array([0.527, 0.6  , 0.719, 0.839, 0.998])\n",
      "    >>> res.significance_level\n",
      "    array([15. , 10. ,  5. ,  2.5,  1. ])\n",
      "    \n",
      "    The value of the statistic (barely) exceeds the critical value associated\n",
      "    with a significance level of 2.5%, so the null hypothesis may be rejected\n",
      "    at a significance level of 2.5%, but not at a significance level of 1%.\n",
      "\n"
     ]
    }
   ],
   "source": [
    "help(stats.anderson)"
   ]
  },
  {
   "cell_type": "markdown",
   "metadata": {},
   "source": [
    "## Estimating fat tails\n",
    "One of the important properties of a normal distribution is that we could use mean\n",
    "and standard deviation, the first two moments, to fully define the whole distribution.\n",
    "For n returns of a security, its first four moments are defined in equation (1). Things to pay attention to include the variance, standard deviation, skewness, and kurtosis. The kurtosis reflects the impact of extreme values because of its power of four. \n",
    "\n",
    "The following code outputs these four variables:\n"
   ]
  },
  {
   "cell_type": "code",
   "execution_count": 370,
   "metadata": {},
   "outputs": [
    {
     "name": "stdout",
     "output_type": "stream",
     "text": [
      "mean = 0.000822665171471418\n",
      "std = 0.9989895658655303\n",
      "skewness= 0.006299066118437377\n",
      "kurtosis= 0.0015439776051819898\n"
     ]
    }
   ],
   "source": [
    "import numpy as np\n",
    "from numpy import random\n",
    "np.random.seed(12345)\n",
    "ret = random.normal(0,1,500000)\n",
    "print('mean =', np.mean(ret))\n",
    "print('std =',np.std(ret))\n",
    "print('skewness=',stats.skew(ret))\n",
    "print('kurtosis=',stats.kurtosis(ret))\n",
    "import numpy as np"
   ]
  },
  {
   "cell_type": "markdown",
   "metadata": {},
   "source": [
    "The mean, skewness, and kurtosis are all close to zero, while the standard deviation\n",
    "is close to one. Next, we estimate the four moments for S&P500 based on its daily\n",
    "returns as follows:"
   ]
  },
  {
   "cell_type": "code",
   "execution_count": 371,
   "metadata": {},
   "outputs": [
    {
     "name": "stdout",
     "output_type": "stream",
     "text": [
      "[*********************100%***********************]  1 of 1 completed\n"
     ]
    }
   ],
   "source": [
    "ticker=\"^GSPC\"\n",
    "begdate=datetime.date(1926,1,1)\n",
    "enddate=datetime.date(2016,12,31)\n",
    "\n",
    "p = yf.download(ticker, start=begdate, end=enddate, rounding=True)\n",
    "ret = p['Close'].pct_change().dropna()"
   ]
  },
  {
   "cell_type": "code",
   "execution_count": 372,
   "metadata": {},
   "outputs": [
    {
     "name": "stdout",
     "output_type": "stream",
     "text": [
      "S&P500 n = 22354\n",
      "S&P500 mean = 0.0002882\n",
      "S&P500 std = 0.01195134\n",
      "S&P500 skewness= -0.08475558\n",
      "S&P500 kurtosis= 17.42919902\n"
     ]
    }
   ],
   "source": [
    "print( 'S&P500 n =',len(ret))\n",
    "print( 'S&P500 mean =',round(np.mean(ret),8))\n",
    "print('S&P500 std =',round(np.std(ret),8))\n",
    "print('S&P500 skewness=',round(stats.skew(ret),8))\n",
    "print('S&P500 kurtosis=',round(stats.kurtosis(ret),8))"
   ]
  },
  {
   "cell_type": "markdown",
   "metadata": {},
   "source": [
    "From this we can see that the SP500 index is skewed towards the left and leptokurtic (kurtosis > 3), ie fat tailed."
   ]
  },
  {
   "cell_type": "markdown",
   "metadata": {},
   "source": [
    "## T-test and F-test\n",
    "\n",
    "In finance, a T-test could be viewed as one of the most widely used statistical\n",
    "hypothesis tests in which the test statistic follows a student's t distribution if the null\n",
    "hypothesis is supported. We know that the mean for a standard normal distribution\n",
    "is zero. In the following program, we generate 1,000 random numbers from a\n",
    "standard normal distribution. Then, we conduct two tests: test whether the mean is\n",
    "0.5, and test whether the mean is zero:"
   ]
  },
  {
   "cell_type": "code",
   "execution_count": 373,
   "metadata": {},
   "outputs": [
    {
     "name": "stdout",
     "output_type": "stream",
     "text": [
      "T-value P-value (two-tail)\n",
      "TtestResult(statistic=-49.76347123142897, pvalue=0.0, df=9999)\n",
      "TtestResult(statistic=-0.26310321925083024, pvalue=0.7924764437516486, df=9999)\n"
     ]
    }
   ],
   "source": [
    "from scipy import stats\n",
    "import numpy as np\n",
    "\n",
    "np.random.seed(1235)\n",
    "x = stats.norm.rvs(size = 10000)\n",
    "print(\"T-value P-value (two-tail)\")\n",
    "print(stats.ttest_1samp(x,0.5))\n",
    "print(stats.ttest_1samp(x,0))"
   ]
  },
  {
   "cell_type": "markdown",
   "metadata": {},
   "source": [
    "For the first test, in which we test whether the time-series has a mean of 0.5, we reject\n",
    "the null hypothesis since the T-value is 49.76 and the P-value is 0. For the second test,\n",
    "we accept the null hypothesis since the T-value is close to -0.26 and the P-value is\n",
    "0.79. In the following program, we test whether the mean of the daily returns from\n",
    "IBM in 2013 is zero:"
   ]
  },
  {
   "cell_type": "code",
   "execution_count": 374,
   "metadata": {},
   "outputs": [
    {
     "name": "stdout",
     "output_type": "stream",
     "text": [
      "[*********************100%***********************]  1 of 1 completed\n",
      " Mean T-value P-value \n",
      "-0.00014 TtestResult(statistic=-0.1875560297924851, pvalue=0.8513774412281602, df=249)\n"
     ]
    }
   ],
   "source": [
    "ticker = \"IBM\"\n",
    "begdate = datetime.date(2013,1,1)\n",
    "enddate = datetime.date(2013,12,31)\n",
    "p = yf.download(ticker, start = begdate, end = enddate, rounding = True)\n",
    "ret = p['Close'].pct_change().dropna()\n",
    "\n",
    "print(' Mean T-value P-value ' )\n",
    "print(round(np.mean(ret),5), stats.ttest_1samp(ret,0))"
   ]
  },
  {
   "cell_type": "markdown",
   "metadata": {},
   "source": [
    "The T-value is -.18 and the p-value is 0.85 - indicating that our results are not different (statistically significantly) from the null hypothesis. Thus, we accept the null hypothesis, that is, the daily mean return is statistically the same as zero."
   ]
  },
  {
   "cell_type": "markdown",
   "metadata": {},
   "source": [
    "## Tests of equal variances\n",
    "\n",
    "Next, we test whether two variances for IBM and DELL are the same or not over a\n",
    "five-year period from 2012 to 2016. The function called sp.stats.bartlet() performs\n",
    "Bartlett's test for equal variances with a null hypothesis that all input samples are from\n",
    "populations with equal variances. The outputs are the T-value and P-value:"
   ]
  },
  {
   "cell_type": "code",
   "execution_count": 375,
   "metadata": {},
   "outputs": [
    {
     "name": "stdout",
     "output_type": "stream",
     "text": [
      "[*********************100%***********************]  1 of 1 completed\n",
      "[*********************100%***********************]  1 of 1 completed\n",
      "BartlettResult(statistic=16.59601967571595, pvalue=4.6247980495427416e-05)\n"
     ]
    }
   ],
   "source": [
    "begdate = datetime.date(2012,1,1)\n",
    "enddate = datetime.date(2016,12,31)\n",
    "\n",
    "def ret_f(ticker,begdate,enddate):\n",
    "    p = yf.download(ticker,start = begdate, end = enddate, rounding = True)\n",
    "    return p['Adj Close'].pct_change().dropna()\n",
    "\n",
    "y=ret_f('IBM',begdate,enddate)\n",
    "x=ret_f('DELL',begdate,enddate)\n",
    "print(sp.stats.bartlett(x,y))"
   ]
  },
  {
   "cell_type": "markdown",
   "metadata": {},
   "source": [
    "With a test statistic of 16.59 and a p-value extremely close to 0, we can conclude that these two stocks will have different variances for their daily stock returns from 2012 to 2015 for any significance level."
   ]
  },
  {
   "cell_type": "markdown",
   "metadata": {},
   "source": [
    "## Testing the January effect\n",
    "\n",
    "In this section, we use IBM's data to test the existence of the so-called January effect,\n",
    "which states that stock returns in January are statistically different from those in\n",
    "other months. First, we collect the daily price for IBM from Yahoo! Finance. Then, we\n",
    "convert daily returns to monthly ones. After that, we classify all monthly returns into\n",
    "two groups: returns in January versus returns in other months.\n",
    "\n",
    "Finally, we test the equality of group means as shown in the following code:"
   ]
  },
  {
   "cell_type": "code",
   "execution_count": 376,
   "metadata": {},
   "outputs": [
    {
     "name": "stdout",
     "output_type": "stream",
     "text": [
      "[*********************100%***********************]  1 of 1 completed\n"
     ]
    },
    {
     "data": {
      "text/html": [
       "<div>\n",
       "<style scoped>\n",
       "    .dataframe tbody tr th:only-of-type {\n",
       "        vertical-align: middle;\n",
       "    }\n",
       "\n",
       "    .dataframe tbody tr th {\n",
       "        vertical-align: top;\n",
       "    }\n",
       "\n",
       "    .dataframe thead th {\n",
       "        text-align: right;\n",
       "    }\n",
       "</style>\n",
       "<table border=\"1\" class=\"dataframe\">\n",
       "  <thead>\n",
       "    <tr style=\"text-align: right;\">\n",
       "      <th></th>\n",
       "      <th>Open</th>\n",
       "      <th>High</th>\n",
       "      <th>Low</th>\n",
       "      <th>Close</th>\n",
       "      <th>Adj Close</th>\n",
       "      <th>Volume</th>\n",
       "      <th>Log Return</th>\n",
       "    </tr>\n",
       "    <tr>\n",
       "      <th>Month</th>\n",
       "      <th></th>\n",
       "      <th></th>\n",
       "      <th></th>\n",
       "      <th></th>\n",
       "      <th></th>\n",
       "      <th></th>\n",
       "      <th></th>\n",
       "    </tr>\n",
       "  </thead>\n",
       "  <tbody>\n",
       "    <tr>\n",
       "      <th>1962-01</th>\n",
       "      <td>155.95</td>\n",
       "      <td>156.87</td>\n",
       "      <td>154.77</td>\n",
       "      <td>155.37</td>\n",
       "      <td>32.86</td>\n",
       "      <td>9264945</td>\n",
       "      <td>-0.053346</td>\n",
       "    </tr>\n",
       "    <tr>\n",
       "      <th>1962-02</th>\n",
       "      <td>132.41</td>\n",
       "      <td>133.03</td>\n",
       "      <td>131.78</td>\n",
       "      <td>132.26</td>\n",
       "      <td>27.96</td>\n",
       "      <td>6087720</td>\n",
       "      <td>-0.006873</td>\n",
       "    </tr>\n",
       "    <tr>\n",
       "      <th>1962-03</th>\n",
       "      <td>153.52</td>\n",
       "      <td>154.02</td>\n",
       "      <td>152.95</td>\n",
       "      <td>153.40</td>\n",
       "      <td>32.44</td>\n",
       "      <td>5687625</td>\n",
       "      <td>-0.006920</td>\n",
       "    </tr>\n",
       "    <tr>\n",
       "      <th>1962-04</th>\n",
       "      <td>131.59</td>\n",
       "      <td>132.38</td>\n",
       "      <td>129.80</td>\n",
       "      <td>130.56</td>\n",
       "      <td>27.62</td>\n",
       "      <td>13516935</td>\n",
       "      <td>-0.165792</td>\n",
       "    </tr>\n",
       "    <tr>\n",
       "      <th>1962-05</th>\n",
       "      <td>124.45</td>\n",
       "      <td>126.30</td>\n",
       "      <td>121.77</td>\n",
       "      <td>123.45</td>\n",
       "      <td>26.10</td>\n",
       "      <td>51659325</td>\n",
       "      <td>-0.140582</td>\n",
       "    </tr>\n",
       "    <tr>\n",
       "      <th>...</th>\n",
       "      <td>...</td>\n",
       "      <td>...</td>\n",
       "      <td>...</td>\n",
       "      <td>...</td>\n",
       "      <td>...</td>\n",
       "      <td>...</td>\n",
       "      <td>...</td>\n",
       "    </tr>\n",
       "    <tr>\n",
       "      <th>2016-08</th>\n",
       "      <td>3537.34</td>\n",
       "      <td>3553.86</td>\n",
       "      <td>3520.42</td>\n",
       "      <td>3535.17</td>\n",
       "      <td>2500.72</td>\n",
       "      <td>72912999</td>\n",
       "      <td>-0.002227</td>\n",
       "    </tr>\n",
       "    <tr>\n",
       "      <th>2016-09</th>\n",
       "      <td>3150.58</td>\n",
       "      <td>3176.76</td>\n",
       "      <td>3129.50</td>\n",
       "      <td>3150.43</td>\n",
       "      <td>2232.71</td>\n",
       "      <td>73154103</td>\n",
       "      <td>-0.000186</td>\n",
       "    </tr>\n",
       "    <tr>\n",
       "      <th>2016-10</th>\n",
       "      <td>3090.14</td>\n",
       "      <td>3108.85</td>\n",
       "      <td>3070.05</td>\n",
       "      <td>3086.77</td>\n",
       "      <td>2187.63</td>\n",
       "      <td>81930251</td>\n",
       "      <td>-0.033059</td>\n",
       "    </tr>\n",
       "    <tr>\n",
       "      <th>2016-11</th>\n",
       "      <td>3178.94</td>\n",
       "      <td>3203.03</td>\n",
       "      <td>3161.14</td>\n",
       "      <td>3187.31</td>\n",
       "      <td>2274.64</td>\n",
       "      <td>79850384</td>\n",
       "      <td>0.063079</td>\n",
       "    </tr>\n",
       "    <tr>\n",
       "      <th>2016-12</th>\n",
       "      <td>3319.32</td>\n",
       "      <td>3342.73</td>\n",
       "      <td>3299.76</td>\n",
       "      <td>3322.22</td>\n",
       "      <td>2375.83</td>\n",
       "      <td>72666039</td>\n",
       "      <td>0.022908</td>\n",
       "    </tr>\n",
       "  </tbody>\n",
       "</table>\n",
       "<p>660 rows × 7 columns</p>\n",
       "</div>"
      ],
      "text/plain": [
       "            Open     High      Low    Close  Adj Close    Volume  Log Return\n",
       "Month                                                                       \n",
       "1962-01   155.95   156.87   154.77   155.37      32.86   9264945   -0.053346\n",
       "1962-02   132.41   133.03   131.78   132.26      27.96   6087720   -0.006873\n",
       "1962-03   153.52   154.02   152.95   153.40      32.44   5687625   -0.006920\n",
       "1962-04   131.59   132.38   129.80   130.56      27.62  13516935   -0.165792\n",
       "1962-05   124.45   126.30   121.77   123.45      26.10  51659325   -0.140582\n",
       "...          ...      ...      ...      ...        ...       ...         ...\n",
       "2016-08  3537.34  3553.86  3520.42  3535.17    2500.72  72912999   -0.002227\n",
       "2016-09  3150.58  3176.76  3129.50  3150.43    2232.71  73154103   -0.000186\n",
       "2016-10  3090.14  3108.85  3070.05  3086.77    2187.63  81930251   -0.033059\n",
       "2016-11  3178.94  3203.03  3161.14  3187.31    2274.64  79850384    0.063079\n",
       "2016-12  3319.32  3342.73  3299.76  3322.22    2375.83  72666039    0.022908\n",
       "\n",
       "[660 rows x 7 columns]"
      ]
     },
     "execution_count": 376,
     "metadata": {},
     "output_type": "execute_result"
    }
   ],
   "source": [
    "import pandas as pd\n",
    "begdate=datetime.date(1962,1,1)\n",
    "enddate=datetime.date(2016,12,31)\n",
    "\n",
    "x = yf.download(ticker, start = begdate, end = enddate, rounding = True)\n",
    "logret = pd.DataFrame(np.log(1+ x['Adj Close'].pct_change()))\n",
    "logret = logret.rename(columns={'Adj Close':'Log Return'})\n",
    "results = pd.merge(x,logret,left_index=True,right_index=True)\n",
    "results['Month'] = results.index.strftime('%Y-%m')\n",
    "\n",
    "retM=results.groupby(results['Month']).sum()\n",
    "retM\n"
   ]
  },
  {
   "cell_type": "code",
   "execution_count": 377,
   "metadata": {},
   "outputs": [
    {
     "data": {
      "text/html": [
       "<div>\n",
       "<style scoped>\n",
       "    .dataframe tbody tr th:only-of-type {\n",
       "        vertical-align: middle;\n",
       "    }\n",
       "\n",
       "    .dataframe tbody tr th {\n",
       "        vertical-align: top;\n",
       "    }\n",
       "\n",
       "    .dataframe thead th {\n",
       "        text-align: right;\n",
       "    }\n",
       "</style>\n",
       "<table border=\"1\" class=\"dataframe\">\n",
       "  <thead>\n",
       "    <tr style=\"text-align: right;\">\n",
       "      <th></th>\n",
       "      <th>Open</th>\n",
       "      <th>High</th>\n",
       "      <th>Low</th>\n",
       "      <th>Close</th>\n",
       "      <th>Adj Close</th>\n",
       "      <th>Volume</th>\n",
       "      <th>Log Return</th>\n",
       "    </tr>\n",
       "    <tr>\n",
       "      <th>Month</th>\n",
       "      <th></th>\n",
       "      <th></th>\n",
       "      <th></th>\n",
       "      <th></th>\n",
       "      <th></th>\n",
       "      <th></th>\n",
       "      <th></th>\n",
       "    </tr>\n",
       "  </thead>\n",
       "  <tbody>\n",
       "    <tr>\n",
       "      <th>1962-01-01</th>\n",
       "      <td>155.95</td>\n",
       "      <td>156.87</td>\n",
       "      <td>154.77</td>\n",
       "      <td>155.37</td>\n",
       "      <td>32.86</td>\n",
       "      <td>9264945</td>\n",
       "      <td>-0.053346</td>\n",
       "    </tr>\n",
       "    <tr>\n",
       "      <th>1962-02-01</th>\n",
       "      <td>132.41</td>\n",
       "      <td>133.03</td>\n",
       "      <td>131.78</td>\n",
       "      <td>132.26</td>\n",
       "      <td>27.96</td>\n",
       "      <td>6087720</td>\n",
       "      <td>-0.006873</td>\n",
       "    </tr>\n",
       "    <tr>\n",
       "      <th>1962-03-01</th>\n",
       "      <td>153.52</td>\n",
       "      <td>154.02</td>\n",
       "      <td>152.95</td>\n",
       "      <td>153.40</td>\n",
       "      <td>32.44</td>\n",
       "      <td>5687625</td>\n",
       "      <td>-0.006920</td>\n",
       "    </tr>\n",
       "    <tr>\n",
       "      <th>1962-04-01</th>\n",
       "      <td>131.59</td>\n",
       "      <td>132.38</td>\n",
       "      <td>129.80</td>\n",
       "      <td>130.56</td>\n",
       "      <td>27.62</td>\n",
       "      <td>13516935</td>\n",
       "      <td>-0.165792</td>\n",
       "    </tr>\n",
       "    <tr>\n",
       "      <th>1962-05-01</th>\n",
       "      <td>124.45</td>\n",
       "      <td>126.30</td>\n",
       "      <td>121.77</td>\n",
       "      <td>123.45</td>\n",
       "      <td>26.10</td>\n",
       "      <td>51659325</td>\n",
       "      <td>-0.140582</td>\n",
       "    </tr>\n",
       "    <tr>\n",
       "      <th>...</th>\n",
       "      <td>...</td>\n",
       "      <td>...</td>\n",
       "      <td>...</td>\n",
       "      <td>...</td>\n",
       "      <td>...</td>\n",
       "      <td>...</td>\n",
       "      <td>...</td>\n",
       "    </tr>\n",
       "    <tr>\n",
       "      <th>2016-08-01</th>\n",
       "      <td>3537.34</td>\n",
       "      <td>3553.86</td>\n",
       "      <td>3520.42</td>\n",
       "      <td>3535.17</td>\n",
       "      <td>2500.72</td>\n",
       "      <td>72912999</td>\n",
       "      <td>-0.002227</td>\n",
       "    </tr>\n",
       "    <tr>\n",
       "      <th>2016-09-01</th>\n",
       "      <td>3150.58</td>\n",
       "      <td>3176.76</td>\n",
       "      <td>3129.50</td>\n",
       "      <td>3150.43</td>\n",
       "      <td>2232.71</td>\n",
       "      <td>73154103</td>\n",
       "      <td>-0.000186</td>\n",
       "    </tr>\n",
       "    <tr>\n",
       "      <th>2016-10-01</th>\n",
       "      <td>3090.14</td>\n",
       "      <td>3108.85</td>\n",
       "      <td>3070.05</td>\n",
       "      <td>3086.77</td>\n",
       "      <td>2187.63</td>\n",
       "      <td>81930251</td>\n",
       "      <td>-0.033059</td>\n",
       "    </tr>\n",
       "    <tr>\n",
       "      <th>2016-11-01</th>\n",
       "      <td>3178.94</td>\n",
       "      <td>3203.03</td>\n",
       "      <td>3161.14</td>\n",
       "      <td>3187.31</td>\n",
       "      <td>2274.64</td>\n",
       "      <td>79850384</td>\n",
       "      <td>0.063079</td>\n",
       "    </tr>\n",
       "    <tr>\n",
       "      <th>2016-12-01</th>\n",
       "      <td>3319.32</td>\n",
       "      <td>3342.73</td>\n",
       "      <td>3299.76</td>\n",
       "      <td>3322.22</td>\n",
       "      <td>2375.83</td>\n",
       "      <td>72666039</td>\n",
       "      <td>0.022908</td>\n",
       "    </tr>\n",
       "  </tbody>\n",
       "</table>\n",
       "<p>660 rows × 7 columns</p>\n",
       "</div>"
      ],
      "text/plain": [
       "               Open     High      Low    Close  Adj Close    Volume  \\\n",
       "Month                                                                 \n",
       "1962-01-01   155.95   156.87   154.77   155.37      32.86   9264945   \n",
       "1962-02-01   132.41   133.03   131.78   132.26      27.96   6087720   \n",
       "1962-03-01   153.52   154.02   152.95   153.40      32.44   5687625   \n",
       "1962-04-01   131.59   132.38   129.80   130.56      27.62  13516935   \n",
       "1962-05-01   124.45   126.30   121.77   123.45      26.10  51659325   \n",
       "...             ...      ...      ...      ...        ...       ...   \n",
       "2016-08-01  3537.34  3553.86  3520.42  3535.17    2500.72  72912999   \n",
       "2016-09-01  3150.58  3176.76  3129.50  3150.43    2232.71  73154103   \n",
       "2016-10-01  3090.14  3108.85  3070.05  3086.77    2187.63  81930251   \n",
       "2016-11-01  3178.94  3203.03  3161.14  3187.31    2274.64  79850384   \n",
       "2016-12-01  3319.32  3342.73  3299.76  3322.22    2375.83  72666039   \n",
       "\n",
       "            Log Return  \n",
       "Month                   \n",
       "1962-01-01   -0.053346  \n",
       "1962-02-01   -0.006873  \n",
       "1962-03-01   -0.006920  \n",
       "1962-04-01   -0.165792  \n",
       "1962-05-01   -0.140582  \n",
       "...                ...  \n",
       "2016-08-01   -0.002227  \n",
       "2016-09-01   -0.000186  \n",
       "2016-10-01   -0.033059  \n",
       "2016-11-01    0.063079  \n",
       "2016-12-01    0.022908  \n",
       "\n",
       "[660 rows x 7 columns]"
      ]
     },
     "execution_count": 377,
     "metadata": {},
     "output_type": "execute_result"
    }
   ],
   "source": [
    "retM.index = pd.to_datetime(retM.index)\n",
    "retM"
   ]
  },
  {
   "cell_type": "code",
   "execution_count": 378,
   "metadata": {},
   "outputs": [
    {
     "data": {
      "text/html": [
       "<div>\n",
       "<style scoped>\n",
       "    .dataframe tbody tr th:only-of-type {\n",
       "        vertical-align: middle;\n",
       "    }\n",
       "\n",
       "    .dataframe tbody tr th {\n",
       "        vertical-align: top;\n",
       "    }\n",
       "\n",
       "    .dataframe thead th {\n",
       "        text-align: right;\n",
       "    }\n",
       "</style>\n",
       "<table border=\"1\" class=\"dataframe\">\n",
       "  <thead>\n",
       "    <tr style=\"text-align: right;\">\n",
       "      <th></th>\n",
       "      <th>Open</th>\n",
       "      <th>High</th>\n",
       "      <th>Low</th>\n",
       "      <th>Close</th>\n",
       "      <th>Adj Close</th>\n",
       "      <th>Volume</th>\n",
       "      <th>Log Return</th>\n",
       "    </tr>\n",
       "    <tr>\n",
       "      <th>Month</th>\n",
       "      <th></th>\n",
       "      <th></th>\n",
       "      <th></th>\n",
       "      <th></th>\n",
       "      <th></th>\n",
       "      <th></th>\n",
       "      <th></th>\n",
       "    </tr>\n",
       "  </thead>\n",
       "  <tbody>\n",
       "    <tr>\n",
       "      <th>1962-01-01</th>\n",
       "      <td>155.95</td>\n",
       "      <td>156.87</td>\n",
       "      <td>154.77</td>\n",
       "      <td>155.37</td>\n",
       "      <td>32.86</td>\n",
       "      <td>9264945</td>\n",
       "      <td>-0.053346</td>\n",
       "    </tr>\n",
       "    <tr>\n",
       "      <th>1963-01-01</th>\n",
       "      <td>114.69</td>\n",
       "      <td>115.66</td>\n",
       "      <td>114.16</td>\n",
       "      <td>115.03</td>\n",
       "      <td>24.35</td>\n",
       "      <td>29920830</td>\n",
       "      <td>0.082238</td>\n",
       "    </tr>\n",
       "    <tr>\n",
       "      <th>1964-01-01</th>\n",
       "      <td>149.72</td>\n",
       "      <td>151.65</td>\n",
       "      <td>148.85</td>\n",
       "      <td>149.92</td>\n",
       "      <td>31.73</td>\n",
       "      <td>23401635</td>\n",
       "      <td>0.063626</td>\n",
       "    </tr>\n",
       "    <tr>\n",
       "      <th>1965-01-01</th>\n",
       "      <td>137.27</td>\n",
       "      <td>138.14</td>\n",
       "      <td>136.85</td>\n",
       "      <td>137.76</td>\n",
       "      <td>29.24</td>\n",
       "      <td>11842812</td>\n",
       "      <td>0.096627</td>\n",
       "    </tr>\n",
       "    <tr>\n",
       "      <th>1966-01-01</th>\n",
       "      <td>165.67</td>\n",
       "      <td>166.70</td>\n",
       "      <td>164.65</td>\n",
       "      <td>165.58</td>\n",
       "      <td>35.17</td>\n",
       "      <td>13254912</td>\n",
       "      <td>-0.005935</td>\n",
       "    </tr>\n",
       "  </tbody>\n",
       "</table>\n",
       "</div>"
      ],
      "text/plain": [
       "              Open    High     Low   Close  Adj Close    Volume  Log Return\n",
       "Month                                                                      \n",
       "1962-01-01  155.95  156.87  154.77  155.37      32.86   9264945   -0.053346\n",
       "1963-01-01  114.69  115.66  114.16  115.03      24.35  29920830    0.082238\n",
       "1964-01-01  149.72  151.65  148.85  149.92      31.73  23401635    0.063626\n",
       "1965-01-01  137.27  138.14  136.85  137.76      29.24  11842812    0.096627\n",
       "1966-01-01  165.67  166.70  164.65  165.58      35.17  13254912   -0.005935"
      ]
     },
     "execution_count": 378,
     "metadata": {},
     "output_type": "execute_result"
    }
   ],
   "source": [
    "ret_Jan=retM[retM.index.month==1]\n",
    "ret_others=retM[retM.index.month!=1]\n",
    "ret_Jan.head()"
   ]
  },
  {
   "cell_type": "code",
   "execution_count": 379,
   "metadata": {},
   "outputs": [
    {
     "data": {
      "text/html": [
       "<div>\n",
       "<style scoped>\n",
       "    .dataframe tbody tr th:only-of-type {\n",
       "        vertical-align: middle;\n",
       "    }\n",
       "\n",
       "    .dataframe tbody tr th {\n",
       "        vertical-align: top;\n",
       "    }\n",
       "\n",
       "    .dataframe thead th {\n",
       "        text-align: right;\n",
       "    }\n",
       "</style>\n",
       "<table border=\"1\" class=\"dataframe\">\n",
       "  <thead>\n",
       "    <tr style=\"text-align: right;\">\n",
       "      <th></th>\n",
       "      <th>Open</th>\n",
       "      <th>High</th>\n",
       "      <th>Low</th>\n",
       "      <th>Close</th>\n",
       "      <th>Adj Close</th>\n",
       "      <th>Volume</th>\n",
       "      <th>Log Return</th>\n",
       "    </tr>\n",
       "    <tr>\n",
       "      <th>Month</th>\n",
       "      <th></th>\n",
       "      <th></th>\n",
       "      <th></th>\n",
       "      <th></th>\n",
       "      <th></th>\n",
       "      <th></th>\n",
       "      <th></th>\n",
       "    </tr>\n",
       "  </thead>\n",
       "  <tbody>\n",
       "    <tr>\n",
       "      <th>1962-02-01</th>\n",
       "      <td>132.41</td>\n",
       "      <td>133.03</td>\n",
       "      <td>131.78</td>\n",
       "      <td>132.26</td>\n",
       "      <td>27.96</td>\n",
       "      <td>6087720</td>\n",
       "      <td>-0.006873</td>\n",
       "    </tr>\n",
       "    <tr>\n",
       "      <th>1962-03-01</th>\n",
       "      <td>153.52</td>\n",
       "      <td>154.02</td>\n",
       "      <td>152.95</td>\n",
       "      <td>153.40</td>\n",
       "      <td>32.44</td>\n",
       "      <td>5687625</td>\n",
       "      <td>-0.006920</td>\n",
       "    </tr>\n",
       "    <tr>\n",
       "      <th>1962-04-01</th>\n",
       "      <td>131.59</td>\n",
       "      <td>132.38</td>\n",
       "      <td>129.80</td>\n",
       "      <td>130.56</td>\n",
       "      <td>27.62</td>\n",
       "      <td>13516935</td>\n",
       "      <td>-0.165792</td>\n",
       "    </tr>\n",
       "    <tr>\n",
       "      <th>1962-05-01</th>\n",
       "      <td>124.45</td>\n",
       "      <td>126.30</td>\n",
       "      <td>121.77</td>\n",
       "      <td>123.45</td>\n",
       "      <td>26.10</td>\n",
       "      <td>51659325</td>\n",
       "      <td>-0.140582</td>\n",
       "    </tr>\n",
       "    <tr>\n",
       "      <th>1962-06-01</th>\n",
       "      <td>91.94</td>\n",
       "      <td>93.99</td>\n",
       "      <td>89.73</td>\n",
       "      <td>91.38</td>\n",
       "      <td>19.34</td>\n",
       "      <td>71679765</td>\n",
       "      <td>-0.152580</td>\n",
       "    </tr>\n",
       "  </tbody>\n",
       "</table>\n",
       "</div>"
      ],
      "text/plain": [
       "              Open    High     Low   Close  Adj Close    Volume  Log Return\n",
       "Month                                                                      \n",
       "1962-02-01  132.41  133.03  131.78  132.26      27.96   6087720   -0.006873\n",
       "1962-03-01  153.52  154.02  152.95  153.40      32.44   5687625   -0.006920\n",
       "1962-04-01  131.59  132.38  129.80  130.56      27.62  13516935   -0.165792\n",
       "1962-05-01  124.45  126.30  121.77  123.45      26.10  51659325   -0.140582\n",
       "1962-06-01   91.94   93.99   89.73   91.38      19.34  71679765   -0.152580"
      ]
     },
     "execution_count": 379,
     "metadata": {},
     "output_type": "execute_result"
    }
   ],
   "source": [
    "ret_others.head()"
   ]
  },
  {
   "cell_type": "code",
   "execution_count": 380,
   "metadata": {},
   "outputs": [
    {
     "name": "stdout",
     "output_type": "stream",
     "text": [
      "Ttest_indResult(statistic=1.9748712016606744, pvalue=0.048700378446643794)\n"
     ]
    }
   ],
   "source": [
    "print(sp.stats.ttest_ind(ret_Jan['Log Return'],ret_others['Log Return'])) "
   ]
  },
  {
   "cell_type": "markdown",
   "metadata": {},
   "source": [
    "Since the T-statistic is 1.97 and the p-value is < 0.05, at a 5% significance level we can conclude there is a January effect for the IBM stock in the given time interval. That said, at any higher significance level this would not be conclusive.  A word\n",
    "of caution: we should not generalize this result since it is based on just one stock. In terms of the weekday effect, we could apply the same procedure to test its existence. One end of chapter problems is designed to test the weekday effect based on the\n",
    "same logic."
   ]
  },
  {
   "cell_type": "markdown",
   "metadata": {},
   "source": [
    "## 52-week high and low trading strategy\n",
    "\n",
    "Some investors/researchers argue that we could adopt a 52-week high and low\n",
    "trading strategy by taking a long position if today's price is close to the maximum\n",
    "price achieved in the past 52 weeks and taking an opposite position if today's price is\n",
    "close to its 52-week low. Let's randomly choose a day of 12/31/2016. The following\n",
    "Python program presents this 52-week's range and today's position:"
   ]
  },
  {
   "cell_type": "code",
   "execution_count": 408,
   "metadata": {},
   "outputs": [
    {
     "name": "stdout",
     "output_type": "stream",
     "text": [
      "[*********************100%***********************]  1 of 1 completed\n",
      " Today, Price High Low, % from low \n",
      "2023-10-02 137.96 163.22 117.12 45.21\n"
     ]
    }
   ],
   "source": [
    "import numpy as np\n",
    "from dateutil.relativedelta import relativedelta\n",
    "#\n",
    "ticker='IBM'\n",
    "enddate= datetime.date(2023,12,31)\n",
    "#\n",
    "begdate=enddate-relativedelta(years=1)\n",
    "today = '2023-10-02'\n",
    "\n",
    "p =yf.download(ticker, start=begdate, end=enddate,rounding=True)\n",
    "high= max(p['Adj Close'])\n",
    "low=min(p['Adj Close'])\n",
    "print(\" Today, Price High Low, % from low \")\n",
    "\n",
    "\n",
    "print(today, p[p.index == today]['Adj Close'].item(), high, low, round((p[p.index == today]['Adj Close'].item()-low)/(high-low)*100,2))"
   ]
  },
  {
   "cell_type": "markdown",
   "metadata": {},
   "source": [
    "According to the 52-week high and low trading strategy, we have more incentive\n",
    "to buy IBM's stock today. This example is just an illustration on how to make a\n",
    "decision. There is nothing done to test whether this is a profitable trading strategy. If\n",
    "a reader is interested in testing this 52-week high and low trading strategy, he/she\n",
    "should use all stocks to form two portfolios. For more details, see George and\n",
    "Huang (2004)."
   ]
  },
  {
   "cell_type": "markdown",
   "metadata": {},
   "source": [
    "## Estimating Roll's spread\n",
    "\n",
    "Liquidity is defined as how quickly we can dispose of our asset without losing its\n",
    "intrinsic value. Usually, we use spread to represent liquidity. However, we need\n",
    "high-frequency data to estimate spread. Later in the chapter, we show how to\n",
    "estimate spread directly by using high-frequency data. To measure spread indirectly\n",
    "based on daily observations, Roll (1984) shows that we can estimate it based on the\n",
    "serial covariance in price changes, as follows...\n",
    "\n",
    "Here, S is the Roll spread, Pt is the closing price of a stock on day, is Pt-Pt-1, and ,\n",
    "t is the average share price in the estimation period. The following Python code\n",
    "estimates Roll's spread for IBM, using one year's daily price data from Yahoo! Finance:"
   ]
  },
  {
   "cell_type": "code",
   "execution_count": 414,
   "metadata": {},
   "outputs": [
    {
     "name": "stdout",
     "output_type": "stream",
     "text": [
      "[*********************100%***********************]  1 of 1 completed\n",
      "Roll spread for  IBM is 0.726\n"
     ]
    }
   ],
   "source": [
    "import scipy as sp\n",
    "ticker='IBM'\n",
    "begdate=datetime.date(2013,9,1)\n",
    "enddate=datetime.date(2013,11,11)\n",
    "data= yf.download(ticker, start = begdate, end = enddate, rounding = True)\n",
    "p= data['Adj Close']\n",
    "d= np.diff(p)\n",
    "d\n",
    "\n",
    "cov_=np.cov(d[:-1],d[1:])\n",
    "if cov_[0,1]<0:\n",
    "    print(\"Roll spread for \", ticker, 'is', round(2*np.sqrt(-cov_[0,1]),3))\n",
    "else:\n",
    "    print(\"Cov is positive for \",ticker, 'positive', round(cov_[0,1],3))"
   ]
  },
  {
   "cell_type": "code",
   "execution_count": 417,
   "metadata": {},
   "outputs": [
    {
     "data": {
      "text/plain": [
       "array([[ 2.58185828, -0.13189662],\n",
       "       [-0.13189662,  2.57673469]])"
      ]
     },
     "execution_count": 417,
     "metadata": {},
     "output_type": "execute_result"
    }
   ],
   "source": [
    "cov_"
   ]
  },
  {
   "cell_type": "markdown",
   "metadata": {},
   "source": [
    "The covariance between them is negative. When its value is positive, Roll's model\n",
    "would fail. In a real world, it could occur for many cases. Usually, practitioners\n",
    "adopt two approaches: when the spread is negative, we just ignore those cases or use\n",
    "other methods to estimate spread. The second approach is to add a negative sign in\n",
    "front of a positive covariance."
   ]
  },
  {
   "cell_type": "markdown",
   "metadata": {},
   "source": [
    "## Estimating Amihud's illiquidity\n",
    "\n",
    "According to Amihud (2002), liquidity reflects the impact of order flow on price. Here, illiq(t) is the Amihud's illiquidity measure for month t, Ri is the daily return at day i, Pi is the closing price at i, and Vi is the daily dollar trading volume at i. Since\n",
    "the illiquidity is the reciprocal of liquidity, the lower the illiquidity value, the higher\n",
    "the liquidity of the underlying security. "
   ]
  },
  {
   "cell_type": "markdown",
   "metadata": {},
   "source": [
    "In the following code, we estimate Amihud's illiquidity for IBM based on trading\n",
    "data in October 2013. The value is 1.21*10-11. It seems that this value is quite small.\n",
    "Actually, the absolute value is not important; the relative value matters."
   ]
  },
  {
   "cell_type": "code",
   "execution_count": 434,
   "metadata": {},
   "outputs": [
    {
     "name": "stdout",
     "output_type": "stream",
     "text": [
      "[*********************100%***********************]  1 of 1 completed\n",
      "[-0.00768223 -0.00597172  0.00131556 -0.011533   -0.01843151  0.01433788\n",
      "  0.01870139  0.00745945  0.00431816 -0.01250437  0.01106883 -0.06807056\n",
      " -0.00603977 -0.00532461  0.01208933  0.00459306  0.01135228 -0.00529535\n",
      "  0.00282229  0.0261548 ]\n",
      "Aminud illiq for = IBM 1.7908254141425208e-11\n",
      "[*********************100%***********************]  1 of 1 completed\n",
      "[-0.00768223 -0.00597172  0.00131556 -0.011533   -0.01843151  0.01433788\n",
      "  0.01870139  0.00745945  0.00431816 -0.01250437  0.01106883 -0.06807056\n",
      " -0.00603977 -0.00532461  0.01208933  0.00459306  0.01135228 -0.00529535\n",
      "  0.00282229  0.0261548 ]\n",
      "Aminud illiq for = WMT 1.6794931630342896e-11\n"
     ]
    }
   ],
   "source": [
    "import numpy as np\n",
    "import statsmodels.api as sm\n",
    "begdate=datetime.date(2013,10,1)\n",
    "enddate=datetime.date(2013,10,30)\n",
    "\n",
    "stock='IBM'\n",
    "stock2 = 'WMT'\n",
    "\n",
    "def Illiq(ticker):\n",
    "    data= yf.download(ticker, start =begdate, end =enddate, rounding = True)\n",
    "    dollar_vol=np.array(data['Volume']*p) \n",
    "    ret=np.array((p[1:] - p[:-1])/p[1:])\n",
    "    illiq= np.mean(np.divide(abs(ret),dollar_vol[1:])) \n",
    "    print(\"Aminud illiq for =\",ticker,illiq)\n",
    "\n",
    "Illiq(stock)\n",
    "Illiq(stock2)"
   ]
  },
  {
   "cell_type": "markdown",
   "metadata": {},
   "source": [
    "We can see here that IBM is more liquid than WMT, at least according to data from yahoo. WE are using close data, not adjusted close."
   ]
  },
  {
   "cell_type": "markdown",
   "metadata": {},
   "source": [
    "## Estimating Pastor and Stambaugh (2003) liquidity measure\n",
    "\n",
    "Based on the methodology and empirical evidence in Campbell, Grossman, and\n",
    "Wang (1993), Pastor and Stambaugh (2003) designed the following model to measure\n",
    "individual stock's liquidity and the market liquidity.\n",
    "\n",
    "Here, yt is the excess stock return, Rt-Rf , t, on day t, Rt is the return for the stock, Rf,t is\n",
    "the risk-free rate, x1,t is the market return, and x2,t is the signed dollar trading volume:"
   ]
  },
  {
   "cell_type": "markdown",
   "metadata": {},
   "source": [
    "pt is the stock price, and volume, t is the trading volume. The regression is run based\n",
    "on daily data for each month. In other words, for each month, we get one β2 that is\n",
    "defined as the liquidity measure for individual stock. The following code estimates\n",
    "the liquidity for IBM. First, we download the IBM and S&P500 daily price data,\n",
    "estimate their daily returns, and merge them as follows:"
   ]
  },
  {
   "cell_type": "code",
   "execution_count": 490,
   "metadata": {},
   "outputs": [
    {
     "name": "stdout",
     "output_type": "stream",
     "text": [
      "[*********************100%***********************]  1 of 1 completed\n"
     ]
    }
   ],
   "source": [
    "import pandas as pd\n",
    "import statsmodels.api as sm\n",
    "ticker='IBM'\n",
    "begdate=datetime.date(2013,1,1)\n",
    "enddate=datetime.date(2013,1,31) \n",
    "\n",
    "data =yf.download(ticker, start = begdate, end = enddate , rounding = True)\n",
    "ret = data['Close'].pct_change()\n",
    "dollar_vol= data['Close']*data['Volume']\n",
    "\n",
    "tt=pd.DataFrame(ret)\n",
    "tt2=pd.DataFrame(dollar_vol)\n",
    "\n",
    "tt = tt.rename(columns={'Close':\"Return\"})\n",
    "tt2 = tt2.rename(columns={0:\"Dollar Volume\"})\n",
    "\n",
    "tt3=pd.merge(tt,tt2,left_index=True,right_index=True) \n",
    "final=pd.merge(tt3,f3factor,left_index=True,right_index=True)\n",
    "final = final.dropna()\n",
    "\n"
   ]
  },
  {
   "cell_type": "code",
   "execution_count": 494,
   "metadata": {},
   "outputs": [
    {
     "data": {
      "text/html": [
       "<div>\n",
       "<style scoped>\n",
       "    .dataframe tbody tr th:only-of-type {\n",
       "        vertical-align: middle;\n",
       "    }\n",
       "\n",
       "    .dataframe tbody tr th {\n",
       "        vertical-align: top;\n",
       "    }\n",
       "\n",
       "    .dataframe thead th {\n",
       "        text-align: right;\n",
       "    }\n",
       "</style>\n",
       "<table border=\"1\" class=\"dataframe\">\n",
       "  <thead>\n",
       "    <tr style=\"text-align: right;\">\n",
       "      <th></th>\n",
       "      <th>Return</th>\n",
       "      <th>Dollar Volume</th>\n",
       "      <th>Mkt-RF</th>\n",
       "      <th>SMB</th>\n",
       "      <th>HML</th>\n",
       "      <th>RF</th>\n",
       "    </tr>\n",
       "    <tr>\n",
       "      <th>Date</th>\n",
       "      <th></th>\n",
       "      <th></th>\n",
       "      <th></th>\n",
       "      <th></th>\n",
       "      <th></th>\n",
       "      <th></th>\n",
       "    </tr>\n",
       "  </thead>\n",
       "  <tbody>\n",
       "    <tr>\n",
       "      <th>2013-01-24</th>\n",
       "      <td>-0.001482</td>\n",
       "      <td>9.090956e+08</td>\n",
       "      <td>0.09</td>\n",
       "      <td>0.29</td>\n",
       "      <td>0.04</td>\n",
       "      <td>0.0</td>\n",
       "    </tr>\n",
       "    <tr>\n",
       "      <th>2013-01-25</th>\n",
       "      <td>0.002712</td>\n",
       "      <td>6.884876e+08</td>\n",
       "      <td>0.59</td>\n",
       "      <td>-0.14</td>\n",
       "      <td>-0.32</td>\n",
       "      <td>0.0</td>\n",
       "    </tr>\n",
       "    <tr>\n",
       "      <th>2013-01-28</th>\n",
       "      <td>-0.000204</td>\n",
       "      <td>5.786674e+08</td>\n",
       "      <td>-0.14</td>\n",
       "      <td>0.41</td>\n",
       "      <td>0.15</td>\n",
       "      <td>0.0</td>\n",
       "    </tr>\n",
       "    <tr>\n",
       "      <th>2013-01-29</th>\n",
       "      <td>-0.005053</td>\n",
       "      <td>7.375151e+08</td>\n",
       "      <td>0.36</td>\n",
       "      <td>-0.44</td>\n",
       "      <td>0.31</td>\n",
       "      <td>0.0</td>\n",
       "    </tr>\n",
       "    <tr>\n",
       "      <th>2013-01-30</th>\n",
       "      <td>-0.001847</td>\n",
       "      <td>6.102349e+08</td>\n",
       "      <td>-0.38</td>\n",
       "      <td>-0.84</td>\n",
       "      <td>0.16</td>\n",
       "      <td>0.0</td>\n",
       "    </tr>\n",
       "  </tbody>\n",
       "</table>\n",
       "</div>"
      ],
      "text/plain": [
       "              Return  Dollar Volume  Mkt-RF   SMB   HML   RF\n",
       "Date                                                        \n",
       "2013-01-24 -0.001482   9.090956e+08    0.09  0.29  0.04  0.0\n",
       "2013-01-25  0.002712   6.884876e+08    0.59 -0.14 -0.32  0.0\n",
       "2013-01-28 -0.000204   5.786674e+08   -0.14  0.41  0.15  0.0\n",
       "2013-01-29 -0.005053   7.375151e+08    0.36 -0.44  0.31  0.0\n",
       "2013-01-30 -0.001847   6.102349e+08   -0.38 -0.84  0.16  0.0"
      ]
     },
     "execution_count": 494,
     "metadata": {},
     "output_type": "execute_result"
    }
   ],
   "source": [
    "final.tail()"
   ]
  },
  {
   "cell_type": "code",
   "execution_count": 491,
   "metadata": {},
   "outputs": [
    {
     "name": "stdout",
     "output_type": "stream",
     "text": [
      "const    0.004176\n",
      "x1       0.005786\n",
      "x2      -0.006879\n",
      "dtype: float64\n"
     ]
    }
   ],
   "source": [
    "y= final['Return'][1:] - final['RF'][1:]\n",
    "x1= np.array(final['Mkt-RF'][:-1])\n",
    "\n",
    "x1b= np.array(final['Return'][:-1]-final['RF'][:-1])\n",
    "x1c = np.array(final['Dollar Volume'][:-1])\n",
    "x2 = np.sign(x1b*x1c)\n",
    "x3 = [x1,x2]\n",
    "n = np.size(x3)\n",
    "\n",
    "x = np.reshape(x3, [int(n/2),2])\n",
    "x = sm.add_constant(x)\n",
    "results = sm.OLS(y,x).fit()\n",
    "print(results.params)\n",
    "\n"
   ]
  },
  {
   "cell_type": "markdown",
   "metadata": {},
   "source": [
    "In the previous program, y is IBM's excess return at time t+1, x1 is the market excess\n",
    "return at time t, and x2 is the signed dollar trading volume at time t. The coefficient\n",
    "before x2 is Pastor and Stambaugh's liquidity measure. The corresponding output is given above."
   ]
  },
  {
   "cell_type": "markdown",
   "metadata": {},
   "source": [
    "## Fama-MacBeth regression\n",
    "First, let's look at the OLS regression by using the pandas.ols function as follows:"
   ]
  },
  {
   "cell_type": "code",
   "execution_count": 501,
   "metadata": {},
   "outputs": [
    {
     "name": "stdout",
     "output_type": "stream",
     "text": [
      "ret   -0.009658\n",
      "dtype: float64\n"
     ]
    }
   ],
   "source": [
    "import numpy as np\n",
    "import pandas as pd\n",
    "n = 252\n",
    "np.random.seed(12345)\n",
    "begdate=datetime.date(2013, 1, 2)\n",
    "dateRange = pd.date_range(begdate, periods=n)\n",
    "x0= pd.DataFrame(np.random.randn(n, 1),columns=['ret'],index=dateRange)\n",
    "y0= pd.Series(np.random.randn(n), index=dateRange)\n",
    "print (sm.OLS(y0, x0).fit().params)"
   ]
  },
  {
   "cell_type": "markdown",
   "metadata": {},
   "source": [
    "Just ignore this section - it appears the code is outdated and I'm uncertain as to what will replace it."
   ]
  },
  {
   "cell_type": "markdown",
   "metadata": {},
   "source": [
    "## Durbin Watson Test Statistic\n",
    "\n",
    "Durbin-Watson statistic is related auto-correlation. After we run a regression, the\n",
    "error term should have no correlation, with a mean zero. \n",
    "\n",
    "Here, et is the error term at time t, T is the total number of error term. The\n",
    "Durbin-Watson statistic tests the null hypothesis that the residuals from an ordinary\n",
    "least-squares regression are not auto-correlated against the alternative that the\n",
    "residuals follow an AR1 process. The Durbin-Watson statistic ranges in value from\n",
    "0 to 4. A value near 2 indicates non-autocorrelation; a value toward 0 indicates\n",
    "positive autocorrelation; a value toward 4 indicates negative autocorrelation.\n",
    "\n",
    "The following Python program runs a CAPM first by using daily data for IBM. The\n",
    "S&P500 is used as the index. The time period is from 1/1/2012 to 12/31/2016, a\n",
    "5-year window. The risk-free rate is ignored in this case. For the residual from the\n",
    "regression, a Durbin-Watson test is run to test its autocorrelation:\n"
   ]
  },
  {
   "cell_type": "code",
   "execution_count": 512,
   "metadata": {},
   "outputs": [
    {
     "name": "stdout",
     "output_type": "stream",
     "text": [
      "[*********************100%***********************]  1 of 1 completed\n",
      "[*********************100%***********************]  1 of 1 completed\n",
      "const   -0.000446\n",
      "X        0.883940\n",
      "dtype: float64\n",
      "Durbin Watson\n",
      "1.816250797254747\n"
     ]
    }
   ],
   "source": [
    "import statsmodels.stats.stattools as tools \n",
    "\n",
    "begdate=datetime.date(2012,1,1)\n",
    "enddate=datetime.date(2016,12,31)\n",
    "\n",
    "def dailyRet(ticker,begdate,enddate):\n",
    "    p =yf.download(ticker, start = begdate, end =enddate, rounding = True)\n",
    "    return p['Close'].pct_change().dropna()\n",
    "\n",
    "retIBM=dailyRet('IBM',begdate,enddate)\n",
    "retMkt=dailyRet('^GSPC',begdate,enddate)\n",
    "\n",
    "df = pd.DataFrame({\"Y\":retIBM, \"X\": retMkt})\n",
    "\n",
    "X = sm.add_constant(df['X'])\n",
    "result = sm.OLS(df['Y'], X).fit()\n",
    "print(result.params)\n",
    "residuals= result.resid\n",
    "print(\"Durbin Watson\")\n",
    "print(tools.durbin_watson(residuals))"
   ]
  },
  {
   "cell_type": "markdown",
   "metadata": {},
   "source": [
    "Based on these results, since Durbin Watson statistic < 2, the autocorrelation might be zero for the residuals from the CAPM for IBM. A more definitive answer can be provided by print(result.summary()) as seen below."
   ]
  },
  {
   "cell_type": "code",
   "execution_count": 513,
   "metadata": {},
   "outputs": [
    {
     "name": "stdout",
     "output_type": "stream",
     "text": [
      "                            OLS Regression Results                            \n",
      "==============================================================================\n",
      "Dep. Variable:                      Y   R-squared:                       0.368\n",
      "Model:                            OLS   Adj. R-squared:                  0.368\n",
      "Method:                 Least Squares   F-statistic:                     730.9\n",
      "Date:                Tue, 20 Feb 2024   Prob (F-statistic):          3.13e-127\n",
      "Time:                        14:14:52   Log-Likelihood:                 4088.2\n",
      "No. Observations:                1257   AIC:                            -8172.\n",
      "Df Residuals:                    1255   BIC:                            -8162.\n",
      "Df Model:                           1                                         \n",
      "Covariance Type:            nonrobust                                         \n",
      "==============================================================================\n",
      "                 coef    std err          t      P>|t|      [0.025      0.975]\n",
      "------------------------------------------------------------------------------\n",
      "const         -0.0004      0.000     -1.684      0.092      -0.001    7.35e-05\n",
      "X              0.8839      0.033     27.036      0.000       0.820       0.948\n",
      "==============================================================================\n",
      "Omnibus:                      702.524   Durbin-Watson:                   1.816\n",
      "Prob(Omnibus):                  0.000   Jarque-Bera (JB):            20359.780\n",
      "Skew:                          -2.031   Prob(JB):                         0.00\n",
      "Kurtosis:                      22.293   Cond. No.                         124.\n",
      "==============================================================================\n",
      "\n",
      "Notes:\n",
      "[1] Standard Errors assume that the covariance matrix of the errors is correctly specified.\n"
     ]
    }
   ],
   "source": [
    "print(result.summary())"
   ]
  }
 ],
 "metadata": {
  "kernelspec": {
   "display_name": "Python 3",
   "language": "python",
   "name": "python3"
  },
  "language_info": {
   "codemirror_mode": {
    "name": "ipython",
    "version": 3
   },
   "file_extension": ".py",
   "mimetype": "text/x-python",
   "name": "python",
   "nbconvert_exporter": "python",
   "pygments_lexer": "ipython3",
   "version": "3.10.10"
  }
 },
 "nbformat": 4,
 "nbformat_minor": 2
}
