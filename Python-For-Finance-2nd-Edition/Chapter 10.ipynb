{
 "cells": [
  {
   "cell_type": "markdown",
   "metadata": {},
   "source": [
    "# Chapter 10: Options and Futures\n",
    "\n",
    "In modern finance, the option theory (including futures and forwards) and its\n",
    "applications play an important role. Many trading strategies, corporate incentive\n",
    "plans, and hedging strategies include various types of options. For example, many\n",
    "executive incentive plans are based on stock options. Assume that an importer\n",
    "located in the US has just ordered a piece of machinery from England with a\n",
    "payment of £10 million in three months. The importer has a currency risk (or\n",
    "exchange rate risk). If the pound depreciates against the US dollar, the importer\n",
    "would be better off since he/she pays less US dollars to buy £10 million. On the\n",
    "contrary, if the pound appreciates against the US dollar, then the importer would\n",
    "suffer a loss. There are several ways that the importer could avoid or reduce such\n",
    "a risk: buy pounds right now, enter a futures market to buy pounds with a fixed\n",
    "exchange rate determined today, or long a call option with a fixed exercise price.\n",
    "In this chapter, we will explain the option theory and its related applications. In\n",
    "particular, the following topics will be covered:\n",
    "\n",
    "• How to hedge currency risk, a market-wide short-term downturn\n",
    "\n",
    "• Payoff and profit/loss functions for calls and puts and their graphical\n",
    "representations\n",
    "\n",
    "• European versus American options\n",
    "\n",
    "• Normal distribution, standard normal distribution, and cumulative\n",
    "normal distribution\n",
    "\n",
    "• Black-Scholes-Merton option model with/without dividend\n",
    "\n",
    "• Various trading strategies and their visual presentations, such as covered\n",
    "call, straddle, butterfly, and calendar spread\n",
    "\n",
    "• Delta, gamma, and other Greeks\n",
    "\n",
    "• The put-call parity and its graphical representation\n",
    "\n",
    "• Graphical representation for a one-step and a two-step binomial tree model\n",
    "\n",
    "• Using the binomial tree method to price both European and American options\n",
    "\n",
    "• Implied volatility, volatility smile and skewness"
   ]
  },
  {
   "cell_type": "markdown",
   "metadata": {},
   "source": [
    "Options theory is an integral part of finance theory. It is difficult to image that\n",
    "a finance student would not understand it. However, it is quite demanding to\n",
    "comprehend the theory thoroughly. Many finance-major students view options\n",
    "theory as rocket science, since it involves how to solve various differential equations.\n",
    "In order to satisfy as many readers as possible, in this chapter we avoid complex\n",
    "mathematical derivations.\n",
    "\n",
    "An option would give the option buyer a right to buy or sell something in the future\n",
    "with a fixed price determined today. If the buyer has a right to buy something in\n",
    "the future, it is called a call option. If the option buyer is entitled to sell something,\n",
    "it is called a put option. Since there are two persons (sides) for each transaction, the\n",
    "buyer pays to acquire a right, while the seller receives cash inflow today to bear an\n",
    "obligation. Unlike options, a futures contract would give the buyer and seller both\n",
    "rights and obligations. Unlike options with an initial cash flow from buyer to seller,\n",
    "for a futures contract, usually there is no initial cash flow. Forward contracts are\n",
    "quite similar to future contracts with a few exceptions. In this chapter, these two\n",
    "types of contracts (futures and forwards) are not distinguished. A forward contract\n",
    "is easier to analyze than a future contract. If a reader wants a more in-depth analysis,\n",
    "he/she should consult other related textbooks."
   ]
  },
  {
   "cell_type": "markdown",
   "metadata": {},
   "source": [
    "## Introducing Futures\n",
    "\n",
    "Before discussing the basic concepts and formulas related to futures, let's review\n",
    "the concept of continuously compounded interest rates. In Chapter 3, Time Value of\n",
    "Money, we learned that the following formula could be applied to estimate the future\n",
    "value of a given present value. \n",
    "\n",
    "Here, FV is the future value, PV is the present value, R is the effective period rate and\n",
    "n is the number of periods. For example, assume that the Annual Percentage Rate\n",
    "(APR) is 8%, compounded semiannually. If we deposit $100 today, what is its future\n",
    "value in two years? The following code shows the result:"
   ]
  },
  {
   "cell_type": "code",
   "execution_count": 4,
   "metadata": {},
   "outputs": [
    {
     "name": "stdout",
     "output_type": "stream",
     "text": [
      "-116.98585600000003\n"
     ]
    }
   ],
   "source": [
    "# This illustrates the future value calculator\n",
    "import numpy_financial as npf\n",
    "pv=100\n",
    "APR=0.08\n",
    "rate=APR/2.0\n",
    "\n",
    "n=2\n",
    "nper=n*2\n",
    "fv=npf.fv(rate,nper,0,pv)\n",
    "print(fv)"
   ]
  },
  {
   "cell_type": "markdown",
   "metadata": {},
   "source": [
    "The future value is $116.99. In the preceding program, the effective semiannual\n",
    "rate is 4% since the APR is 8% compounded semiannually. In options theory, riskfree rates and dividend yields are defined as continuously compounded. It is easy to derive the relationship between an effective (or APR) rate and a continuously\n",
    "compounded rate."
   ]
  },
  {
   "cell_type": "code",
   "execution_count": 5,
   "metadata": {},
   "outputs": [
    {
     "name": "stdout",
     "output_type": "stream",
     "text": [
      "0.040000000000000036\n"
     ]
    }
   ],
   "source": [
    "import numpy as np\n",
    "Rc=2*np.log(1+0.04)\n",
    "print(np.exp(Rc/2)-1)"
   ]
  },
  {
   "cell_type": "markdown",
   "metadata": {},
   "source": [
    "Let's now estimate the APR from the R(c) - continuously compounded rate.\n",
    "\n",
    "For a futures contract, let's use the preceding example of an importer in the US who\n",
    "is going to pay £10 million in three months. Usually, there are two ways to present\n",
    "an exchange rate: value of the first currency per unit of the second currency, and the\n",
    "opposite. Let's treat US as domestic and England as foreign, and the exchange rate is\n",
    "quoted in dollars per pound. Assume that today the exchange rate is £1 = 1.25 USD,\n",
    "the domestic interest rate is 1% and the foreign interest rate (in England) is 2%. The\n",
    "following codes show how much we need today in terms of pounds and US dollars:"
   ]
  },
  {
   "cell_type": "code",
   "execution_count": 6,
   "metadata": {},
   "outputs": [
    {
     "name": "stdout",
     "output_type": "stream",
     "text": [
      "Pound needed today= 4.975062395963412\n",
      "US dollar needed today 6.218827994954265\n"
     ]
    }
   ],
   "source": [
    "import numpy as np\n",
    "amount=5\n",
    "r_foreign=0.02\n",
    "T=3./12. # time, in this case 3 months out of the year (12 months total)\n",
    "exchangeRateToday=1.25\n",
    "poundToday=5*np.exp(-r_foreign*T)\n",
    "print(\"Pound needed today=\", poundToday)\n",
    "usToday=exchangeRateToday*poundToday\n",
    "print(\"US dollar needed today\", usToday)"
   ]
  },
  {
   "cell_type": "markdown",
   "metadata": {},
   "source": [
    "The result shows that we would need £4.975 million today to satisfy the payment\n",
    "of £5 million in three months, since we could deposit £4.975 million in a bank to\n",
    "earn extra interest (at 1%). If the importer has no pounds, they could spend $6.2188\n",
    "million US dollars to purchase the amount of pounds today. Alternatively, the\n",
    "importer could long a future contract (or a few future contracts) to purchase pounds\n",
    "in three months with a fixed exchange rate determined today. \n",
    "\n",
    "The following python program shows the future price today:"
   ]
  },
  {
   "cell_type": "code",
   "execution_count": 8,
   "metadata": {},
   "outputs": [
    {
     "name": "stdout",
     "output_type": "stream",
     "text": [
      "futures= 1.246878902996825\n"
     ]
    }
   ],
   "source": [
    "import numpy as np\n",
    "def futuresExchangeRate(s0,rateDomestic,rateForeign,T):\n",
    "    '''Takes an exchange rate s0, a domestic interest rate, a foreign interest rate, and a time measure (as a fraction of a year).\n",
    "        Returns the future exchange rate between the two currencies.'''\n",
    "    futureEx=s0*np.exp((rateDomestic-rateForeign)*T)\n",
    "    return futureEx\n",
    "\n",
    "s0=1.25\n",
    "rHome=0.01\n",
    "rForeigh=0.02\n",
    "T=3./12.\n",
    "#\n",
    "futures=futuresExchangeRate(s0,rHome,rForeigh,T)\n",
    "print(\"futures=\",futures)"
   ]
  },
  {
   "cell_type": "markdown",
   "metadata": {},
   "source": [
    "Based on the result, the exchange rate in three months should be 1.2468789 US\n",
    "dollars per pound. In other words, US dollars should have depreciated against the\n",
    "British pound. The reason is based on the two interest rates. Here is the logic based\n",
    "on the no arbitrage principle. Assume that we have $1.25 USD today. We have two\n",
    "choices: deposit in a US bank to enjoy 2%, or exchange it for 1 pound and deposit\n",
    "it in a foreign bank, enjoying 1%. Assume further, if the future exchange rate is not\n",
    "1.246879, we would have an arbitrate opportunity. Just assume that the futures price\n",
    "(for exchange rate) is $1.26 indicating that the pound is overvalued relative to the\n",
    "US dollar. An arbitrator would buy low and sell high, that is, short futures. Assume\n",
    "that we have one pound obligation in three months. Here is the arbitrage strategy:\n",
    "borrow $1.25 (USD) and sell one pound in three months with a future price of $1.26.\n",
    "At the end of three months, here is the profit of our arbitrage:"
   ]
  },
  {
   "cell_type": "code",
   "execution_count": 9,
   "metadata": {},
   "outputs": [
    {
     "name": "stdout",
     "output_type": "stream",
     "text": [
      "profit in USD = 0.013121097003174764\n"
     ]
    }
   ],
   "source": [
    "import numpy as np\n",
    "obligationForeign=1.0 # how much to pay in 3 months\n",
    "f=1.26 # future price\n",
    "s0=1.25 # today's exchange rate\n",
    "rHome=0.01\n",
    "rForeign=0.02\n",
    "T=3./12.\n",
    "todayObligationForeign=obligationForeign*np.exp(-rForeign*T)\n",
    "usBorrow=todayObligationForeign*s0\n",
    "costDollarBorrow=usBorrow*np.exp(rHome*T)\n",
    "profit=f*obligationForeign-costDollarBorrow\n",
    "print(\"profit in USD =\", profit)"
   ]
  },
  {
   "cell_type": "markdown",
   "metadata": {},
   "source": [
    "The profit is 0.015 USD. If the future price is lower than 1.246878902996825, an\n",
    "arbitrager would take an opposite position, that is, long a future contract."
   ]
  },
  {
   "cell_type": "markdown",
   "metadata": {},
   "source": [
    "Let's see the action of trading futures in practice. Assume John Doe is managing a portfolio worth $50\n",
    "million today and his portfolio has a beta of 1.10 with S&P500. He is worried that the\n",
    "market might go down in the next six months. It is not feasible to sell his portfolio or\n",
    "part of it because of the transaction costs. Assume that in the short term, his target\n",
    "beta is zero. For each point of S&P500, the price is $250. Since today's S&P500 is\n",
    "2297.41, the value of one futures contract is $5,743,550. The number of contracts John\n",
    "should short (or long) is given here:"
   ]
  },
  {
   "cell_type": "code",
   "execution_count": 10,
   "metadata": {},
   "outputs": [
    {
     "name": "stdout",
     "output_type": "stream",
     "text": [
      "number of contracts SP500 futures= -95.75959119359979\n"
     ]
    }
   ],
   "source": [
    "import numpy as np\n",
    "# input area\n",
    "todaySP500index=2297.42\n",
    "valuePortfolio=50e6\n",
    "betaPortfolio=1.1\n",
    "betaTarget=0\n",
    "#\n",
    "priceEachPoint=250\n",
    "\n",
    "contractFuturesSP500=todaySP500index*priceEachPoint\n",
    "n=(betaTarget-betaPortfolio)*valuePortfolio/contractFuturesSP500\n",
    "print(\"number of contracts SP500 futures=\",n)"
   ]
  },
  {
   "cell_type": "markdown",
   "metadata": {},
   "source": [
    "A negative value indicates a short position. John Doe should short 96 S&P500 futures\n",
    "contracts. This is consistent with common sense, since the portfolio is positively\n",
    "correlated with the S&P500 index. The following program shows the profit or loss\n",
    "with and without hedging when the S&P500 index level falls 97 points:"
   ]
  },
  {
   "cell_type": "code",
   "execution_count": 12,
   "metadata": {},
   "outputs": [
    {
     "name": "stdout",
     "output_type": "stream",
     "text": [
      "number of contracts= -96.0\n",
      "loss from portfolio= -2120204.403200113\n",
      "gain from futures contract= 2338080.000000002\n",
      "net= 217875.59679988865\n"
     ]
    }
   ],
   "source": [
    "# input area\n",
    "import numpy as np\n",
    "sp500indexToday=2297.42\n",
    "valuePortfolio=50e6\n",
    "betaPortfolio=1.1\n",
    "betaTarget=0\n",
    "sp500indexNmonthsLater=2200.0\n",
    "#\n",
    "priceEachPoint=250\n",
    "contractFuturesSP500=sp500indexToday*priceEachPoint\n",
    "n=(betaTarget-betaPortfolio)*valuePortfolio/contractFuturesSP500\n",
    "mySign=np.sign(n)\n",
    "n2=mySign*np.ceil(abs(n))\n",
    "print(\"number of contracts=\",n2)\n",
    "# hedging result\n",
    "v1=sp500indexToday\n",
    "v2=sp500indexNmonthsLater\n",
    "lossFromPortfolio=valuePortfolio*(v2-v1)/v1\n",
    "gainFromFutures=n2*(v2-v1)*priceEachPoint\n",
    "net=gainFromFutures+lossFromPortfolio\n",
    "print(\"loss from portfolio=\", lossFromPortfolio)\n",
    "print(\"gain from futures contract=\", gainFromFutures)\n",
    "print(\"net=\", net)"
   ]
  },
  {
   "cell_type": "markdown",
   "metadata": {},
   "source": [
    "From the last three lines, we know that without hedging, the loss in portfolio value\n",
    "would be $2.12 million. On the other hand, after shorting 96 S&P500 futures contracts,\n",
    "the net loss is only $217,876 after the S&P500 index falls 98 points in six months. With\n",
    "a few different potential S&P500 index levels, we could find out their related hedging\n",
    "and no-hedging results. Such a hedging strategy is usually called portfolio insurance."
   ]
  },
  {
   "cell_type": "markdown",
   "metadata": {},
   "source": [
    "## Payoff and profit/loss functions for call and put options"
   ]
  }
 ],
 "metadata": {
  "kernelspec": {
   "display_name": "Python 3",
   "language": "python",
   "name": "python3"
  },
  "language_info": {
   "codemirror_mode": {
    "name": "ipython",
    "version": 3
   },
   "file_extension": ".py",
   "mimetype": "text/x-python",
   "name": "python",
   "nbconvert_exporter": "python",
   "pygments_lexer": "ipython3",
   "version": "3.10.10"
  }
 },
 "nbformat": 4,
 "nbformat_minor": 2
}
