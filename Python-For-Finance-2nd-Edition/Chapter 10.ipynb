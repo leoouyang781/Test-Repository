{
 "cells": [
  {
   "cell_type": "markdown",
   "metadata": {},
   "source": [
    "# Chapter 10: Options and Futures\n",
    "\n",
    "In modern finance, the option theory (including futures and forwards) and its\n",
    "applications play an important role. Many trading strategies, corporate incentive\n",
    "plans, and hedging strategies include various types of options. For example, many\n",
    "executive incentive plans are based on stock options. Assume that an importer\n",
    "located in the US has just ordered a piece of machinery from England with a\n",
    "payment of £10 million in three months. The importer has a currency risk (or\n",
    "exchange rate risk). If the pound depreciates against the US dollar, the importer\n",
    "would be better off since he/she pays less US dollars to buy £10 million. On the\n",
    "contrary, if the pound appreciates against the US dollar, then the importer would\n",
    "suffer a loss. There are several ways that the importer could avoid or reduce such\n",
    "a risk: buy pounds right now, enter a futures market to buy pounds with a fixed\n",
    "exchange rate determined today, or long a call option with a fixed exercise price.\n",
    "In this chapter, we will explain the option theory and its related applications. In\n",
    "particular, the following topics will be covered:\n",
    "\n",
    "• How to hedge currency risk, a market-wide short-term downturn\n",
    "\n",
    "• Payoff and profit/loss functions for calls and puts and their graphical\n",
    "representations\n",
    "\n",
    "• European versus American options\n",
    "\n",
    "• Normal distribution, standard normal distribution, and cumulative\n",
    "normal distribution\n",
    "\n",
    "• Black-Scholes-Merton option model with/without dividend\n",
    "\n",
    "• Various trading strategies and their visual presentations, such as covered\n",
    "call, straddle, butterfly, and calendar spread\n",
    "\n",
    "• Delta, gamma, and other Greeks\n",
    "\n",
    "• The put-call parity and its graphical representation\n",
    "\n",
    "• Graphical representation for a one-step and a two-step binomial tree model\n",
    "\n",
    "• Using the binomial tree method to price both European and American options\n",
    "\n",
    "• Implied volatility, volatility smile and skewness"
   ]
  },
  {
   "cell_type": "code",
   "execution_count": null,
   "metadata": {},
   "outputs": [],
   "source": []
  }
 ],
 "metadata": {
  "language_info": {
   "name": "python"
  }
 },
 "nbformat": 4,
 "nbformat_minor": 2
}
