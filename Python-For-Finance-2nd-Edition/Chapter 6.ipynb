{
 "cells": [
  {
   "cell_type": "markdown",
   "metadata": {},
   "source": [
    "# Chapter 6: Capital Asset Pricing Model (CAPM)\n",
    "\n",
    "Capital Asset Pricing Model (CAPM) is probably the most widely used model\n",
    "in assets pricing. There are several reasons behind its popularity. First, it is quite\n",
    "simple since it is a one-factor linear model. Second, it is quite easy to implement this\n",
    "one-factor model. Any interested reader could download historical price data for a\n",
    "listed company and market index data to calculate return first, and then estimate the\n",
    "market risk for the stock.\n",
    "\n",
    "As noted on our other set of notes, we will start with a simple OLS regression as a means of calculating CAPM. Let's first test OLS in python."
   ]
  },
  {
   "cell_type": "code",
   "execution_count": 6,
   "metadata": {},
   "outputs": [
    {
     "name": "stdout",
     "output_type": "stream",
     "text": [
      "0.5077431878770808 -0.008481900352462384\n",
      "R-squared= 0.1478856629663111\n",
      "p-value = 0.5227155239089462\n"
     ]
    }
   ],
   "source": [
    "from scipy import stats \n",
    "# We calculate the slope of the linear regression and other results based on the returns of the stock vs those of the risk free rate.\n",
    "\n",
    "stock_ret = [0.065, 0.0265, -0.0593, -0.001,0.0346] \n",
    "mkt_ret = [0.055, -0.09, -0.041,0.045,0.022] \n",
    "(beta, alpha, r_value, p_value, std_err) = stats.linregress(stock_ret,mkt_ret) \n",
    "result = stats.linregress(stock_ret,mkt_ret) \n",
    "\n",
    "print(beta, alpha) \n",
    "print(\"R-squared=\", r_value**2)\n",
    "print(\"p-value =\", p_value)"
   ]
  },
  {
   "cell_type": "markdown",
   "metadata": {},
   "source": [
    "In this context, the lingress function from scipy.stats is used to run the linear regression."
   ]
  },
  {
   "cell_type": "code",
   "execution_count": null,
   "metadata": {},
   "outputs": [],
   "source": []
  }
 ],
 "metadata": {
  "kernelspec": {
   "display_name": "Python 3",
   "language": "python",
   "name": "python3"
  },
  "language_info": {
   "codemirror_mode": {
    "name": "ipython",
    "version": 3
   },
   "file_extension": ".py",
   "mimetype": "text/x-python",
   "name": "python",
   "nbconvert_exporter": "python",
   "pygments_lexer": "ipython3",
   "version": "3.10.10"
  }
 },
 "nbformat": 4,
 "nbformat_minor": 2
}
