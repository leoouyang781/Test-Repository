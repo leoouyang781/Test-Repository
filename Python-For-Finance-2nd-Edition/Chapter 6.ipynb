{
 "cells": [
  {
   "cell_type": "markdown",
   "metadata": {},
   "source": [
    "# Chapter 6: Capital Asset Pricing Model (CAPM)\n",
    "\n",
    "Capital Asset Pricing Model (CAPM) is probably the most widely used model\n",
    "in assets pricing. There are several reasons behind its popularity. First, it is quite\n",
    "simple since it is a one-factor linear model. Second, it is quite easy to implement this\n",
    "one-factor model. Any interested reader could download historical price data for a\n",
    "listed company and market index data to calculate return first, and then estimate the\n",
    "market risk for the stock.\n",
    "\n",
    "As noted on our other set of notes, we will start with a simple OLS regression as a means of calculating CAPM. Let's first test OLS in python. We will build on from there."
   ]
  },
  {
   "cell_type": "code",
   "execution_count": 15,
   "metadata": {},
   "outputs": [
    {
     "name": "stdout",
     "output_type": "stream",
     "text": [
      "0.5077431878770808 -0.008481900352462384\n",
      "R-squared= 0.1478856629663111\n",
      "p-value = 0.5227155239089462\n"
     ]
    }
   ],
   "source": [
    "from scipy import stats \n",
    "# We calculate the slope of the linear regression and other results based on the returns of the stock vs those of the risk free rate.\n",
    "\n",
    "stock_ret = [0.065, 0.0265, -0.0593, -0.001,0.0346] \n",
    "mkt_ret = [0.055, -0.09, -0.041,0.045,0.022] \n",
    "(beta, alpha, r_value, p_value, std_err) = stats.linregress(stock_ret,mkt_ret) \n",
    "result = stats.linregress(stock_ret,mkt_ret) \n",
    "\n",
    "print(beta, alpha) \n",
    "print(\"R-squared=\", r_value**2)\n",
    "print(\"p-value =\", p_value)"
   ]
  },
  {
   "cell_type": "markdown",
   "metadata": {},
   "source": [
    "In this context, the lingress function from scipy.stats is used to run the linear regression.\n",
    "\n",
    "Calculate a linear least-squares regression for two sets of measurements.\n",
    "Parameters x, y: array like two sets of measurements. Both arrays should have the\n",
    "same length. If only x is given (and y=None), then it must be a two- dimensional\n",
    "array where one dimension has length 2. The two sets of measurements are then\n",
    "found by splitting the array along the length-2 dimension."
   ]
  },
  {
   "cell_type": "markdown",
   "metadata": {},
   "source": [
    "Consider the following random OLS:"
   ]
  },
  {
   "cell_type": "code",
   "execution_count": 16,
   "metadata": {},
   "outputs": [
    {
     "name": "stdout",
     "output_type": "stream",
     "text": [
      "-1.9648401142472736   1.2521836174247123\n",
      "R-squared= 0.9998714319392581\n",
      "p-value = 1.7896498995951822e-192\n"
     ]
    }
   ],
   "source": [
    "from scipy import stats \n",
    "import scipy as sp\n",
    "import numpy as np\n",
    "np.random.seed(12456)\n",
    "alpha=1.0\n",
    "beta=0.8\n",
    "n=100\n",
    "x=np.arange(n)\n",
    "y=alpha+beta*x+np.random.rand(n)\n",
    "(beta, alpha, r_value, p_value, std_err) = stats.linregress(y,x) \n",
    "print(alpha,\" \",beta) \n",
    "print(\"R-squared=\", r_value**2)\n",
    "print(\"p-value =\", p_value)"
   ]
  },
  {
   "cell_type": "markdown",
   "metadata": {},
   "source": [
    "Now let's look at how to estimate the beta (market risk) for IBM. Assume that\n",
    "we are interested in the period from 1/1/2012 to 12/31/2016, for a total of five year's\n",
    "data. The complete Python program is shown here:"
   ]
  },
  {
   "cell_type": "code",
   "execution_count": 17,
   "metadata": {},
   "outputs": [
    {
     "name": "stdout",
     "output_type": "stream",
     "text": [
      "[*********************100%***********************]  1 of 1 completed\n",
      "[*********************100%***********************]  1 of 1 completed\n"
     ]
    }
   ],
   "source": [
    "from scipy import stats\n",
    "import datetime\n",
    "import yfinance as yf\n",
    "\n",
    "begdate=datetime.datetime(2012,1,1)\n",
    "enddate=datetime.datetime(2016,12,31)\n",
    "\n",
    "ticker='IBM'\n",
    "\n",
    "p = yf.download(ticker, start=begdate, end=enddate, rounding=True)\n",
    "\n",
    "retIBM = p['Close'].pct_change()\n",
    "retIBM.dropna(inplace = True)\n",
    "\n",
    "ticker='^GSPC'\n",
    "p2 = yf.download(ticker, start=begdate, end=enddate, rounding=True)"
   ]
  },
  {
   "cell_type": "code",
   "execution_count": 19,
   "metadata": {},
   "outputs": [
    {
     "data": {
      "text/plain": [
       "Date\n",
       "2016-12-23   -0.002066\n",
       "2016-12-27    0.002572\n",
       "2016-12-28   -0.005695\n",
       "2016-12-29    0.002455\n",
       "2016-12-30   -0.003642\n",
       "Name: Close, dtype: float64"
      ]
     },
     "execution_count": 19,
     "metadata": {},
     "output_type": "execute_result"
    }
   ],
   "source": [
    "retIBM.tail()"
   ]
  },
  {
   "cell_type": "code",
   "execution_count": 20,
   "metadata": {},
   "outputs": [
    {
     "data": {
      "text/plain": [
       "Date\n",
       "2012-01-04    0.000188\n",
       "2012-01-05    0.002944\n",
       "2012-01-06   -0.002537\n",
       "2012-01-09    0.002262\n",
       "2012-01-10    0.008886\n",
       "                ...   \n",
       "2016-12-23    0.001252\n",
       "2016-12-27    0.002248\n",
       "2016-12-28   -0.008357\n",
       "2016-12-29   -0.000293\n",
       "2016-12-30   -0.004637\n",
       "Name: Close, Length: 1257, dtype: float64"
      ]
     },
     "execution_count": 20,
     "metadata": {},
     "output_type": "execute_result"
    }
   ],
   "source": [
    "p2.head()\n",
    "retMkt = p2['Close'].pct_change()\n",
    "retMkt.dropna(inplace = True)\n",
    "retMkt"
   ]
  },
  {
   "cell_type": "code",
   "execution_count": 21,
   "metadata": {},
   "outputs": [
    {
     "name": "stdout",
     "output_type": "stream",
     "text": [
      "-0.00044578724049263325   0.8839395914839311\n",
      "R-squared= 0.368053217815469\n",
      "p-value = 3.1333086492925723e-127\n"
     ]
    }
   ],
   "source": [
    "\n",
    "(beta,alpha,r_value,p_value,std_err)= stats.linregress(retMkt,retIBM)\n",
    "print(alpha,\" \",beta)\n",
    "print(\"R-squared=\", r_value**2)\n",
    "print(\"p-value =\", p_value)"
   ]
  },
  {
   "cell_type": "markdown",
   "metadata": {},
   "source": [
    "Consider the same with Walmart vs market (to calculate walmart beta)."
   ]
  },
  {
   "cell_type": "code",
   "execution_count": 22,
   "metadata": {},
   "outputs": [
    {
     "name": "stdout",
     "output_type": "stream",
     "text": [
      "[*********************100%***********************]  1 of 1 completed\n",
      "[*********************100%***********************]  1 of 1 completed\n",
      "LinregressResult(slope=0.5556588242814646, intercept=-0.00010255384277240806, rvalue=0.4264174598854203, pvalue=1.071193221868994e-56, stderr=0.0332715212666925, intercept_stderr=0.0002693501961726079)\n"
     ]
    }
   ],
   "source": [
    "ticker = 'WMT'\n",
    "p = yf.download(ticker, start=begdate, end=enddate, rounding=True)\n",
    "\n",
    "retWMT = p['Close'].pct_change()\n",
    "retWMT.dropna(inplace = True)\n",
    "\n",
    "ticker='^GSPC'\n",
    "p2 = yf.download(ticker, start=begdate, end=enddate, rounding=True)\n",
    "\n",
    "retMkt = p2['Close'].pct_change()\n",
    "retMkt.dropna(inplace = True)\n",
    "\n",
    "output = stats.linregress(retMkt, retWMT)\n",
    "print(output)"
   ]
  },
  {
   "cell_type": "markdown",
   "metadata": {},
   "source": [
    "## Moving Beta\n",
    "Sometimes, researchers need to generate a beta time series based on, for example,\n",
    "a three-year moving window. In such cases, we could write a loop or double loops.\n",
    "Let's look at a simpler case: estimating the annual beta for IBM over several years.\n",
    "First, let's look at two ways of getting years from a date variable:"
   ]
  },
  {
   "cell_type": "code",
   "execution_count": 23,
   "metadata": {},
   "outputs": [
    {
     "name": "stdout",
     "output_type": "stream",
     "text": [
      "2024\n"
     ]
    }
   ],
   "source": [
    "import datetime\n",
    "today=datetime.date.today()\n",
    "year=today.year # Method I\n",
    "print(year)"
   ]
  },
  {
   "cell_type": "code",
   "execution_count": 29,
   "metadata": {},
   "outputs": [
    {
     "name": "stdout",
     "output_type": "stream",
     "text": [
      "02/04/24\n"
     ]
    }
   ],
   "source": [
    "print(today.strftime(\"%D\")) # Method II"
   ]
  },
  {
   "cell_type": "markdown",
   "metadata": {},
   "source": [
    "The Python program used to estimate the annual beta is shown here:"
   ]
  },
  {
   "cell_type": "code",
   "execution_count": 30,
   "metadata": {},
   "outputs": [
    {
     "name": "stdout",
     "output_type": "stream",
     "text": [
      "[*********************100%***********************]  1 of 1 completed\n",
      "[*********************100%***********************]  1 of 1 completed\n",
      "[*********************100%***********************]  1 of 1 completed\n"
     ]
    }
   ],
   "source": [
    "import numpy as np\n",
    "import scipy as sp\n",
    "import pandas as pd\n",
    "\n",
    "\n",
    "def ret_f(ticker,begdate, enddate):\n",
    "    p = yf.download(ticker, start=begdate, end=enddate, rounding=True)\n",
    "    return(p['Close'].pct_change())\n",
    "#\n",
    "begdate=datetime.datetime(2010,1,1)\n",
    "enddate=datetime.datetime(2016,12,31)\n",
    "#\n",
    "y0=pd.Series(ret_f('IBM',begdate,enddate))\n",
    "x0=pd.Series(ret_f('^GSPC',begdate,enddate))\n",
    "#\n",
    "d= yf.download('^GSPC', start=begdate, end=enddate, rounding=True)\n",
    "\n",
    "lag_year=d.index.strftime(\"%Y\")"
   ]
  },
  {
   "cell_type": "code",
   "execution_count": 31,
   "metadata": {},
   "outputs": [],
   "source": [
    "x0.dropna(inplace = True)\n",
    "y0.dropna(inplace = True)"
   ]
  },
  {
   "cell_type": "code",
   "execution_count": 34,
   "metadata": {},
   "outputs": [
    {
     "name": "stdout",
     "output_type": "stream",
     "text": [
      "Year =  2010 , Other stats:  0.00013638 0.79 0.784 0.0\n",
      "Year =  2011 , Other stats:  -0.00070584 0.813 0.784 0.0\n",
      "Year =  2012 , Other stats:  0.00042694 0.534 0.676 0.0\n",
      "Year =  2013 , Other stats:  0.00096439 0.258 0.441 0.0\n",
      "Year =  2014 , Other stats:  0.00065077 0.318 0.48 0.0\n",
      "Year =  2015 , Other stats:  0.00032761 0.541 0.743 0.0\n"
     ]
    }
   ],
   "source": [
    "y1=[]\n",
    "x1=[]\n",
    "beta=[]\n",
    "index0=[]\n",
    "year = d.index.strftime(\"%Y\")\n",
    "\n",
    "refyear = lag_year[0]\n",
    "for i in np.arange(0,len(d)-1):\n",
    "   if(year[i]==refyear):\n",
    "      x1.append(x0[i])\n",
    "      y1.append(y0[i])\n",
    "   else:\n",
    "      (beta,alpha,r_value,p_value,std_err) = stats.linregress(y1,x1) \n",
    "      alpha=round(alpha,8)\n",
    "      beta=round(beta,3)\n",
    "      r_value=round(r_value,3)\n",
    "      p_value=round(p_value,3)\n",
    "      print(\"Year = \",refyear,\", Other stats: \", alpha, beta, r_value, p_value)\n",
    "      x1=[]\n",
    "      y1=[]\n",
    "      refyear = year[i]"
   ]
  },
  {
   "cell_type": "markdown",
   "metadata": {},
   "source": [
    "## Adjusted beta\n"
   ]
  },
  {
   "cell_type": "markdown",
   "metadata": {},
   "source": [
    "Many researchers and professionals find that beta has a mean-reverting tendency. It\n",
    "means that if this period's beta is less than 1, there is a good chance that the next beta\n",
    "would be higher. On the other hand, if the current beta is higher than 1, the next beta\n",
    "might be smaller. The adjusted beta has the following formula:\n",
    "\n",
    "Adjusted Beta = Regression Beta (2/3) + 1.00 (1/3)"
   ]
  },
  {
   "cell_type": "markdown",
   "metadata": {},
   "source": [
    "The beta of a portfolio is the weighted beta of individual stocks within the portfolio. The calculation for this is pretty straightforward."
   ]
  },
  {
   "cell_type": "markdown",
   "metadata": {},
   "source": [
    "## Scholes and William adjusted beta\n",
    "\n",
    "We need to first find how to add lags to python."
   ]
  },
  {
   "cell_type": "code",
   "execution_count": 13,
   "metadata": {},
   "outputs": [
    {
     "data": {
      "text/html": [
       "<div>\n",
       "<style scoped>\n",
       "    .dataframe tbody tr th:only-of-type {\n",
       "        vertical-align: middle;\n",
       "    }\n",
       "\n",
       "    .dataframe tbody tr th {\n",
       "        vertical-align: top;\n",
       "    }\n",
       "\n",
       "    .dataframe thead th {\n",
       "        text-align: right;\n",
       "    }\n",
       "</style>\n",
       "<table border=\"1\" class=\"dataframe\">\n",
       "  <thead>\n",
       "    <tr style=\"text-align: right;\">\n",
       "      <th></th>\n",
       "      <th>Ret</th>\n",
       "      <th>Lag</th>\n",
       "    </tr>\n",
       "  </thead>\n",
       "  <tbody>\n",
       "    <tr>\n",
       "      <th>0</th>\n",
       "      <td>1.0</td>\n",
       "      <td>NaN</td>\n",
       "    </tr>\n",
       "    <tr>\n",
       "      <th>1</th>\n",
       "      <td>1.5</td>\n",
       "      <td>1.0</td>\n",
       "    </tr>\n",
       "    <tr>\n",
       "      <th>2</th>\n",
       "      <td>2.0</td>\n",
       "      <td>1.5</td>\n",
       "    </tr>\n",
       "    <tr>\n",
       "      <th>3</th>\n",
       "      <td>2.5</td>\n",
       "      <td>2.0</td>\n",
       "    </tr>\n",
       "    <tr>\n",
       "      <th>4</th>\n",
       "      <td>3.0</td>\n",
       "      <td>2.5</td>\n",
       "    </tr>\n",
       "    <tr>\n",
       "      <th>5</th>\n",
       "      <td>3.5</td>\n",
       "      <td>3.0</td>\n",
       "    </tr>\n",
       "    <tr>\n",
       "      <th>6</th>\n",
       "      <td>4.0</td>\n",
       "      <td>3.5</td>\n",
       "    </tr>\n",
       "    <tr>\n",
       "      <th>7</th>\n",
       "      <td>4.5</td>\n",
       "      <td>4.0</td>\n",
       "    </tr>\n",
       "  </tbody>\n",
       "</table>\n",
       "</div>"
      ],
      "text/plain": [
       "   Ret  Lag\n",
       "0  1.0  NaN\n",
       "1  1.5  1.0\n",
       "2  2.0  1.5\n",
       "3  2.5  2.0\n",
       "4  3.0  2.5\n",
       "5  3.5  3.0\n",
       "6  4.0  3.5\n",
       "7  4.5  4.0"
      ]
     },
     "execution_count": 13,
     "metadata": {},
     "output_type": "execute_result"
    }
   ],
   "source": [
    "import pandas as pd\n",
    "x=np.arange(1,5,0.5)\n",
    "y=pd.DataFrame(x,columns=['Ret'])\n",
    "y['Lag']=y.shift(1)\n",
    "y"
   ]
  },
  {
   "cell_type": "markdown",
   "metadata": {},
   "source": [
    "In the preceding program the .shift() function is applied. Since we need the\n",
    "market return one period ahead, we could specify a negative value of -1 in the\n",
    ".shift() function, see the following code:"
   ]
  },
  {
   "cell_type": "code",
   "execution_count": 14,
   "metadata": {},
   "outputs": [
    {
     "data": {
      "text/html": [
       "<div>\n",
       "<style scoped>\n",
       "    .dataframe tbody tr th:only-of-type {\n",
       "        vertical-align: middle;\n",
       "    }\n",
       "\n",
       "    .dataframe tbody tr th {\n",
       "        vertical-align: top;\n",
       "    }\n",
       "\n",
       "    .dataframe thead th {\n",
       "        text-align: right;\n",
       "    }\n",
       "</style>\n",
       "<table border=\"1\" class=\"dataframe\">\n",
       "  <thead>\n",
       "    <tr style=\"text-align: right;\">\n",
       "      <th></th>\n",
       "      <th>Ret</th>\n",
       "      <th>Lag</th>\n",
       "      <th>Forward</th>\n",
       "    </tr>\n",
       "  </thead>\n",
       "  <tbody>\n",
       "    <tr>\n",
       "      <th>0</th>\n",
       "      <td>1.0</td>\n",
       "      <td>NaN</td>\n",
       "      <td>1.5</td>\n",
       "    </tr>\n",
       "    <tr>\n",
       "      <th>1</th>\n",
       "      <td>1.5</td>\n",
       "      <td>1.0</td>\n",
       "      <td>2.0</td>\n",
       "    </tr>\n",
       "    <tr>\n",
       "      <th>2</th>\n",
       "      <td>2.0</td>\n",
       "      <td>1.5</td>\n",
       "      <td>2.5</td>\n",
       "    </tr>\n",
       "    <tr>\n",
       "      <th>3</th>\n",
       "      <td>2.5</td>\n",
       "      <td>2.0</td>\n",
       "      <td>3.0</td>\n",
       "    </tr>\n",
       "    <tr>\n",
       "      <th>4</th>\n",
       "      <td>3.0</td>\n",
       "      <td>2.5</td>\n",
       "      <td>3.5</td>\n",
       "    </tr>\n",
       "    <tr>\n",
       "      <th>5</th>\n",
       "      <td>3.5</td>\n",
       "      <td>3.0</td>\n",
       "      <td>4.0</td>\n",
       "    </tr>\n",
       "    <tr>\n",
       "      <th>6</th>\n",
       "      <td>4.0</td>\n",
       "      <td>3.5</td>\n",
       "      <td>4.5</td>\n",
       "    </tr>\n",
       "    <tr>\n",
       "      <th>7</th>\n",
       "      <td>4.5</td>\n",
       "      <td>4.0</td>\n",
       "      <td>NaN</td>\n",
       "    </tr>\n",
       "  </tbody>\n",
       "</table>\n",
       "</div>"
      ],
      "text/plain": [
       "   Ret  Lag  Forward\n",
       "0  1.0  NaN      1.5\n",
       "1  1.5  1.0      2.0\n",
       "2  2.0  1.5      2.5\n",
       "3  2.5  2.0      3.0\n",
       "4  3.0  2.5      3.5\n",
       "5  3.5  3.0      4.0\n",
       "6  4.0  3.5      4.5\n",
       "7  4.5  4.0      NaN"
      ]
     },
     "execution_count": 14,
     "metadata": {},
     "output_type": "execute_result"
    }
   ],
   "source": [
    "x=np.arange(1,5,0.5)\n",
    "y=pd.DataFrame(x,columns=['Ret'])\n",
    "y['Lag']=y.shift(1)\n",
    "y['Forward']=y['Ret'].shift(-1)\n",
    "y"
   ]
  },
  {
   "cell_type": "markdown",
   "metadata": {},
   "source": [
    "## Extracting output data\n",
    "\n",
    "In this section, we'll be discussing different ways to extract our output data to\n",
    "different file formats."
   ]
  },
  {
   "cell_type": "markdown",
   "metadata": {},
   "source": [
    "### Writing to text files\n",
    "\n",
    "See below for how we can write data to a text file."
   ]
  },
  {
   "cell_type": "code",
   "execution_count": 52,
   "metadata": {},
   "outputs": [
    {
     "name": "stdout",
     "output_type": "stream",
     "text": [
      "[*********************100%***********************]  1 of 1 completed\n"
     ]
    },
    {
     "data": {
      "text/html": [
       "<div>\n",
       "<style scoped>\n",
       "    .dataframe tbody tr th:only-of-type {\n",
       "        vertical-align: middle;\n",
       "    }\n",
       "\n",
       "    .dataframe tbody tr th {\n",
       "        vertical-align: top;\n",
       "    }\n",
       "\n",
       "    .dataframe thead th {\n",
       "        text-align: right;\n",
       "    }\n",
       "</style>\n",
       "<table border=\"1\" class=\"dataframe\">\n",
       "  <thead>\n",
       "    <tr style=\"text-align: right;\">\n",
       "      <th></th>\n",
       "      <th>Open</th>\n",
       "      <th>High</th>\n",
       "      <th>Low</th>\n",
       "      <th>Close</th>\n",
       "      <th>Adj Close</th>\n",
       "      <th>Volume</th>\n",
       "    </tr>\n",
       "    <tr>\n",
       "      <th>Date</th>\n",
       "      <th></th>\n",
       "      <th></th>\n",
       "      <th></th>\n",
       "      <th></th>\n",
       "      <th></th>\n",
       "      <th></th>\n",
       "    </tr>\n",
       "  </thead>\n",
       "  <tbody>\n",
       "    <tr>\n",
       "      <th>2012-01-03</th>\n",
       "      <td>26.55</td>\n",
       "      <td>26.96</td>\n",
       "      <td>26.39</td>\n",
       "      <td>26.77</td>\n",
       "      <td>21.28</td>\n",
       "      <td>64731500</td>\n",
       "    </tr>\n",
       "    <tr>\n",
       "      <th>2012-01-04</th>\n",
       "      <td>26.82</td>\n",
       "      <td>27.47</td>\n",
       "      <td>26.78</td>\n",
       "      <td>27.40</td>\n",
       "      <td>21.78</td>\n",
       "      <td>80516100</td>\n",
       "    </tr>\n",
       "    <tr>\n",
       "      <th>2012-01-05</th>\n",
       "      <td>27.38</td>\n",
       "      <td>27.73</td>\n",
       "      <td>27.29</td>\n",
       "      <td>27.68</td>\n",
       "      <td>22.00</td>\n",
       "      <td>56081400</td>\n",
       "    </tr>\n",
       "    <tr>\n",
       "      <th>2012-01-06</th>\n",
       "      <td>27.53</td>\n",
       "      <td>28.19</td>\n",
       "      <td>27.53</td>\n",
       "      <td>28.11</td>\n",
       "      <td>22.34</td>\n",
       "      <td>99455500</td>\n",
       "    </tr>\n",
       "    <tr>\n",
       "      <th>2012-01-09</th>\n",
       "      <td>28.05</td>\n",
       "      <td>28.10</td>\n",
       "      <td>27.72</td>\n",
       "      <td>27.74</td>\n",
       "      <td>22.05</td>\n",
       "      <td>59706800</td>\n",
       "    </tr>\n",
       "  </tbody>\n",
       "</table>\n",
       "</div>"
      ],
      "text/plain": [
       "             Open   High    Low  Close  Adj Close    Volume\n",
       "Date                                                       \n",
       "2012-01-03  26.55  26.96  26.39  26.77      21.28  64731500\n",
       "2012-01-04  26.82  27.47  26.78  27.40      21.78  80516100\n",
       "2012-01-05  27.38  27.73  27.29  27.68      22.00  56081400\n",
       "2012-01-06  27.53  28.19  27.53  28.11      22.34  99455500\n",
       "2012-01-09  28.05  28.10  27.72  27.74      22.05  59706800"
      ]
     },
     "execution_count": 52,
     "metadata": {},
     "output_type": "execute_result"
    }
   ],
   "source": [
    "import pandas as pd\n",
    "import numpy as np\n",
    "\n",
    "begdate =datetime.datetime(2012,1,1)\n",
    "enddate =datetime.datetime(2018,12,31)\n",
    "\n",
    "ticker='MSFT'\n",
    "\n",
    "df = yf.download(ticker, start=begdate, end=enddate, rounding=True)\n",
    "df.head()\n",
    "\n"
   ]
  },
  {
   "cell_type": "code",
   "execution_count": 53,
   "metadata": {},
   "outputs": [],
   "source": [
    "# Convert the DataFrame to a string with column names and index\n",
    "df_string = df.to_string(index=True)\n",
    "\n",
    "# Clear the text file completely\n",
    "with open(\"/opt/code/test_repo/Python-For-Finance-2nd-Edition/msft.txt\", \"r+\") as file:\n",
    "    file.truncate(0)\n",
    "\n",
    "# Write the string representation to the text file\n",
    "with open(\"/opt/code/test_repo/Python-For-Finance-2nd-Edition/msft.txt\", \"a\") as f:\n",
    "    f.write(df_string)"
   ]
  },
  {
   "cell_type": "markdown",
   "metadata": {},
   "source": [
    "Let's just see if we can read in a dataframe from the previous code's text file."
   ]
  },
  {
   "cell_type": "code",
   "execution_count": 62,
   "metadata": {},
   "outputs": [
    {
     "data": {
      "text/html": [
       "<div>\n",
       "<style scoped>\n",
       "    .dataframe tbody tr th:only-of-type {\n",
       "        vertical-align: middle;\n",
       "    }\n",
       "\n",
       "    .dataframe tbody tr th {\n",
       "        vertical-align: top;\n",
       "    }\n",
       "\n",
       "    .dataframe thead th {\n",
       "        text-align: right;\n",
       "    }\n",
       "</style>\n",
       "<table border=\"1\" class=\"dataframe\">\n",
       "  <thead>\n",
       "    <tr style=\"text-align: right;\">\n",
       "      <th></th>\n",
       "      <th>Unnamed: 0</th>\n",
       "      <th>Open</th>\n",
       "      <th>High</th>\n",
       "      <th>Low</th>\n",
       "      <th>Close</th>\n",
       "      <th>Adj</th>\n",
       "      <th>Close.1</th>\n",
       "      <th>Volume</th>\n",
       "    </tr>\n",
       "  </thead>\n",
       "  <tbody>\n",
       "    <tr>\n",
       "      <th>0</th>\n",
       "      <td>Date</td>\n",
       "      <td>NaN</td>\n",
       "      <td>NaN</td>\n",
       "      <td>NaN</td>\n",
       "      <td>NaN</td>\n",
       "      <td>NaN</td>\n",
       "      <td>NaN</td>\n",
       "      <td>NaN</td>\n",
       "    </tr>\n",
       "    <tr>\n",
       "      <th>1</th>\n",
       "      <td>2012-01-03</td>\n",
       "      <td>26.55</td>\n",
       "      <td>26.96</td>\n",
       "      <td>26.39</td>\n",
       "      <td>26.77</td>\n",
       "      <td>NaN</td>\n",
       "      <td>21.28</td>\n",
       "      <td>64731500.0</td>\n",
       "    </tr>\n",
       "    <tr>\n",
       "      <th>2</th>\n",
       "      <td>2012-01-04</td>\n",
       "      <td>26.82</td>\n",
       "      <td>27.47</td>\n",
       "      <td>26.78</td>\n",
       "      <td>27.40</td>\n",
       "      <td>NaN</td>\n",
       "      <td>21.78</td>\n",
       "      <td>80516100.0</td>\n",
       "    </tr>\n",
       "    <tr>\n",
       "      <th>3</th>\n",
       "      <td>2012-01-05</td>\n",
       "      <td>27.38</td>\n",
       "      <td>27.73</td>\n",
       "      <td>27.29</td>\n",
       "      <td>27.68</td>\n",
       "      <td>NaN</td>\n",
       "      <td>22.00</td>\n",
       "      <td>56081400.0</td>\n",
       "    </tr>\n",
       "    <tr>\n",
       "      <th>4</th>\n",
       "      <td>2012-01-06</td>\n",
       "      <td>27.53</td>\n",
       "      <td>28.19</td>\n",
       "      <td>27.53</td>\n",
       "      <td>28.11</td>\n",
       "      <td>NaN</td>\n",
       "      <td>22.34</td>\n",
       "      <td>99455500.0</td>\n",
       "    </tr>\n",
       "  </tbody>\n",
       "</table>\n",
       "</div>"
      ],
      "text/plain": [
       "   Unnamed: 0   Open   High    Low  Close  Adj  Close.1      Volume\n",
       "0        Date    NaN    NaN    NaN    NaN  NaN      NaN         NaN\n",
       "1  2012-01-03  26.55  26.96  26.39  26.77  NaN    21.28  64731500.0\n",
       "2  2012-01-04  26.82  27.47  26.78  27.40  NaN    21.78  80516100.0\n",
       "3  2012-01-05  27.38  27.73  27.29  27.68  NaN    22.00  56081400.0\n",
       "4  2012-01-06  27.53  28.19  27.53  28.11  NaN    22.34  99455500.0"
      ]
     },
     "execution_count": 62,
     "metadata": {},
     "output_type": "execute_result"
    }
   ],
   "source": [
    "default_path = '/opt/code/test_repo/Python-For-Finance-2nd-Edition/'\n",
    "name = 'msft.txt'\n",
    "df = pd.read_fwf(default_path + name)\n",
    "\n",
    "df.head()"
   ]
  },
  {
   "cell_type": "markdown",
   "metadata": {},
   "source": [
    "Clearly this shows that a text file probably isn't the best way to store information. CSV is likely preferable."
   ]
  }
 ],
 "metadata": {
  "kernelspec": {
   "display_name": "Python 3",
   "language": "python",
   "name": "python3"
  },
  "language_info": {
   "codemirror_mode": {
    "name": "ipython",
    "version": 3
   },
   "file_extension": ".py",
   "mimetype": "text/x-python",
   "name": "python",
   "nbconvert_exporter": "python",
   "pygments_lexer": "ipython3",
   "version": "3.10.10"
  }
 },
 "nbformat": 4,
 "nbformat_minor": 2
}
